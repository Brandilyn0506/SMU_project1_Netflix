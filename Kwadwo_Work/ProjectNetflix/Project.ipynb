{
 "cells": [
  {
   "cell_type": "code",
   "execution_count": null,
   "id": "aefde7d2",
   "metadata": {},
   "outputs": [],
   "source": [
    "import pandas as pd\n",
    "import scipy.stats as stats\n",
    "%matplotlib inline\n",
    "from matplotlib import pyplot as plt\n",
    "import numpy as np\n",
    "import seaborn as sns"
   ]
  },
  {
   "cell_type": "code",
   "execution_count": null,
   "id": "3b15ae38",
   "metadata": {},
   "outputs": [],
   "source": []
  },
  {
   "cell_type": "code",
   "execution_count": null,
   "id": "8c4005fb",
   "metadata": {},
   "outputs": [],
   "source": [
    "net_movie = pd.read_csv(\"Resources/netflix_titles.csv\")\n",
    "net_movie"
   ]
  },
  {
   "cell_type": "code",
   "execution_count": null,
   "id": "648b1e46",
   "metadata": {},
   "outputs": [],
   "source": [
    "net_movie.info()"
   ]
  },
  {
   "cell_type": "code",
   "execution_count": null,
   "id": "63464b58",
   "metadata": {},
   "outputs": [],
   "source": [
    "net_movie.shape"
   ]
  },
  {
   "cell_type": "code",
   "execution_count": null,
   "id": "b672678a",
   "metadata": {},
   "outputs": [],
   "source": [
    "net_movie.columns"
   ]
  },
  {
   "cell_type": "code",
   "execution_count": null,
   "id": "8ccec912",
   "metadata": {},
   "outputs": [],
   "source": [
    "np.max(net_movie)\n",
    "net_movie"
   ]
  },
  {
   "cell_type": "code",
   "execution_count": null,
   "id": "6b26ebc1",
   "metadata": {},
   "outputs": [],
   "source": [
    "data = pd.read_csv(\"Resources/netflix_titles.csv\")\n",
    "\n",
    "net_movie = pd.DataFrame(net_movie , columns = ['release_year', 'duration'])\n",
    "\n",
    "net_movie\n"
   ]
  },
  {
   "cell_type": "code",
   "execution_count": null,
   "id": "c101a4d4",
   "metadata": {},
   "outputs": [],
   "source": []
  },
  {
   "cell_type": "code",
   "execution_count": null,
   "id": "5ccf14ee",
   "metadata": {},
   "outputs": [],
   "source": []
  },
  {
   "cell_type": "code",
   "execution_count": null,
   "id": "047d5180",
   "metadata": {},
   "outputs": [],
   "source": []
  }
 ],
 "metadata": {
  "kernelspec": {
   "display_name": "Python 3 (ipykernel)",
   "language": "python",
   "name": "python3"
  },
  "language_info": {
   "codemirror_mode": {
    "name": "ipython",
    "version": 3
   },
   "file_extension": ".py",
   "mimetype": "text/x-python",
   "name": "python",
   "nbconvert_exporter": "python",
   "pygments_lexer": "ipython3",
   "version": "3.9.7"
  }
 },
 "nbformat": 4,
 "nbformat_minor": 5
}
