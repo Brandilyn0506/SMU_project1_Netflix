{
 "cells": [
  {
   "cell_type": "code",
   "execution_count": 1,
   "metadata": {},
   "outputs": [],
   "source": [
    "import warnings\n",
    "warnings.filterwarnings('ignore')"
   ]
  },
  {
   "cell_type": "code",
   "execution_count": 2,
   "metadata": {},
   "outputs": [],
   "source": [
    "#%matplotlib inline\n",
    "import pandas as pd\n",
    "import numpy as np\n",
    "import scipy.stats as stats\n",
    "from matplotlib import pyplot as plt\n",
    "import seaborn as sns"
   ]
  },
  {
   "cell_type": "code",
   "execution_count": 3,
   "metadata": {},
   "outputs": [],
   "source": [
    "#NULL\n",
    "#THER IS NO DIFFERENCE BETWEEN ANY OF THE 5 TREATMENST\n",
    "#ALTERNATIVE\n",
    "#THERE IS DIFFERENCE BETWEEN ANY OF THE 5 TREATMENTS"
   ]
  },
  {
   "cell_type": "code",
   "execution_count": null,
   "metadata": {},
   "outputs": [],
   "source": []
  },
  {
   "cell_type": "code",
   "execution_count": null,
   "metadata": {},
   "outputs": [],
   "source": []
  },
  {
   "cell_type": "code",
   "execution_count": null,
   "metadata": {},
   "outputs": [],
   "source": []
  },
  {
   "cell_type": "markdown",
   "metadata": {},
   "source": [
    "# Comparison of 5 Treatments to Reduce Mosquito/Human Contact\n",
    "\n",
    "The problem: How do we know if any of the 5 treatments are statistically significant?\n",
    "\n",
    "The solution: ANOVA - are any of the treatments significantly different than the rest?"
   ]
  },
  {
   "cell_type": "markdown",
   "metadata": {},
   "source": [
    "# Dataset:  mosquito.csv\n",
    "\n",
    "Source: A. Bhatnagar and V.K. Mehta (2007). \"Efficacy of Deltamethrin and\n",
    "Cyfluthrin Impregnated Cloth Over Uniform Against Mosquito Bites,\"\n",
    "Medical Journal Armed Forces India, Vol. 63, pp. 120-122.\n",
    "\n",
    "Description: Comparison of 5 pretreated patches to reduce mosquito human\n",
    "contact. 30 replicates per treatment.\n",
    "Treatments:\n",
    "1=Odomos, 2=Deltamethrin, 3=Cyfluthrin, 4=D+O, 5=C+O\n",
    "\n",
    "Variables:\n",
    "treatment\n",
    "mosq - The number of mosquitoes caught in one hour (Per Man-Hour Mosquito Catch)\n"
   ]
  },
  {
   "cell_type": "code",
   "execution_count": 4,
   "metadata": {},
   "outputs": [
    {
     "data": {
      "text/html": [
       "<div>\n",
       "<style scoped>\n",
       "    .dataframe tbody tr th:only-of-type {\n",
       "        vertical-align: middle;\n",
       "    }\n",
       "\n",
       "    .dataframe tbody tr th {\n",
       "        vertical-align: top;\n",
       "    }\n",
       "\n",
       "    .dataframe thead th {\n",
       "        text-align: right;\n",
       "    }\n",
       "</style>\n",
       "<table border=\"1\" class=\"dataframe\">\n",
       "  <thead>\n",
       "    <tr style=\"text-align: right;\">\n",
       "      <th></th>\n",
       "      <th>show_id</th>\n",
       "      <th>title</th>\n",
       "      <th>release_year</th>\n",
       "      <th>type</th>\n",
       "      <th>rating</th>\n",
       "      <th>country</th>\n",
       "      <th>genre</th>\n",
       "      <th>duration</th>\n",
       "    </tr>\n",
       "  </thead>\n",
       "  <tbody>\n",
       "    <tr>\n",
       "      <th>0</th>\n",
       "      <td>s1</td>\n",
       "      <td>Dick Johnson Is Dead</td>\n",
       "      <td>2020</td>\n",
       "      <td>Movie</td>\n",
       "      <td>PG-13</td>\n",
       "      <td>United States</td>\n",
       "      <td>Documentaries</td>\n",
       "      <td>90.0</td>\n",
       "    </tr>\n",
       "    <tr>\n",
       "      <th>1</th>\n",
       "      <td>s8</td>\n",
       "      <td>Sankofa</td>\n",
       "      <td>1993</td>\n",
       "      <td>Movie</td>\n",
       "      <td>R</td>\n",
       "      <td>United States</td>\n",
       "      <td>Dramas</td>\n",
       "      <td>125.0</td>\n",
       "    </tr>\n",
       "    <tr>\n",
       "      <th>2</th>\n",
       "      <td>s10</td>\n",
       "      <td>The Starling</td>\n",
       "      <td>2021</td>\n",
       "      <td>Movie</td>\n",
       "      <td>PG-13</td>\n",
       "      <td>United States</td>\n",
       "      <td>Comedies</td>\n",
       "      <td>104.0</td>\n",
       "    </tr>\n",
       "    <tr>\n",
       "      <th>3</th>\n",
       "      <td>s25</td>\n",
       "      <td>Jeans</td>\n",
       "      <td>1998</td>\n",
       "      <td>Movie</td>\n",
       "      <td>PG-13</td>\n",
       "      <td>India</td>\n",
       "      <td>Comedies</td>\n",
       "      <td>166.0</td>\n",
       "    </tr>\n",
       "    <tr>\n",
       "      <th>4</th>\n",
       "      <td>s28</td>\n",
       "      <td>Grown Ups</td>\n",
       "      <td>2010</td>\n",
       "      <td>Movie</td>\n",
       "      <td>PG-13</td>\n",
       "      <td>United States</td>\n",
       "      <td>Comedies</td>\n",
       "      <td>103.0</td>\n",
       "    </tr>\n",
       "  </tbody>\n",
       "</table>\n",
       "</div>"
      ],
      "text/plain": [
       "  show_id                 title  release_year   type rating        country  \\\n",
       "0      s1  Dick Johnson Is Dead          2020  Movie  PG-13  United States   \n",
       "1      s8               Sankofa          1993  Movie      R  United States   \n",
       "2     s10          The Starling          2021  Movie  PG-13  United States   \n",
       "3     s25                 Jeans          1998  Movie  PG-13          India   \n",
       "4     s28             Grown Ups          2010  Movie  PG-13  United States   \n",
       "\n",
       "           genre  duration  \n",
       "0  Documentaries      90.0  \n",
       "1         Dramas     125.0  \n",
       "2       Comedies     104.0  \n",
       "3       Comedies     166.0  \n",
       "4       Comedies     103.0  "
      ]
     },
     "execution_count": 4,
     "metadata": {},
     "output_type": "execute_result"
    }
   ],
   "source": [
    "# Our Clean Netflix data (CSV)\n",
    "output_data_file = \"NetflixDF4.csv\"\n",
    "\n",
    "# Read the CSV\n",
    "netflix_df = pd.read_csv(output_data_file)\n",
    "\n",
    "# Display the data table for preview\n",
    "netflix_df.head()"
   ]
  },
  {
   "cell_type": "code",
   "execution_count": null,
   "metadata": {},
   "outputs": [],
   "source": []
  },
  {
   "cell_type": "code",
   "execution_count": 5,
   "metadata": {},
   "outputs": [],
   "source": [
    "# create my 3 different data frames for one genre and each country"
   ]
  },
  {
   "cell_type": "code",
   "execution_count": 6,
   "metadata": {},
   "outputs": [
    {
     "data": {
      "text/html": [
       "<div>\n",
       "<style scoped>\n",
       "    .dataframe tbody tr th:only-of-type {\n",
       "        vertical-align: middle;\n",
       "    }\n",
       "\n",
       "    .dataframe tbody tr th {\n",
       "        vertical-align: top;\n",
       "    }\n",
       "\n",
       "    .dataframe thead th {\n",
       "        text-align: right;\n",
       "    }\n",
       "</style>\n",
       "<table border=\"1\" class=\"dataframe\">\n",
       "  <thead>\n",
       "    <tr style=\"text-align: right;\">\n",
       "      <th></th>\n",
       "      <th>show_id</th>\n",
       "      <th>title</th>\n",
       "      <th>release_year</th>\n",
       "      <th>type</th>\n",
       "      <th>rating</th>\n",
       "      <th>country</th>\n",
       "      <th>genre</th>\n",
       "      <th>duration</th>\n",
       "    </tr>\n",
       "  </thead>\n",
       "  <tbody>\n",
       "    <tr>\n",
       "      <th>3</th>\n",
       "      <td>s25</td>\n",
       "      <td>Jeans</td>\n",
       "      <td>1998</td>\n",
       "      <td>Movie</td>\n",
       "      <td>PG-13</td>\n",
       "      <td>India</td>\n",
       "      <td>Comedies</td>\n",
       "      <td>166.0</td>\n",
       "    </tr>\n",
       "    <tr>\n",
       "      <th>16</th>\n",
       "      <td>s106</td>\n",
       "      <td>Angamaly Diaries</td>\n",
       "      <td>2017</td>\n",
       "      <td>Movie</td>\n",
       "      <td>PG-13</td>\n",
       "      <td>India</td>\n",
       "      <td>Action &amp; Adventure</td>\n",
       "      <td>128.0</td>\n",
       "    </tr>\n",
       "    <tr>\n",
       "      <th>18</th>\n",
       "      <td>s115</td>\n",
       "      <td>Anjaam</td>\n",
       "      <td>1994</td>\n",
       "      <td>Movie</td>\n",
       "      <td>PG-13</td>\n",
       "      <td>India</td>\n",
       "      <td>Dramas</td>\n",
       "      <td>143.0</td>\n",
       "    </tr>\n",
       "    <tr>\n",
       "      <th>20</th>\n",
       "      <td>s117</td>\n",
       "      <td>Dhanak</td>\n",
       "      <td>2015</td>\n",
       "      <td>Movie</td>\n",
       "      <td>PG</td>\n",
       "      <td>India</td>\n",
       "      <td>Comedies</td>\n",
       "      <td>114.0</td>\n",
       "    </tr>\n",
       "    <tr>\n",
       "      <th>22</th>\n",
       "      <td>s119</td>\n",
       "      <td>Gurgaon</td>\n",
       "      <td>2017</td>\n",
       "      <td>Movie</td>\n",
       "      <td>PG-13</td>\n",
       "      <td>India</td>\n",
       "      <td>Dramas</td>\n",
       "      <td>106.0</td>\n",
       "    </tr>\n",
       "  </tbody>\n",
       "</table>\n",
       "</div>"
      ],
      "text/plain": [
       "   show_id             title  release_year   type rating country  \\\n",
       "3      s25             Jeans          1998  Movie  PG-13   India   \n",
       "16    s106  Angamaly Diaries          2017  Movie  PG-13   India   \n",
       "18    s115            Anjaam          1994  Movie  PG-13   India   \n",
       "20    s117            Dhanak          2015  Movie     PG   India   \n",
       "22    s119           Gurgaon          2017  Movie  PG-13   India   \n",
       "\n",
       "                 genre  duration  \n",
       "3             Comedies     166.0  \n",
       "16  Action & Adventure     128.0  \n",
       "18              Dramas     143.0  \n",
       "20            Comedies     114.0  \n",
       "22              Dramas     106.0  "
      ]
     },
     "execution_count": 6,
     "metadata": {},
     "output_type": "execute_result"
    }
   ],
   "source": [
    "\n",
    "india_df = netflix_df.loc[(netflix_df['country'] == 'India')]\n",
    "india_df.head()"
   ]
  },
  {
   "cell_type": "code",
   "execution_count": 7,
   "metadata": {},
   "outputs": [
    {
     "data": {
      "text/html": [
       "<div>\n",
       "<style scoped>\n",
       "    .dataframe tbody tr th:only-of-type {\n",
       "        vertical-align: middle;\n",
       "    }\n",
       "\n",
       "    .dataframe tbody tr th {\n",
       "        vertical-align: top;\n",
       "    }\n",
       "\n",
       "    .dataframe thead th {\n",
       "        text-align: right;\n",
       "    }\n",
       "</style>\n",
       "<table border=\"1\" class=\"dataframe\">\n",
       "  <thead>\n",
       "    <tr style=\"text-align: right;\">\n",
       "      <th></th>\n",
       "      <th>show_id</th>\n",
       "      <th>title</th>\n",
       "      <th>release_year</th>\n",
       "      <th>type</th>\n",
       "      <th>rating</th>\n",
       "      <th>country</th>\n",
       "      <th>genre</th>\n",
       "      <th>duration</th>\n",
       "    </tr>\n",
       "  </thead>\n",
       "  <tbody>\n",
       "    <tr>\n",
       "      <th>13</th>\n",
       "      <td>s95</td>\n",
       "      <td>Show Dogs</td>\n",
       "      <td>2018</td>\n",
       "      <td>Movie</td>\n",
       "      <td>PG</td>\n",
       "      <td>United Kingdom</td>\n",
       "      <td>Children &amp; Family Movies</td>\n",
       "      <td>90.0</td>\n",
       "    </tr>\n",
       "    <tr>\n",
       "      <th>19</th>\n",
       "      <td>s116</td>\n",
       "      <td>Bright Star</td>\n",
       "      <td>2009</td>\n",
       "      <td>Movie</td>\n",
       "      <td>PG</td>\n",
       "      <td>United Kingdom</td>\n",
       "      <td>Dramas</td>\n",
       "      <td>119.0</td>\n",
       "    </tr>\n",
       "    <tr>\n",
       "      <th>21</th>\n",
       "      <td>s118</td>\n",
       "      <td>Final Account</td>\n",
       "      <td>2021</td>\n",
       "      <td>Movie</td>\n",
       "      <td>PG-13</td>\n",
       "      <td>United Kingdom</td>\n",
       "      <td>Documentaries</td>\n",
       "      <td>94.0</td>\n",
       "    </tr>\n",
       "    <tr>\n",
       "      <th>23</th>\n",
       "      <td>s123</td>\n",
       "      <td>In the Cut</td>\n",
       "      <td>2003</td>\n",
       "      <td>Movie</td>\n",
       "      <td>R</td>\n",
       "      <td>United Kingdom</td>\n",
       "      <td>Thrillers</td>\n",
       "      <td>118.0</td>\n",
       "    </tr>\n",
       "    <tr>\n",
       "      <th>40</th>\n",
       "      <td>s156</td>\n",
       "      <td>Labyrinth</td>\n",
       "      <td>1986</td>\n",
       "      <td>Movie</td>\n",
       "      <td>PG</td>\n",
       "      <td>United Kingdom</td>\n",
       "      <td>Action &amp; Adventure</td>\n",
       "      <td>101.0</td>\n",
       "    </tr>\n",
       "  </tbody>\n",
       "</table>\n",
       "</div>"
      ],
      "text/plain": [
       "   show_id          title  release_year   type rating         country  \\\n",
       "13     s95      Show Dogs          2018  Movie     PG  United Kingdom   \n",
       "19    s116    Bright Star          2009  Movie     PG  United Kingdom   \n",
       "21    s118  Final Account          2021  Movie  PG-13  United Kingdom   \n",
       "23    s123     In the Cut          2003  Movie      R  United Kingdom   \n",
       "40    s156      Labyrinth          1986  Movie     PG  United Kingdom   \n",
       "\n",
       "                       genre  duration  \n",
       "13  Children & Family Movies      90.0  \n",
       "19                    Dramas     119.0  \n",
       "21             Documentaries      94.0  \n",
       "23                 Thrillers     118.0  \n",
       "40        Action & Adventure     101.0  "
      ]
     },
     "execution_count": 7,
     "metadata": {},
     "output_type": "execute_result"
    }
   ],
   "source": [
    "uk_df = netflix_df.loc[(netflix_df['country'] == 'United Kingdom')]\n",
    "uk_df.head()"
   ]
  },
  {
   "cell_type": "code",
   "execution_count": 8,
   "metadata": {},
   "outputs": [
    {
     "data": {
      "text/html": [
       "<div>\n",
       "<style scoped>\n",
       "    .dataframe tbody tr th:only-of-type {\n",
       "        vertical-align: middle;\n",
       "    }\n",
       "\n",
       "    .dataframe tbody tr th {\n",
       "        vertical-align: top;\n",
       "    }\n",
       "\n",
       "    .dataframe thead th {\n",
       "        text-align: right;\n",
       "    }\n",
       "</style>\n",
       "<table border=\"1\" class=\"dataframe\">\n",
       "  <thead>\n",
       "    <tr style=\"text-align: right;\">\n",
       "      <th></th>\n",
       "      <th>show_id</th>\n",
       "      <th>title</th>\n",
       "      <th>release_year</th>\n",
       "      <th>type</th>\n",
       "      <th>rating</th>\n",
       "      <th>country</th>\n",
       "      <th>genre</th>\n",
       "      <th>duration</th>\n",
       "    </tr>\n",
       "  </thead>\n",
       "  <tbody>\n",
       "    <tr>\n",
       "      <th>0</th>\n",
       "      <td>s1</td>\n",
       "      <td>Dick Johnson Is Dead</td>\n",
       "      <td>2020</td>\n",
       "      <td>Movie</td>\n",
       "      <td>PG-13</td>\n",
       "      <td>United States</td>\n",
       "      <td>Documentaries</td>\n",
       "      <td>90.0</td>\n",
       "    </tr>\n",
       "    <tr>\n",
       "      <th>1</th>\n",
       "      <td>s8</td>\n",
       "      <td>Sankofa</td>\n",
       "      <td>1993</td>\n",
       "      <td>Movie</td>\n",
       "      <td>R</td>\n",
       "      <td>United States</td>\n",
       "      <td>Dramas</td>\n",
       "      <td>125.0</td>\n",
       "    </tr>\n",
       "    <tr>\n",
       "      <th>2</th>\n",
       "      <td>s10</td>\n",
       "      <td>The Starling</td>\n",
       "      <td>2021</td>\n",
       "      <td>Movie</td>\n",
       "      <td>PG-13</td>\n",
       "      <td>United States</td>\n",
       "      <td>Comedies</td>\n",
       "      <td>104.0</td>\n",
       "    </tr>\n",
       "    <tr>\n",
       "      <th>4</th>\n",
       "      <td>s28</td>\n",
       "      <td>Grown Ups</td>\n",
       "      <td>2010</td>\n",
       "      <td>Movie</td>\n",
       "      <td>PG-13</td>\n",
       "      <td>United States</td>\n",
       "      <td>Comedies</td>\n",
       "      <td>103.0</td>\n",
       "    </tr>\n",
       "    <tr>\n",
       "      <th>5</th>\n",
       "      <td>s29</td>\n",
       "      <td>Dark Skies</td>\n",
       "      <td>2013</td>\n",
       "      <td>Movie</td>\n",
       "      <td>PG-13</td>\n",
       "      <td>United States</td>\n",
       "      <td>Horror Movies</td>\n",
       "      <td>97.0</td>\n",
       "    </tr>\n",
       "  </tbody>\n",
       "</table>\n",
       "</div>"
      ],
      "text/plain": [
       "  show_id                 title  release_year   type rating        country  \\\n",
       "0      s1  Dick Johnson Is Dead          2020  Movie  PG-13  United States   \n",
       "1      s8               Sankofa          1993  Movie      R  United States   \n",
       "2     s10          The Starling          2021  Movie  PG-13  United States   \n",
       "4     s28             Grown Ups          2010  Movie  PG-13  United States   \n",
       "5     s29            Dark Skies          2013  Movie  PG-13  United States   \n",
       "\n",
       "           genre  duration  \n",
       "0  Documentaries      90.0  \n",
       "1         Dramas     125.0  \n",
       "2       Comedies     104.0  \n",
       "4       Comedies     103.0  \n",
       "5  Horror Movies      97.0  "
      ]
     },
     "execution_count": 8,
     "metadata": {},
     "output_type": "execute_result"
    }
   ],
   "source": [
    "us_df = netflix_df.loc[(netflix_df['country'] == 'United States')]\n",
    "us_df.head()"
   ]
  },
  {
   "cell_type": "code",
   "execution_count": 9,
   "metadata": {},
   "outputs": [
    {
     "data": {
      "text/html": [
       "<div>\n",
       "<style scoped>\n",
       "    .dataframe tbody tr th:only-of-type {\n",
       "        vertical-align: middle;\n",
       "    }\n",
       "\n",
       "    .dataframe tbody tr th {\n",
       "        vertical-align: top;\n",
       "    }\n",
       "\n",
       "    .dataframe thead tr th {\n",
       "        text-align: left;\n",
       "    }\n",
       "\n",
       "    .dataframe thead tr:last-of-type th {\n",
       "        text-align: right;\n",
       "    }\n",
       "</style>\n",
       "<table border=\"1\" class=\"dataframe\">\n",
       "  <thead>\n",
       "    <tr>\n",
       "      <th></th>\n",
       "      <th colspan=\"4\" halign=\"left\">duration</th>\n",
       "    </tr>\n",
       "    <tr>\n",
       "      <th></th>\n",
       "      <th>mean</th>\n",
       "      <th>std</th>\n",
       "      <th>var</th>\n",
       "      <th>count</th>\n",
       "    </tr>\n",
       "    <tr>\n",
       "      <th>genre</th>\n",
       "      <th></th>\n",
       "      <th></th>\n",
       "      <th></th>\n",
       "      <th></th>\n",
       "    </tr>\n",
       "  </thead>\n",
       "  <tbody>\n",
       "    <tr>\n",
       "      <th>Action &amp; Adventure</th>\n",
       "      <td>116.882704</td>\n",
       "      <td>24.529845</td>\n",
       "      <td>601.713306</td>\n",
       "      <td>503</td>\n",
       "    </tr>\n",
       "    <tr>\n",
       "      <th>Anime Features</th>\n",
       "      <td>42.000000</td>\n",
       "      <td>NaN</td>\n",
       "      <td>NaN</td>\n",
       "      <td>1</td>\n",
       "    </tr>\n",
       "    <tr>\n",
       "      <th>Children &amp; Family Movies</th>\n",
       "      <td>86.896024</td>\n",
       "      <td>19.465280</td>\n",
       "      <td>378.897131</td>\n",
       "      <td>327</td>\n",
       "    </tr>\n",
       "    <tr>\n",
       "      <th>Classic Movies</th>\n",
       "      <td>122.000000</td>\n",
       "      <td>38.721704</td>\n",
       "      <td>1499.370370</td>\n",
       "      <td>55</td>\n",
       "    </tr>\n",
       "    <tr>\n",
       "      <th>Comedies</th>\n",
       "      <td>110.466077</td>\n",
       "      <td>23.003908</td>\n",
       "      <td>529.179793</td>\n",
       "      <td>678</td>\n",
       "    </tr>\n",
       "    <tr>\n",
       "      <th>Cult Movies</th>\n",
       "      <td>103.636364</td>\n",
       "      <td>23.157170</td>\n",
       "      <td>536.254545</td>\n",
       "      <td>11</td>\n",
       "    </tr>\n",
       "    <tr>\n",
       "      <th>Documentaries</th>\n",
       "      <td>85.370874</td>\n",
       "      <td>19.936288</td>\n",
       "      <td>397.455570</td>\n",
       "      <td>515</td>\n",
       "    </tr>\n",
       "    <tr>\n",
       "      <th>Dramas</th>\n",
       "      <td>115.161255</td>\n",
       "      <td>23.976039</td>\n",
       "      <td>574.850458</td>\n",
       "      <td>924</td>\n",
       "    </tr>\n",
       "    <tr>\n",
       "      <th>Horror Movies</th>\n",
       "      <td>96.117647</td>\n",
       "      <td>13.940628</td>\n",
       "      <td>194.341107</td>\n",
       "      <td>170</td>\n",
       "    </tr>\n",
       "    <tr>\n",
       "      <th>Independent Movies</th>\n",
       "      <td>98.833333</td>\n",
       "      <td>7.237565</td>\n",
       "      <td>52.382353</td>\n",
       "      <td>18</td>\n",
       "    </tr>\n",
       "    <tr>\n",
       "      <th>International Movies</th>\n",
       "      <td>122.023810</td>\n",
       "      <td>22.385196</td>\n",
       "      <td>501.096980</td>\n",
       "      <td>42</td>\n",
       "    </tr>\n",
       "    <tr>\n",
       "      <th>Music &amp; Musicals</th>\n",
       "      <td>90.928571</td>\n",
       "      <td>32.276365</td>\n",
       "      <td>1041.763736</td>\n",
       "      <td>14</td>\n",
       "    </tr>\n",
       "    <tr>\n",
       "      <th>Romantic Movies</th>\n",
       "      <td>83.000000</td>\n",
       "      <td>2.828427</td>\n",
       "      <td>8.000000</td>\n",
       "      <td>2</td>\n",
       "    </tr>\n",
       "    <tr>\n",
       "      <th>Sci-Fi &amp; Fantasy</th>\n",
       "      <td>108.900000</td>\n",
       "      <td>13.093255</td>\n",
       "      <td>171.433333</td>\n",
       "      <td>10</td>\n",
       "    </tr>\n",
       "    <tr>\n",
       "      <th>Sports Movies</th>\n",
       "      <td>87.000000</td>\n",
       "      <td>NaN</td>\n",
       "      <td>NaN</td>\n",
       "      <td>1</td>\n",
       "    </tr>\n",
       "    <tr>\n",
       "      <th>Stand-Up Comedy</th>\n",
       "      <td>67.545455</td>\n",
       "      <td>11.258479</td>\n",
       "      <td>126.753360</td>\n",
       "      <td>231</td>\n",
       "    </tr>\n",
       "    <tr>\n",
       "      <th>Thrillers</th>\n",
       "      <td>100.428571</td>\n",
       "      <td>15.474151</td>\n",
       "      <td>239.449351</td>\n",
       "      <td>56</td>\n",
       "    </tr>\n",
       "  </tbody>\n",
       "</table>\n",
       "</div>"
      ],
      "text/plain": [
       "                            duration                              \n",
       "                                mean        std          var count\n",
       "genre                                                             \n",
       "Action & Adventure        116.882704  24.529845   601.713306   503\n",
       "Anime Features             42.000000        NaN          NaN     1\n",
       "Children & Family Movies   86.896024  19.465280   378.897131   327\n",
       "Classic Movies            122.000000  38.721704  1499.370370    55\n",
       "Comedies                  110.466077  23.003908   529.179793   678\n",
       "Cult Movies               103.636364  23.157170   536.254545    11\n",
       "Documentaries              85.370874  19.936288   397.455570   515\n",
       "Dramas                    115.161255  23.976039   574.850458   924\n",
       "Horror Movies              96.117647  13.940628   194.341107   170\n",
       "Independent Movies         98.833333   7.237565    52.382353    18\n",
       "International Movies      122.023810  22.385196   501.096980    42\n",
       "Music & Musicals           90.928571  32.276365  1041.763736    14\n",
       "Romantic Movies            83.000000   2.828427     8.000000     2\n",
       "Sci-Fi & Fantasy          108.900000  13.093255   171.433333    10\n",
       "Sports Movies              87.000000        NaN          NaN     1\n",
       "Stand-Up Comedy            67.545455  11.258479   126.753360   231\n",
       "Thrillers                 100.428571  15.474151   239.449351    56"
      ]
     },
     "execution_count": 9,
     "metadata": {},
     "output_type": "execute_result"
    }
   ],
   "source": [
    "netflix_df.groupby(\"genre\").agg({\"duration\": [\"mean\", \"std\", \"var\", \"count\"]}, axis=1)"
   ]
  },
  {
   "cell_type": "code",
   "execution_count": null,
   "metadata": {},
   "outputs": [],
   "source": []
  },
  {
   "cell_type": "code",
   "execution_count": 10,
   "metadata": {},
   "outputs": [
    {
     "data": {
      "text/plain": [
       "<AxesSubplot:title={'center':'duration'}, xlabel='country'>"
      ]
     },
     "execution_count": 10,
     "metadata": {},
     "output_type": "execute_result"
    },
    {
     "data": {
      "image/png": "[encoded data removed]",
      "text/plain": [
       "<Figure size 1440x720 with 1 Axes>"
      ]
     },
     "metadata": {
      "needs_background": "light"
     },
     "output_type": "display_data"
    }
   ],
   "source": [
    "# Create a boxplot to compare means all genres\n",
    "netflix_df.boxplot(\"duration\", by=\"country\", figsize=(20, 10))"
   ]
  },
  {
   "cell_type": "code",
   "execution_count": 11,
   "metadata": {},
   "outputs": [],
   "source": [
    "\n",
    "# Extract individual groups\n",
    "group1 = netflix_df[netflix_df[\"country\"] == \"United States\"][\"duration\"]\n",
    "group2 = netflix_df[netflix_df[\"country\"] == \"United Kingdom\"][\"duration\"]\n",
    "group3 = netflix_df[netflix_df[\"country\"] == \"India\"][\"duration\"]\n"
   ]
  },
  {
   "cell_type": "code",
   "execution_count": 12,
   "metadata": {},
   "outputs": [
    {
     "data": {
      "text/plain": [
       "F_onewayResult(statistic=652.2672998159755, pvalue=4.958573394632441e-242)"
      ]
     },
     "execution_count": 12,
     "metadata": {},
     "output_type": "execute_result"
    }
   ],
   "source": [
    "# Perform the ANOVA\n",
    "stats.f_oneway(group1, group2, group3)"
   ]
  },
  {
   "cell_type": "code",
   "execution_count": 13,
   "metadata": {},
   "outputs": [
    {
     "data": {
      "text/plain": [
       "Ttest_indResult(statistic=-2.326536892039025, pvalue=0.02006550622592112)"
      ]
     },
     "execution_count": 13,
     "metadata": {},
     "output_type": "execute_result"
    }
   ],
   "source": [
    "stats.ttest_ind(group1, group2, equal_var=True)"
   ]
  },
  {
   "cell_type": "code",
   "execution_count": null,
   "metadata": {},
   "outputs": [],
   "source": []
  },
  {
   "cell_type": "code",
   "execution_count": null,
   "metadata": {},
   "outputs": [],
   "source": []
  },
  {
   "cell_type": "markdown",
   "metadata": {},
   "source": [
    "# need to just get the genre horror for countries"
   ]
  },
  {
   "cell_type": "code",
   "execution_count": 14,
   "metadata": {},
   "outputs": [
    {
     "data": {
      "text/html": [
       "<div>\n",
       "<style scoped>\n",
       "    .dataframe tbody tr th:only-of-type {\n",
       "        vertical-align: middle;\n",
       "    }\n",
       "\n",
       "    .dataframe tbody tr th {\n",
       "        vertical-align: top;\n",
       "    }\n",
       "\n",
       "    .dataframe thead th {\n",
       "        text-align: right;\n",
       "    }\n",
       "</style>\n",
       "<table border=\"1\" class=\"dataframe\">\n",
       "  <thead>\n",
       "    <tr style=\"text-align: right;\">\n",
       "      <th></th>\n",
       "      <th>show_id</th>\n",
       "      <th>title</th>\n",
       "      <th>release_year</th>\n",
       "      <th>type</th>\n",
       "      <th>rating</th>\n",
       "      <th>country</th>\n",
       "      <th>genre</th>\n",
       "      <th>duration</th>\n",
       "    </tr>\n",
       "  </thead>\n",
       "  <tbody>\n",
       "    <tr>\n",
       "      <th>5</th>\n",
       "      <td>s29</td>\n",
       "      <td>Dark Skies</td>\n",
       "      <td>2013</td>\n",
       "      <td>Movie</td>\n",
       "      <td>PG-13</td>\n",
       "      <td>United States</td>\n",
       "      <td>Horror Movies</td>\n",
       "      <td>97.0</td>\n",
       "    </tr>\n",
       "    <tr>\n",
       "      <th>77</th>\n",
       "      <td>s211</td>\n",
       "      <td>Ragini MMS</td>\n",
       "      <td>2011</td>\n",
       "      <td>Movie</td>\n",
       "      <td>R</td>\n",
       "      <td>India</td>\n",
       "      <td>Horror Movies</td>\n",
       "      <td>93.0</td>\n",
       "    </tr>\n",
       "    <tr>\n",
       "      <th>78</th>\n",
       "      <td>s212</td>\n",
       "      <td>Ragini MMS 2</td>\n",
       "      <td>2014</td>\n",
       "      <td>Movie</td>\n",
       "      <td>R</td>\n",
       "      <td>India</td>\n",
       "      <td>Horror Movies</td>\n",
       "      <td>113.0</td>\n",
       "    </tr>\n",
       "    <tr>\n",
       "      <th>84</th>\n",
       "      <td>s230</td>\n",
       "      <td>The Old Ways</td>\n",
       "      <td>2020</td>\n",
       "      <td>Movie</td>\n",
       "      <td>R</td>\n",
       "      <td>United States</td>\n",
       "      <td>Horror Movies</td>\n",
       "      <td>90.0</td>\n",
       "    </tr>\n",
       "    <tr>\n",
       "      <th>99</th>\n",
       "      <td>s308</td>\n",
       "      <td>Aftermath</td>\n",
       "      <td>2021</td>\n",
       "      <td>Movie</td>\n",
       "      <td>R</td>\n",
       "      <td>United States</td>\n",
       "      <td>Horror Movies</td>\n",
       "      <td>115.0</td>\n",
       "    </tr>\n",
       "  </tbody>\n",
       "</table>\n",
       "</div>"
      ],
      "text/plain": [
       "   show_id         title  release_year   type rating        country  \\\n",
       "5      s29    Dark Skies          2013  Movie  PG-13  United States   \n",
       "77    s211    Ragini MMS          2011  Movie      R          India   \n",
       "78    s212  Ragini MMS 2          2014  Movie      R          India   \n",
       "84    s230  The Old Ways          2020  Movie      R  United States   \n",
       "99    s308     Aftermath          2021  Movie      R  United States   \n",
       "\n",
       "            genre  duration  \n",
       "5   Horror Movies      97.0  \n",
       "77  Horror Movies      93.0  \n",
       "78  Horror Movies     113.0  \n",
       "84  Horror Movies      90.0  \n",
       "99  Horror Movies     115.0  "
      ]
     },
     "execution_count": 14,
     "metadata": {},
     "output_type": "execute_result"
    }
   ],
   "source": [
    "horror_df = netflix_df.loc[(netflix_df['genre'] == 'Horror Movies')]\n",
    "horror_df.head()"
   ]
  },
  {
   "cell_type": "code",
   "execution_count": 15,
   "metadata": {},
   "outputs": [
    {
     "data": {
      "text/plain": [
       "<AxesSubplot:title={'center':'duration'}, xlabel='country'>"
      ]
     },
     "execution_count": 15,
     "metadata": {},
     "output_type": "execute_result"
    },
    {
     "data": {
      "image/png": "[encoded data removed]",
      "text/plain": [
       "<Figure size 1440x720 with 1 Axes>"
      ]
     },
     "metadata": {
      "needs_background": "light"
     },
     "output_type": "display_data"
    }
   ],
   "source": [
    "# Create a boxplot to compare means\n",
    "horror_df.boxplot(\"duration\", by=\"country\", figsize=(20, 10))"
   ]
  },
  {
   "cell_type": "code",
   "execution_count": 55,
   "metadata": {},
   "outputs": [
    {
     "data": {
      "image/png": "[encoded data removed]",
      "text/plain": [
       "<Figure size 432x288 with 1 Axes>"
      ]
     },
     "metadata": {},
     "output_type": "display_data"
    }
   ],
   "source": [
    "sns.set_style(\"darkgrid\")\n",
    "  \n",
    "sns.boxplot(x = 'country', y = 'duration', data = horror_df, palette=\"Reds\")\n",
    "plt.title(\"Horror: Countries by Duration\", fontweight = 'bold', fontname = \"Verdana\", fontsize=20)\n",
    "plt.xlabel('Country', fontname = \"Verdana\", fontsize=14,fontweight = 'bold')\n",
    "plt.ylabel('Durations (min)',fontname = \"Verdana\", fontsize=14,fontweight = 'bold')\n",
    "plt.savefig(\"ANNOVA HORROR.png\")\n",
    "plt.show()"
   ]
  },
  {
   "cell_type": "code",
   "execution_count": 16,
   "metadata": {},
   "outputs": [
    {
     "data": {
      "text/plain": [
       "Ttest_indResult(statistic=-0.3923435373234593, pvalue=0.6954097017553829)"
      ]
     },
     "execution_count": 16,
     "metadata": {},
     "output_type": "execute_result"
    }
   ],
   "source": [
    "\n",
    "# Extract individual groups\n",
    "group1 = horror_df[horror_df[\"country\"] == \"United States\"][\"duration\"]\n",
    "group2 = horror_df[horror_df[\"country\"] == \"United Kingdom\"][\"duration\"]\n",
    "group3 = horror_df[horror_df[\"country\"] == \"India\"][\"duration\"]\n",
    "\n",
    "stats.ttest_ind(group1, group2, equal_var=True)"
   ]
  },
  {
   "cell_type": "markdown",
   "metadata": {},
   "source": [
    "# need to just get the genre Dramas for countries"
   ]
  },
  {
   "cell_type": "code",
   "execution_count": 17,
   "metadata": {},
   "outputs": [
    {
     "data": {
      "text/html": [
       "<div>\n",
       "<style scoped>\n",
       "    .dataframe tbody tr th:only-of-type {\n",
       "        vertical-align: middle;\n",
       "    }\n",
       "\n",
       "    .dataframe tbody tr th {\n",
       "        vertical-align: top;\n",
       "    }\n",
       "\n",
       "    .dataframe thead th {\n",
       "        text-align: right;\n",
       "    }\n",
       "</style>\n",
       "<table border=\"1\" class=\"dataframe\">\n",
       "  <thead>\n",
       "    <tr style=\"text-align: right;\">\n",
       "      <th></th>\n",
       "      <th>show_id</th>\n",
       "      <th>title</th>\n",
       "      <th>release_year</th>\n",
       "      <th>type</th>\n",
       "      <th>rating</th>\n",
       "      <th>country</th>\n",
       "      <th>genre</th>\n",
       "      <th>duration</th>\n",
       "    </tr>\n",
       "  </thead>\n",
       "  <tbody>\n",
       "    <tr>\n",
       "      <th>1</th>\n",
       "      <td>s8</td>\n",
       "      <td>Sankofa</td>\n",
       "      <td>1993</td>\n",
       "      <td>Movie</td>\n",
       "      <td>R</td>\n",
       "      <td>United States</td>\n",
       "      <td>Dramas</td>\n",
       "      <td>125.0</td>\n",
       "    </tr>\n",
       "    <tr>\n",
       "      <th>8</th>\n",
       "      <td>s43</td>\n",
       "      <td>Jaws 2</td>\n",
       "      <td>1978</td>\n",
       "      <td>Movie</td>\n",
       "      <td>PG</td>\n",
       "      <td>United States</td>\n",
       "      <td>Dramas</td>\n",
       "      <td>116.0</td>\n",
       "    </tr>\n",
       "    <tr>\n",
       "      <th>11</th>\n",
       "      <td>s49</td>\n",
       "      <td>Training Day</td>\n",
       "      <td>2001</td>\n",
       "      <td>Movie</td>\n",
       "      <td>R</td>\n",
       "      <td>United States</td>\n",
       "      <td>Dramas</td>\n",
       "      <td>122.0</td>\n",
       "    </tr>\n",
       "    <tr>\n",
       "      <th>18</th>\n",
       "      <td>s115</td>\n",
       "      <td>Anjaam</td>\n",
       "      <td>1994</td>\n",
       "      <td>Movie</td>\n",
       "      <td>PG-13</td>\n",
       "      <td>India</td>\n",
       "      <td>Dramas</td>\n",
       "      <td>143.0</td>\n",
       "    </tr>\n",
       "    <tr>\n",
       "      <th>19</th>\n",
       "      <td>s116</td>\n",
       "      <td>Bright Star</td>\n",
       "      <td>2009</td>\n",
       "      <td>Movie</td>\n",
       "      <td>PG</td>\n",
       "      <td>United Kingdom</td>\n",
       "      <td>Dramas</td>\n",
       "      <td>119.0</td>\n",
       "    </tr>\n",
       "  </tbody>\n",
       "</table>\n",
       "</div>"
      ],
      "text/plain": [
       "   show_id         title  release_year   type rating         country   genre  \\\n",
       "1       s8       Sankofa          1993  Movie      R   United States  Dramas   \n",
       "8      s43        Jaws 2          1978  Movie     PG   United States  Dramas   \n",
       "11     s49  Training Day          2001  Movie      R   United States  Dramas   \n",
       "18    s115        Anjaam          1994  Movie  PG-13           India  Dramas   \n",
       "19    s116   Bright Star          2009  Movie     PG  United Kingdom  Dramas   \n",
       "\n",
       "    duration  \n",
       "1      125.0  \n",
       "8      116.0  \n",
       "11     122.0  \n",
       "18     143.0  \n",
       "19     119.0  "
      ]
     },
     "execution_count": 17,
     "metadata": {},
     "output_type": "execute_result"
    }
   ],
   "source": [
    "drama_df = netflix_df.loc[(netflix_df['genre'] == 'Dramas')]\n",
    "drama_df.head()"
   ]
  },
  {
   "cell_type": "code",
   "execution_count": 18,
   "metadata": {
    "scrolled": true
   },
   "outputs": [
    {
     "data": {
      "text/plain": [
       "<AxesSubplot:title={'center':'duration'}, xlabel='country'>"
      ]
     },
     "execution_count": 18,
     "metadata": {},
     "output_type": "execute_result"
    },
    {
     "data": {
      "image/png": "[encoded data removed]",
      "text/plain": [
       "<Figure size 1440x720 with 1 Axes>"
      ]
     },
     "metadata": {
      "needs_background": "light"
     },
     "output_type": "display_data"
    }
   ],
   "source": [
    "# Create a boxplot to compare means\n",
    "drama_df.boxplot(\"duration\", by=\"country\", figsize=(20, 10))"
   ]
  },
  {
   "cell_type": "code",
   "execution_count": 53,
   "metadata": {},
   "outputs": [
    {
     "data": {
      "image/png": "[encoded data removed]",
      "text/plain": [
       "<Figure size 432x288 with 1 Axes>"
      ]
     },
     "metadata": {},
     "output_type": "display_data"
    }
   ],
   "source": [
    "sns.set_style(\"darkgrid\")\n",
    "  \n",
    "sns.boxplot(x = 'country', y = 'duration', data = drama_df, palette=\"Reds\")\n",
    "plt.title(\"Drama: Countries by Duration\", fontweight = 'bold', fontname = \"Verdana\", fontsize=20)\n",
    "plt.xlabel('Country', fontname = \"Verdana\", fontsize=14,fontweight = 'bold')\n",
    "plt.ylabel('Durations (min)',fontname = \"Verdana\", fontsize=14,fontweight = 'bold')\n",
    "plt.savefig(\"ANNOVA DRAMA.png\")\n",
    "plt.show()"
   ]
  },
  {
   "cell_type": "code",
   "execution_count": 19,
   "metadata": {},
   "outputs": [
    {
     "data": {
      "text/plain": [
       "Ttest_indResult(statistic=-1.6113572098903137, pvalue=0.10771100114860035)"
      ]
     },
     "execution_count": 19,
     "metadata": {},
     "output_type": "execute_result"
    }
   ],
   "source": [
    "\n",
    "# Extract individual groups\n",
    "group1 = drama_df[drama_df[\"country\"] == \"United States\"][\"duration\"]\n",
    "group2 = drama_df[drama_df[\"country\"] == \"United Kingdom\"][\"duration\"]\n",
    "group3 = drama_df[drama_df[\"country\"] == \"India\"][\"duration\"]\n",
    "\n",
    "stats.ttest_ind(group1, group2, equal_var=True)"
   ]
  },
  {
   "cell_type": "markdown",
   "metadata": {},
   "source": [
    "# need to just get the genre Action and Adventure for countries"
   ]
  },
  {
   "cell_type": "code",
   "execution_count": 20,
   "metadata": {},
   "outputs": [
    {
     "data": {
      "text/html": [
       "<div>\n",
       "<style scoped>\n",
       "    .dataframe tbody tr th:only-of-type {\n",
       "        vertical-align: middle;\n",
       "    }\n",
       "\n",
       "    .dataframe tbody tr th {\n",
       "        vertical-align: top;\n",
       "    }\n",
       "\n",
       "    .dataframe thead th {\n",
       "        text-align: right;\n",
       "    }\n",
       "</style>\n",
       "<table border=\"1\" class=\"dataframe\">\n",
       "  <thead>\n",
       "    <tr style=\"text-align: right;\">\n",
       "      <th></th>\n",
       "      <th>show_id</th>\n",
       "      <th>title</th>\n",
       "      <th>release_year</th>\n",
       "      <th>type</th>\n",
       "      <th>rating</th>\n",
       "      <th>country</th>\n",
       "      <th>genre</th>\n",
       "      <th>duration</th>\n",
       "    </tr>\n",
       "  </thead>\n",
       "  <tbody>\n",
       "    <tr>\n",
       "      <th>7</th>\n",
       "      <td>s42</td>\n",
       "      <td>Jaws</td>\n",
       "      <td>1975</td>\n",
       "      <td>Movie</td>\n",
       "      <td>PG</td>\n",
       "      <td>United States</td>\n",
       "      <td>Action &amp; Adventure</td>\n",
       "      <td>124.0</td>\n",
       "    </tr>\n",
       "    <tr>\n",
       "      <th>9</th>\n",
       "      <td>s44</td>\n",
       "      <td>Jaws 3</td>\n",
       "      <td>1983</td>\n",
       "      <td>Movie</td>\n",
       "      <td>PG</td>\n",
       "      <td>United States</td>\n",
       "      <td>Action &amp; Adventure</td>\n",
       "      <td>98.0</td>\n",
       "    </tr>\n",
       "    <tr>\n",
       "      <th>10</th>\n",
       "      <td>s45</td>\n",
       "      <td>Jaws: The Revenge</td>\n",
       "      <td>1987</td>\n",
       "      <td>Movie</td>\n",
       "      <td>PG-13</td>\n",
       "      <td>United States</td>\n",
       "      <td>Action &amp; Adventure</td>\n",
       "      <td>91.0</td>\n",
       "    </tr>\n",
       "    <tr>\n",
       "      <th>12</th>\n",
       "      <td>s82</td>\n",
       "      <td>Kate</td>\n",
       "      <td>2021</td>\n",
       "      <td>Movie</td>\n",
       "      <td>R</td>\n",
       "      <td>United States</td>\n",
       "      <td>Action &amp; Adventure</td>\n",
       "      <td>106.0</td>\n",
       "    </tr>\n",
       "    <tr>\n",
       "      <th>16</th>\n",
       "      <td>s106</td>\n",
       "      <td>Angamaly Diaries</td>\n",
       "      <td>2017</td>\n",
       "      <td>Movie</td>\n",
       "      <td>PG-13</td>\n",
       "      <td>India</td>\n",
       "      <td>Action &amp; Adventure</td>\n",
       "      <td>128.0</td>\n",
       "    </tr>\n",
       "  </tbody>\n",
       "</table>\n",
       "</div>"
      ],
      "text/plain": [
       "   show_id              title  release_year   type rating        country  \\\n",
       "7      s42               Jaws          1975  Movie     PG  United States   \n",
       "9      s44             Jaws 3          1983  Movie     PG  United States   \n",
       "10     s45  Jaws: The Revenge          1987  Movie  PG-13  United States   \n",
       "12     s82               Kate          2021  Movie      R  United States   \n",
       "16    s106   Angamaly Diaries          2017  Movie  PG-13          India   \n",
       "\n",
       "                 genre  duration  \n",
       "7   Action & Adventure     124.0  \n",
       "9   Action & Adventure      98.0  \n",
       "10  Action & Adventure      91.0  \n",
       "12  Action & Adventure     106.0  \n",
       "16  Action & Adventure     128.0  "
      ]
     },
     "execution_count": 20,
     "metadata": {},
     "output_type": "execute_result"
    }
   ],
   "source": [
    "aa_df = netflix_df.loc[(netflix_df['genre'] == 'Action & Adventure')]\n",
    "aa_df.head()"
   ]
  },
  {
   "cell_type": "code",
   "execution_count": 21,
   "metadata": {},
   "outputs": [
    {
     "data": {
      "text/plain": [
       "<AxesSubplot:title={'center':'duration'}, xlabel='country'>"
      ]
     },
     "execution_count": 21,
     "metadata": {},
     "output_type": "execute_result"
    },
    {
     "data": {
      "image/png": "[encoded data removed]",
      "text/plain": [
       "<Figure size 1440x720 with 1 Axes>"
      ]
     },
     "metadata": {
      "needs_background": "light"
     },
     "output_type": "display_data"
    }
   ],
   "source": [
    "# Create a boxplot to compare means\n",
    "aa_df.boxplot(\"duration\", by=\"country\", figsize=(20, 10))"
   ]
  },
  {
   "cell_type": "code",
   "execution_count": 54,
   "metadata": {},
   "outputs": [
    {
     "data": {
      "image/png": "[encoded data removed]",
      "text/plain": [
       "<Figure size 432x288 with 1 Axes>"
      ]
     },
     "metadata": {},
     "output_type": "display_data"
    }
   ],
   "source": [
    "sns.set_style(\"darkgrid\")\n",
    "  \n",
    "sns.boxplot(x = 'country', y = 'duration', data = aa_df, palette=\"Reds\")\n",
    "plt.title(\"A&A: Countries by Duration\", fontweight = 'bold', fontname = \"Verdana\", fontsize=20)\n",
    "plt.xlabel('Country', fontname = \"Verdana\", fontsize=14,fontweight = 'bold')\n",
    "plt.ylabel('Durations (min)',fontname = \"Verdana\", fontsize=14,fontweight = 'bold')\n",
    "plt.savefig(\"ANNOVA A&A.png\")\n",
    "plt.show()"
   ]
  },
  {
   "cell_type": "code",
   "execution_count": 22,
   "metadata": {},
   "outputs": [
    {
     "data": {
      "text/plain": [
       "Ttest_indResult(statistic=0.40707701583594236, pvalue=0.6841861826376556)"
      ]
     },
     "execution_count": 22,
     "metadata": {},
     "output_type": "execute_result"
    }
   ],
   "source": [
    "\n",
    "# Extract individual groups\n",
    "group1 = aa_df[aa_df[\"country\"] == \"United States\"][\"duration\"]\n",
    "group2 = aa_df[aa_df[\"country\"] == \"United Kingdom\"][\"duration\"]\n",
    "group3 = aa_df[aa_df[\"country\"] == \"India\"][\"duration\"]\n",
    "\n",
    "stats.ttest_ind(group1, group2, equal_var=True)"
   ]
  },
  {
   "cell_type": "code",
   "execution_count": null,
   "metadata": {},
   "outputs": [],
   "source": []
  }
 ],
 "metadata": {
  "anaconda-cloud": {},
  "kernelspec": {
   "display_name": "Python 3 (ipykernel)",
   "language": "python",
   "name": "python3"
  },
  "language_info": {
   "codemirror_mode": {
    "name": "ipython",
    "version": 3
   },
   "file_extension": ".py",
   "mimetype": "text/x-python",
   "name": "python",
   "nbconvert_exporter": "python",
   "pygments_lexer": "ipython3",
   "version": "3.9.7"
  },
  "varInspector": {
   "cols": {
    "lenName": 16,
    "lenType": 16,
    "lenVar": 40
   },
   "kernels_config": {
    "python": {
     "delete_cmd_postfix": "",
     "delete_cmd_prefix": "del ",
     "library": "var_list.py",
     "varRefreshCmd": "print(var_dic_list())"
    },
    "r": {
     "delete_cmd_postfix": ") ",
     "delete_cmd_prefix": "rm(",
     "library": "var_list.r",
     "varRefreshCmd": "cat(var_dic_list()) "
    }
   },
   "types_to_exclude": [
    "module",
    "function",
    "builtin_function_or_method",
    "instance",
    "_Feature"
   ],
   "window_display": false
  }
 },
 "nbformat": 4,
 "nbformat_minor": 1
}
