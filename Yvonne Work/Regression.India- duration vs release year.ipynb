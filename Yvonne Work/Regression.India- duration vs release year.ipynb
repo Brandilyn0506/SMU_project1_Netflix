{
 "cells": [
  {
   "cell_type": "code",
   "execution_count": 1,
   "id": "d6b24ddd",
   "metadata": {},
   "outputs": [
    {
     "data": {
      "text/html": [
       "<div>\n",
       "<style scoped>\n",
       "    .dataframe tbody tr th:only-of-type {\n",
       "        vertical-align: middle;\n",
       "    }\n",
       "\n",
       "    .dataframe tbody tr th {\n",
       "        vertical-align: top;\n",
       "    }\n",
       "\n",
       "    .dataframe thead th {\n",
       "        text-align: right;\n",
       "    }\n",
       "</style>\n",
       "<table border=\"1\" class=\"dataframe\">\n",
       "  <thead>\n",
       "    <tr style=\"text-align: right;\">\n",
       "      <th></th>\n",
       "      <th>show_id</th>\n",
       "      <th>title</th>\n",
       "      <th>release_year</th>\n",
       "      <th>type</th>\n",
       "      <th>rating</th>\n",
       "      <th>country</th>\n",
       "      <th>genre</th>\n",
       "      <th>duration</th>\n",
       "    </tr>\n",
       "  </thead>\n",
       "  <tbody>\n",
       "    <tr>\n",
       "      <th>0</th>\n",
       "      <td>s1</td>\n",
       "      <td>Dick Johnson Is Dead</td>\n",
       "      <td>2020</td>\n",
       "      <td>Movie</td>\n",
       "      <td>PG-13</td>\n",
       "      <td>United States</td>\n",
       "      <td>Documentaries</td>\n",
       "      <td>90.0</td>\n",
       "    </tr>\n",
       "    <tr>\n",
       "      <th>1</th>\n",
       "      <td>s8</td>\n",
       "      <td>Sankofa</td>\n",
       "      <td>1993</td>\n",
       "      <td>Movie</td>\n",
       "      <td>R</td>\n",
       "      <td>United States</td>\n",
       "      <td>Dramas</td>\n",
       "      <td>125.0</td>\n",
       "    </tr>\n",
       "    <tr>\n",
       "      <th>2</th>\n",
       "      <td>s10</td>\n",
       "      <td>The Starling</td>\n",
       "      <td>2021</td>\n",
       "      <td>Movie</td>\n",
       "      <td>PG-13</td>\n",
       "      <td>United States</td>\n",
       "      <td>Comedies</td>\n",
       "      <td>104.0</td>\n",
       "    </tr>\n",
       "    <tr>\n",
       "      <th>3</th>\n",
       "      <td>s25</td>\n",
       "      <td>Jeans</td>\n",
       "      <td>1998</td>\n",
       "      <td>Movie</td>\n",
       "      <td>PG-13</td>\n",
       "      <td>India</td>\n",
       "      <td>Comedies</td>\n",
       "      <td>166.0</td>\n",
       "    </tr>\n",
       "    <tr>\n",
       "      <th>4</th>\n",
       "      <td>s28</td>\n",
       "      <td>Grown Ups</td>\n",
       "      <td>2010</td>\n",
       "      <td>Movie</td>\n",
       "      <td>PG-13</td>\n",
       "      <td>United States</td>\n",
       "      <td>Comedies</td>\n",
       "      <td>103.0</td>\n",
       "    </tr>\n",
       "  </tbody>\n",
       "</table>\n",
       "</div>"
      ],
      "text/plain": [
       "  show_id                 title  release_year   type rating        country  \\\n",
       "0      s1  Dick Johnson Is Dead          2020  Movie  PG-13  United States   \n",
       "1      s8               Sankofa          1993  Movie      R  United States   \n",
       "2     s10          The Starling          2021  Movie  PG-13  United States   \n",
       "3     s25                 Jeans          1998  Movie  PG-13          India   \n",
       "4     s28             Grown Ups          2010  Movie  PG-13  United States   \n",
       "\n",
       "           genre  duration  \n",
       "0  Documentaries      90.0  \n",
       "1         Dramas     125.0  \n",
       "2       Comedies     104.0  \n",
       "3       Comedies     166.0  \n",
       "4       Comedies     103.0  "
      ]
     },
     "execution_count": 1,
     "metadata": {},
     "output_type": "execute_result"
    }
   ],
   "source": [
    "# Dependencies and Setup\n",
    "import matplotlib.pyplot as plt\n",
    "import pandas as pd\n",
    "import numpy as np\n",
    "import seaborn as sns\n",
    "import scipy.stats as st\n",
    "from scipy.stats import ttest_ind\n",
    "\n",
    "\n",
    "# linear modelling\n",
    "import statsmodels.api as sm\n",
    "from scipy.stats import linregress\n",
    "from sklearn.linear_model import LinearRegression\n",
    "\n",
    "\n",
    "# Import API key. Renamed mine\n",
    "#from api_keys_Yvonne import weather_api_key\n",
    "\n",
    "# Incorporated citipy to determine city based on latitude and longitude\n",
    "#from citipy import citipy\n",
    "\n",
    "# Our Clean Netflix data (CSV)\n",
    "output_data_file = \"NetflixDF4.csv\"\n",
    "\n",
    "# Read the CSV\n",
    "netflix_df = pd.read_csv(output_data_file)\n",
    "\n",
    "# Display the data table for preview\n",
    "netflix_df.head()"
   ]
  },
  {
   "cell_type": "code",
   "execution_count": 2,
   "id": "6f706c98",
   "metadata": {},
   "outputs": [
    {
     "data": {
      "text/plain": [
       "R        1604\n",
       "PG-13    1207\n",
       "PG        614\n",
       "G          86\n",
       "NR         47\n",
       "Name: rating, dtype: int64"
      ]
     },
     "execution_count": 2,
     "metadata": {},
     "output_type": "execute_result"
    }
   ],
   "source": [
    "netflix_df.rating.value_counts()"
   ]
  },
  {
   "cell_type": "code",
   "execution_count": 3,
   "id": "1cc573f0",
   "metadata": {},
   "outputs": [
    {
     "name": "stdout",
     "output_type": "stream",
     "text": [
      "<class 'pandas.core.frame.DataFrame'>\n",
      "RangeIndex: 3558 entries, 0 to 3557\n",
      "Data columns (total 8 columns):\n",
      " #   Column        Non-Null Count  Dtype  \n",
      "---  ------        --------------  -----  \n",
      " 0   show_id       3558 non-null   object \n",
      " 1   title         3558 non-null   object \n",
      " 2   release_year  3558 non-null   int64  \n",
      " 3   type          3558 non-null   object \n",
      " 4   rating        3558 non-null   object \n",
      " 5   country       3558 non-null   object \n",
      " 6   genre         3558 non-null   object \n",
      " 7   duration      3558 non-null   float64\n",
      "dtypes: float64(1), int64(1), object(6)\n",
      "memory usage: 222.5+ KB\n"
     ]
    }
   ],
   "source": [
    "netflix_df.info()"
   ]
  },
  {
   "cell_type": "code",
   "execution_count": 4,
   "id": "6d1cb7eb",
   "metadata": {},
   "outputs": [
    {
     "data": {
      "text/html": [
       "<div>\n",
       "<style scoped>\n",
       "    .dataframe tbody tr th:only-of-type {\n",
       "        vertical-align: middle;\n",
       "    }\n",
       "\n",
       "    .dataframe tbody tr th {\n",
       "        vertical-align: top;\n",
       "    }\n",
       "\n",
       "    .dataframe thead th {\n",
       "        text-align: right;\n",
       "    }\n",
       "</style>\n",
       "<table border=\"1\" class=\"dataframe\">\n",
       "  <thead>\n",
       "    <tr style=\"text-align: right;\">\n",
       "      <th></th>\n",
       "      <th>show_id</th>\n",
       "      <th>title</th>\n",
       "      <th>release_year</th>\n",
       "      <th>type</th>\n",
       "      <th>rating</th>\n",
       "      <th>country</th>\n",
       "      <th>genre</th>\n",
       "      <th>duration</th>\n",
       "    </tr>\n",
       "  </thead>\n",
       "  <tbody>\n",
       "    <tr>\n",
       "      <th>18</th>\n",
       "      <td>s115</td>\n",
       "      <td>Anjaam</td>\n",
       "      <td>1994</td>\n",
       "      <td>Movie</td>\n",
       "      <td>PG-13</td>\n",
       "      <td>India</td>\n",
       "      <td>Dramas</td>\n",
       "      <td>143.0</td>\n",
       "    </tr>\n",
       "    <tr>\n",
       "      <th>22</th>\n",
       "      <td>s119</td>\n",
       "      <td>Gurgaon</td>\n",
       "      <td>2017</td>\n",
       "      <td>Movie</td>\n",
       "      <td>PG-13</td>\n",
       "      <td>India</td>\n",
       "      <td>Dramas</td>\n",
       "      <td>106.0</td>\n",
       "    </tr>\n",
       "    <tr>\n",
       "      <th>24</th>\n",
       "      <td>s127</td>\n",
       "      <td>Shikara</td>\n",
       "      <td>2020</td>\n",
       "      <td>Movie</td>\n",
       "      <td>PG-13</td>\n",
       "      <td>India</td>\n",
       "      <td>Dramas</td>\n",
       "      <td>115.0</td>\n",
       "    </tr>\n",
       "    <tr>\n",
       "      <th>62</th>\n",
       "      <td>s191</td>\n",
       "      <td>Thimmarusu</td>\n",
       "      <td>2021</td>\n",
       "      <td>Movie</td>\n",
       "      <td>PG-13</td>\n",
       "      <td>India</td>\n",
       "      <td>Dramas</td>\n",
       "      <td>125.0</td>\n",
       "    </tr>\n",
       "    <tr>\n",
       "      <th>68</th>\n",
       "      <td>s202</td>\n",
       "      <td>Kucch To Hai</td>\n",
       "      <td>2003</td>\n",
       "      <td>Movie</td>\n",
       "      <td>PG-13</td>\n",
       "      <td>India</td>\n",
       "      <td>Dramas</td>\n",
       "      <td>136.0</td>\n",
       "    </tr>\n",
       "  </tbody>\n",
       "</table>\n",
       "</div>"
      ],
      "text/plain": [
       "   show_id         title  release_year   type rating country   genre  duration\n",
       "18    s115        Anjaam          1994  Movie  PG-13   India  Dramas     143.0\n",
       "22    s119       Gurgaon          2017  Movie  PG-13   India  Dramas     106.0\n",
       "24    s127       Shikara          2020  Movie  PG-13   India  Dramas     115.0\n",
       "62    s191    Thimmarusu          2021  Movie  PG-13   India  Dramas     125.0\n",
       "68    s202  Kucch To Hai          2003  Movie  PG-13   India  Dramas     136.0"
      ]
     },
     "execution_count": 4,
     "metadata": {},
     "output_type": "execute_result"
    }
   ],
   "source": [
    "# i am doing 3 different models based on country\n",
    "# United States \n",
    "genre = \"Dramas\"\n",
    "india_df = netflix_df.loc[(netflix_df['country'] == 'India') & (netflix_df[\"genre\"]== genre)]\n",
    "india_df.head()"
   ]
  },
  {
   "cell_type": "code",
   "execution_count": 5,
   "id": "b270eb7e",
   "metadata": {},
   "outputs": [
    {
     "data": {
      "text/html": [
       "<div>\n",
       "<style scoped>\n",
       "    .dataframe tbody tr th:only-of-type {\n",
       "        vertical-align: middle;\n",
       "    }\n",
       "\n",
       "    .dataframe tbody tr th {\n",
       "        vertical-align: top;\n",
       "    }\n",
       "\n",
       "    .dataframe thead th {\n",
       "        text-align: right;\n",
       "    }\n",
       "</style>\n",
       "<table border=\"1\" class=\"dataframe\">\n",
       "  <thead>\n",
       "    <tr style=\"text-align: right;\">\n",
       "      <th></th>\n",
       "      <th>release_year</th>\n",
       "      <th>duration</th>\n",
       "    </tr>\n",
       "  </thead>\n",
       "  <tbody>\n",
       "    <tr>\n",
       "      <th>release_year</th>\n",
       "      <td>1.000000</td>\n",
       "      <td>-0.402367</td>\n",
       "    </tr>\n",
       "    <tr>\n",
       "      <th>duration</th>\n",
       "      <td>-0.402367</td>\n",
       "      <td>1.000000</td>\n",
       "    </tr>\n",
       "  </tbody>\n",
       "</table>\n",
       "</div>"
      ],
      "text/plain": [
       "              release_year  duration\n",
       "release_year      1.000000 -0.402367\n",
       "duration         -0.402367  1.000000"
      ]
     },
     "execution_count": 5,
     "metadata": {},
     "output_type": "execute_result"
    }
   ],
   "source": [
    "#using hmk 5\n",
    "corrs= india_df.corr()\n",
    "corrs"
   ]
  },
  {
   "cell_type": "code",
   "execution_count": 6,
   "id": "bd28af96",
   "metadata": {},
   "outputs": [
    {
     "data": {
      "image/png": "[encoded data removed]",
      "text/plain": [
       "<Figure size 432x288 with 2 Axes>"
      ]
     },
     "metadata": {
      "needs_background": "light"
     },
     "output_type": "display_data"
    }
   ],
   "source": [
    "sns.heatmap(corrs, cmap = \"binary\")\n",
    "plt.title(\"India Drama Correlation Heat Map\",fontsize = 18, fontweight = \"bold\",fontname=\"Verdana\", color = \"#E50914\")\n",
    "plt.savefig(\"FIG 1.India Drama Correlation Heat Map.png\")\n",
    "plt.show()"
   ]
  },
  {
   "cell_type": "code",
   "execution_count": 7,
   "id": "0c8ed386",
   "metadata": {},
   "outputs": [],
   "source": [
    "# ValueError: '#0A0903' is not a valid value for name; supported values are 'Accent', 'Accent_r', 'Blues', 'Blues_r', 'BrBG', 'BrBG_r', 'BuGn', 'BuGn_r', 'BuPu', 'BuPu_r', 'CMRmap', 'CMRmap_r', 'Dark2', 'Dark2_r', 'GnBu', 'GnBu_r', 'Greens', 'Greens_r', 'Greys', 'Greys_r', 'OrRd', 'OrRd_r', 'Oranges', 'Oranges_r', 'PRGn', 'PRGn_r', 'Paired', 'Paired_r', 'Pastel1', 'Pastel1_r', 'Pastel2', 'Pastel2_r', 'PiYG', 'PiYG_r', 'PuBu', 'PuBuGn', 'PuBuGn_r', 'PuBu_r', 'PuOr', 'PuOr_r', 'PuRd', 'PuRd_r', 'Purples', 'Purples_r', 'RdBu', 'RdBu_r', 'RdGy', 'RdGy_r', 'RdPu', 'RdPu_r', 'RdYlBu', 'RdYlBu_r', 'RdYlGn', 'RdYlGn_r', 'Reds', 'Reds_r', 'Set1', 'Set1_r', 'Set2', 'Set2_r', 'Set3', 'Set3_r', 'Spectral', 'Spectral_r', 'Wistia', 'Wistia_r', 'YlGn', 'YlGnBu', 'YlGnBu_r', 'YlGn_r', 'YlOrBr', 'YlOrBr_r', 'YlOrRd', 'YlOrRd_r', 'afmhot', 'afmhot_r', 'autumn', 'autumn_r', 'binary', 'binary_r', 'bone', 'bone_r', 'brg', 'brg_r', 'bwr', 'bwr_r', 'cividis', 'cividis_r', 'cool', 'cool_r', 'coolwarm', 'coolwarm_r', 'copper', 'copper_r', 'crest', 'crest_r', 'cubehelix', 'cubehelix_r', 'flag', 'flag_r', 'flare', 'flare_r', 'gist_earth', 'gist_earth_r', 'gist_gray', 'gist_gray_r', 'gist_heat', 'gist_heat_r', 'gist_ncar', 'gist_ncar_r', 'gist_rainbow', 'gist_rainbow_r', 'gist_stern', 'gist_stern_r', 'gist_yarg', 'gist_yarg_r', 'gnuplot', 'gnuplot2', 'gnuplot2_r', 'gnuplot_r', 'gray', 'gray_r', 'hot', 'hot_r', 'hsv', 'hsv_r', 'icefire', 'icefire_r', 'inferno', 'inferno_r', 'jet', 'jet_r', 'magma', 'magma_r', 'mako', 'mako_r', 'nipy_spectral', 'nipy_spectral_r', 'ocean', 'ocean_r', 'pink', 'pink_r', 'plasma', 'plasma_r', 'prism', 'prism_r', 'rainbow', 'rainbow_r', 'rocket', 'rocket_r', 'seismic', 'seismic_r', 'spring', 'spring_r', 'summer', 'summer_r', 'tab10', 'tab10_r', 'tab20', 'tab20_r', 'tab20b', 'tab20b_r', 'tab20c', 'tab20c_r', 'terrain', 'terrain_r', 'turbo', 'turbo_r', 'twilight', 'twilight_r', 'twilight_shifted', 'twilight_shifted_r', 'viridis', 'viridis_r', 'vlag', 'vlag_r', 'winter', 'winter_r'\n",
    "#https://gallantlab.github.io/pycortex/colormaps.html"
   ]
  },
  {
   "cell_type": "code",
   "execution_count": 8,
   "id": "26f2913f",
   "metadata": {},
   "outputs": [
    {
     "name": "stdout",
     "output_type": "stream",
     "text": [
      "The correlation between release year and duration is (-0.40236714353703007, 3.7331169565147347e-17)\n"
     ]
    }
   ],
   "source": [
    "corr=(st.pearsonr(india_df['release_year'],india_df['duration']))\n",
    "corr\n",
    "print(f\"The correlation between release year and duration is {corr}\")"
   ]
  },
  {
   "cell_type": "code",
   "execution_count": 9,
   "id": "0649be70",
   "metadata": {},
   "outputs": [
    {
     "name": "stdout",
     "output_type": "stream",
     "text": [
      "The r-squared is: 0.16189931819814896\n"
     ]
    },
    {
     "data": {
      "image/png": "[encoded data removed]",
      "text/plain": [
       "<Figure size 432x288 with 1 Axes>"
      ]
     },
     "metadata": {
      "needs_background": "light"
     },
     "output_type": "display_data"
    }
   ],
   "source": [
    "#linear regression model like in class activity day 3 act 9\n",
    "\n",
    "x_values = india_df['release_year']\n",
    "y_values = india_df['duration']\n",
    "(slope, intercept, rvalue, pvalue, stderr) = linregress(x_values, y_values)\n",
    "regress_values = x_values * slope + intercept\n",
    "line_eq = \"y = \" + str(round(slope,2)) + \"x + \" + str(round(intercept,2))\n",
    "plt.scatter(x_values,y_values,color=\"#0A0903\",marker=\"o\")\n",
    "plt.plot(x_values,regress_values,\"r-\")\n",
    "plt.annotate(line_eq,(1970,80),fontsize=15,color=\"#0A0903\")\n",
    "plt.xlabel('Release year',fontsize = 14,fontweight = \"bold\",fontname=\"Verdana\")\n",
    "plt.ylabel('Duration (min)',fontsize = 14,fontweight = \"bold\",fontname=\"Verdana\")\n",
    "plt.title('India Drama: Release Year vs. Duration',fontsize = 20, fontweight = \"bold\",fontname=\"Verdana\", color = \"#E50914\")\n",
    "print(f\"The r-squared is: {rvalue**2}\")\n",
    "plt.savefig(\"FIG 2.India Drama Release Year vs. Duration.png\")\n",
    "plt.show()"
   ]
  },
  {
   "cell_type": "code",
   "execution_count": 10,
   "id": "e76054e0",
   "metadata": {},
   "outputs": [
    {
     "name": "stderr",
     "output_type": "stream",
     "text": [
      "C:\\Users\\yvonne\\anaconda3\\lib\\site-packages\\statsmodels\\tsa\\tsatools.py:142: FutureWarning: In a future version of pandas all arguments of concat except for the argument 'objs' will be keyword-only\n",
      "  x = pd.concat(x[::order], 1)\n"
     ]
    },
    {
     "data": {
      "text/html": [
       "<table class=\"simpletable\">\n",
       "<caption>OLS Regression Results</caption>\n",
       "<tr>\n",
       "  <th>Dep. Variable:</th>        <td>duration</td>     <th>  R-squared:         </th> <td>   0.162</td>\n",
       "</tr>\n",
       "<tr>\n",
       "  <th>Model:</th>                   <td>OLS</td>       <th>  Adj. R-squared:    </th> <td>   0.160</td>\n",
       "</tr>\n",
       "<tr>\n",
       "  <th>Method:</th>             <td>Least Squares</td>  <th>  F-statistic:       </th> <td>   77.66</td>\n",
       "</tr>\n",
       "<tr>\n",
       "  <th>Date:</th>             <td>Fri, 11 Feb 2022</td> <th>  Prob (F-statistic):</th> <td>3.73e-17</td>\n",
       "</tr>\n",
       "<tr>\n",
       "  <th>Time:</th>                 <td>17:06:06</td>     <th>  Log-Likelihood:    </th> <td> -1824.2</td>\n",
       "</tr>\n",
       "<tr>\n",
       "  <th>No. Observations:</th>      <td>   404</td>      <th>  AIC:               </th> <td>   3652.</td>\n",
       "</tr>\n",
       "<tr>\n",
       "  <th>Df Residuals:</th>          <td>   402</td>      <th>  BIC:               </th> <td>   3660.</td>\n",
       "</tr>\n",
       "<tr>\n",
       "  <th>Df Model:</th>              <td>     1</td>      <th>                     </th>     <td> </td>   \n",
       "</tr>\n",
       "<tr>\n",
       "  <th>Covariance Type:</th>      <td>nonrobust</td>    <th>                     </th>     <td> </td>   \n",
       "</tr>\n",
       "</table>\n",
       "<table class=\"simpletable\">\n",
       "<tr>\n",
       "        <td></td>          <th>coef</th>     <th>std err</th>      <th>t</th>      <th>P>|t|</th>  <th>[0.025</th>    <th>0.975]</th>  \n",
       "</tr>\n",
       "<tr>\n",
       "  <th>const</th>        <td> 2372.5785</td> <td>  255.052</td> <td>    9.302</td> <td> 0.000</td> <td> 1871.176</td> <td> 2873.981</td>\n",
       "</tr>\n",
       "<tr>\n",
       "  <th>release_year</th> <td>   -1.1168</td> <td>    0.127</td> <td>   -8.812</td> <td> 0.000</td> <td>   -1.366</td> <td>   -0.868</td>\n",
       "</tr>\n",
       "</table>\n",
       "<table class=\"simpletable\">\n",
       "<tr>\n",
       "  <th>Omnibus:</th>       <td> 6.709</td> <th>  Durbin-Watson:     </th> <td>   1.710</td>\n",
       "</tr>\n",
       "<tr>\n",
       "  <th>Prob(Omnibus):</th> <td> 0.035</td> <th>  Jarque-Bera (JB):  </th> <td>   7.533</td>\n",
       "</tr>\n",
       "<tr>\n",
       "  <th>Skew:</th>          <td> 0.203</td> <th>  Prob(JB):          </th> <td>  0.0231</td>\n",
       "</tr>\n",
       "<tr>\n",
       "  <th>Kurtosis:</th>      <td> 3.532</td> <th>  Cond. No.          </th> <td>4.65e+05</td>\n",
       "</tr>\n",
       "</table><br/><br/>Notes:<br/>[1] Standard Errors assume that the covariance matrix of the errors is correctly specified.<br/>[2] The condition number is large, 4.65e+05. This might indicate that there are<br/>strong multicollinearity or other numerical problems."
      ],
      "text/plain": [
       "<class 'statsmodels.iolib.summary.Summary'>\n",
       "\"\"\"\n",
       "                            OLS Regression Results                            \n",
       "==============================================================================\n",
       "Dep. Variable:               duration   R-squared:                       0.162\n",
       "Model:                            OLS   Adj. R-squared:                  0.160\n",
       "Method:                 Least Squares   F-statistic:                     77.66\n",
       "Date:                Fri, 11 Feb 2022   Prob (F-statistic):           3.73e-17\n",
       "Time:                        17:06:06   Log-Likelihood:                -1824.2\n",
       "No. Observations:                 404   AIC:                             3652.\n",
       "Df Residuals:                     402   BIC:                             3660.\n",
       "Df Model:                           1                                         \n",
       "Covariance Type:            nonrobust                                         \n",
       "================================================================================\n",
       "                   coef    std err          t      P>|t|      [0.025      0.975]\n",
       "--------------------------------------------------------------------------------\n",
       "const         2372.5785    255.052      9.302      0.000    1871.176    2873.981\n",
       "release_year    -1.1168      0.127     -8.812      0.000      -1.366      -0.868\n",
       "==============================================================================\n",
       "Omnibus:                        6.709   Durbin-Watson:                   1.710\n",
       "Prob(Omnibus):                  0.035   Jarque-Bera (JB):                7.533\n",
       "Skew:                           0.203   Prob(JB):                       0.0231\n",
       "Kurtosis:                       3.532   Cond. No.                     4.65e+05\n",
       "==============================================================================\n",
       "\n",
       "Notes:\n",
       "[1] Standard Errors assume that the covariance matrix of the errors is correctly specified.\n",
       "[2] The condition number is large, 4.65e+05. This might indicate that there are\n",
       "strong multicollinearity or other numerical problems.\n",
       "\"\"\""
      ]
     },
     "execution_count": 10,
     "metadata": {},
     "output_type": "execute_result"
    }
   ],
   "source": [
    "feature = india_df[[\"release_year\"]]\n",
    "target = india_df[\"duration\"]\n",
    "\n",
    "# STATSMODELS\n",
    "X = sm.add_constant(feature)\n",
    "Y = target\n",
    "\n",
    "model = sm.OLS(Y,X)\n",
    "results = model.fit()\n",
    "results.summary()"
   ]
  },
  {
   "cell_type": "code",
   "execution_count": 11,
   "id": "7deb90f6",
   "metadata": {},
   "outputs": [],
   "source": [
    "# both my r2 are the same and my coeficcients"
   ]
  },
  {
   "cell_type": "code",
   "execution_count": 12,
   "id": "ff11ad2d",
   "metadata": {},
   "outputs": [
    {
     "name": "stdout",
     "output_type": "stream",
     "text": [
      "[-1.11675923]\n",
      "2372.5784974675885\n"
     ]
    }
   ],
   "source": [
    "#SCIKIT_Learn\n",
    "reg = LinearRegression()\n",
    "reg.fit(np.array(feature), np.array(target))\n",
    "print(reg.coef_)\n",
    "print(reg.intercept_)"
   ]
  },
  {
   "cell_type": "code",
   "execution_count": 13,
   "id": "6297ed45",
   "metadata": {},
   "outputs": [],
   "source": [
    "from sklearn.metrics import r2_score, mean_squared_error, mean_absolute_error"
   ]
  },
  {
   "cell_type": "code",
   "execution_count": 14,
   "id": "8e3510f8",
   "metadata": {
    "scrolled": true
   },
   "outputs": [
    {
     "name": "stdout",
     "output_type": "stream",
     "text": [
      "R2: 0.16189931819814873\n",
      "MSE: 489.1394373195355\n",
      "RMSE: 22.11649694955183\n",
      "MAE: 17.337337503837002\n"
     ]
    }
   ],
   "source": [
    "actual = india_df[\"duration\"]\n",
    "predictions = reg.predict(india_df[\"release_year\"].values.reshape(-1, 1))\n",
    "\n",
    "r2 = r2_score(actual, predictions)\n",
    "mse = mean_squared_error(actual, predictions)\n",
    "mae = mean_absolute_error(actual, predictions)\n",
    "\n",
    "print(f\"R2: {r2}\")\n",
    "print(f\"MSE: {mse}\")\n",
    "print(f\"RMSE: {np.sqrt(mse)}\")\n",
    "print(f\"MAE: {mae}\")"
   ]
  },
  {
   "cell_type": "markdown",
   "id": "26d4dba3",
   "metadata": {},
   "source": [
    "#booth\n",
    "#5.7% of the variance of duration is explained by releas year"
   ]
  },
  {
   "cell_type": "code",
   "execution_count": 15,
   "id": "ae24b818",
   "metadata": {},
   "outputs": [
    {
     "data": {
      "image/png": "[encoded data removed]",
      "text/plain": [
       "<Figure size 360x360 with 1 Axes>"
      ]
     },
     "metadata": {
      "needs_background": "light"
     },
     "output_type": "display_data"
    }
   ],
   "source": [
    "#questions about this one\n",
    "plt.figure(figsize=(5,5))\n",
    "\n",
    "plt.scatter(predictions, actual, c=\"black\")\n",
    "plt.plot(actual, actual,color=\"#E50914\", )\n",
    "\n",
    "plt.xlabel(\"Predicted\",fontsize = 14,fontweight = \"bold\",fontname=\"Verdana\")\n",
    "plt.ylabel(\"Actual\",fontsize = 14,fontweight = \"bold\",fontname=\"Verdana\")\n",
    "plt.title(\"India Drama: Predicted vs Actual\", fontsize = 20, fontweight = \"bold\",fontname=\"Verdana\", color = \"#E50914\")\n",
    "plt.savefig(\"FIG 3.India Drama Predicted vs Actual.png\")\n",
    "plt.show()"
   ]
  },
  {
   "cell_type": "code",
   "execution_count": 16,
   "id": "7dca470b",
   "metadata": {},
   "outputs": [
    {
     "data": {
      "image/png": "[encoded data removed]",
      "text/plain": [
       "<Figure size 360x360 with 1 Axes>"
      ]
     },
     "metadata": {
      "needs_background": "light"
     },
     "output_type": "display_data"
    }
   ],
   "source": [
    "residuals = predictions - actual\n",
    "\n",
    "plt.figure(figsize=(5,5))\n",
    "\n",
    "plt.scatter(predictions, residuals,c=\"black\")\n",
    "plt.hlines(0, -10, 150,color=\"#E50914\")\n",
    "\n",
    "plt.xlabel(\"Predicted\",fontsize = 14,fontweight = \"bold\",fontname=\"Verdana\")\n",
    "plt.ylabel(\"Residuals\",fontsize = 14,fontweight = \"bold\",fontname=\"Verdana\")\n",
    "plt.title(\"India Drama: Predicted vs Residuals\", fontsize = 20, fontweight = \"bold\",fontname=\"Verdana\", color = \"#E50914\")\n",
    "plt.savefig(\"FIG 4.India Drama Predicted vs Actual.png\")\n",
    "plt.show()"
   ]
  },
  {
   "cell_type": "code",
   "execution_count": 17,
   "id": "dfe4e6dd",
   "metadata": {},
   "outputs": [
    {
     "data": {
      "text/html": [
       "<div>\n",
       "<style scoped>\n",
       "    .dataframe tbody tr th:only-of-type {\n",
       "        vertical-align: middle;\n",
       "    }\n",
       "\n",
       "    .dataframe tbody tr th {\n",
       "        vertical-align: top;\n",
       "    }\n",
       "\n",
       "    .dataframe thead th {\n",
       "        text-align: right;\n",
       "    }\n",
       "</style>\n",
       "<table border=\"1\" class=\"dataframe\">\n",
       "  <thead>\n",
       "    <tr style=\"text-align: right;\">\n",
       "      <th></th>\n",
       "      <th>release_year</th>\n",
       "      <th>duration</th>\n",
       "    </tr>\n",
       "  </thead>\n",
       "  <tbody>\n",
       "    <tr>\n",
       "      <th>count</th>\n",
       "      <td>404.000000</td>\n",
       "      <td>404.000000</td>\n",
       "    </tr>\n",
       "    <tr>\n",
       "      <th>mean</th>\n",
       "      <td>2012.576733</td>\n",
       "      <td>125.014851</td>\n",
       "    </tr>\n",
       "    <tr>\n",
       "      <th>std</th>\n",
       "      <td>8.715040</td>\n",
       "      <td>24.188359</td>\n",
       "    </tr>\n",
       "    <tr>\n",
       "      <th>min</th>\n",
       "      <td>1959.000000</td>\n",
       "      <td>41.000000</td>\n",
       "    </tr>\n",
       "    <tr>\n",
       "      <th>25%</th>\n",
       "      <td>2010.000000</td>\n",
       "      <td>107.000000</td>\n",
       "    </tr>\n",
       "    <tr>\n",
       "      <th>50%</th>\n",
       "      <td>2016.000000</td>\n",
       "      <td>124.000000</td>\n",
       "    </tr>\n",
       "    <tr>\n",
       "      <th>75%</th>\n",
       "      <td>2018.000000</td>\n",
       "      <td>139.000000</td>\n",
       "    </tr>\n",
       "    <tr>\n",
       "      <th>max</th>\n",
       "      <td>2021.000000</td>\n",
       "      <td>224.000000</td>\n",
       "    </tr>\n",
       "  </tbody>\n",
       "</table>\n",
       "</div>"
      ],
      "text/plain": [
       "       release_year    duration\n",
       "count    404.000000  404.000000\n",
       "mean    2012.576733  125.014851\n",
       "std        8.715040   24.188359\n",
       "min     1959.000000   41.000000\n",
       "25%     2010.000000  107.000000\n",
       "50%     2016.000000  124.000000\n",
       "75%     2018.000000  139.000000\n",
       "max     2021.000000  224.000000"
      ]
     },
     "execution_count": 17,
     "metadata": {},
     "output_type": "execute_result"
    }
   ],
   "source": [
    "india_df.describe()"
   ]
  },
  {
   "cell_type": "markdown",
   "id": "fb7f42b5",
   "metadata": {},
   "source": [
    "# HORROR MOVIES\n"
   ]
  },
  {
   "cell_type": "code",
   "execution_count": 18,
   "id": "cddd2f15",
   "metadata": {},
   "outputs": [
    {
     "data": {
      "text/html": [
       "<div>\n",
       "<style scoped>\n",
       "    .dataframe tbody tr th:only-of-type {\n",
       "        vertical-align: middle;\n",
       "    }\n",
       "\n",
       "    .dataframe tbody tr th {\n",
       "        vertical-align: top;\n",
       "    }\n",
       "\n",
       "    .dataframe thead th {\n",
       "        text-align: right;\n",
       "    }\n",
       "</style>\n",
       "<table border=\"1\" class=\"dataframe\">\n",
       "  <thead>\n",
       "    <tr style=\"text-align: right;\">\n",
       "      <th></th>\n",
       "      <th>show_id</th>\n",
       "      <th>title</th>\n",
       "      <th>release_year</th>\n",
       "      <th>type</th>\n",
       "      <th>rating</th>\n",
       "      <th>country</th>\n",
       "      <th>genre</th>\n",
       "      <th>duration</th>\n",
       "    </tr>\n",
       "  </thead>\n",
       "  <tbody>\n",
       "    <tr>\n",
       "      <th>77</th>\n",
       "      <td>s211</td>\n",
       "      <td>Ragini MMS</td>\n",
       "      <td>2011</td>\n",
       "      <td>Movie</td>\n",
       "      <td>R</td>\n",
       "      <td>India</td>\n",
       "      <td>Horror Movies</td>\n",
       "      <td>93.0</td>\n",
       "    </tr>\n",
       "    <tr>\n",
       "      <th>78</th>\n",
       "      <td>s212</td>\n",
       "      <td>Ragini MMS 2</td>\n",
       "      <td>2014</td>\n",
       "      <td>Movie</td>\n",
       "      <td>R</td>\n",
       "      <td>India</td>\n",
       "      <td>Horror Movies</td>\n",
       "      <td>113.0</td>\n",
       "    </tr>\n",
       "    <tr>\n",
       "      <th>529</th>\n",
       "      <td>s1654</td>\n",
       "      <td>Andhakaaram</td>\n",
       "      <td>2020</td>\n",
       "      <td>Movie</td>\n",
       "      <td>PG-13</td>\n",
       "      <td>India</td>\n",
       "      <td>Horror Movies</td>\n",
       "      <td>171.0</td>\n",
       "    </tr>\n",
       "    <tr>\n",
       "      <th>573</th>\n",
       "      <td>s1778</td>\n",
       "      <td>Kaali Khuhi</td>\n",
       "      <td>2020</td>\n",
       "      <td>Movie</td>\n",
       "      <td>PG-13</td>\n",
       "      <td>India</td>\n",
       "      <td>Horror Movies</td>\n",
       "      <td>91.0</td>\n",
       "    </tr>\n",
       "    <tr>\n",
       "      <th>763</th>\n",
       "      <td>s2343</td>\n",
       "      <td>Bulbbul</td>\n",
       "      <td>2020</td>\n",
       "      <td>Movie</td>\n",
       "      <td>R</td>\n",
       "      <td>India</td>\n",
       "      <td>Horror Movies</td>\n",
       "      <td>94.0</td>\n",
       "    </tr>\n",
       "  </tbody>\n",
       "</table>\n",
       "</div>"
      ],
      "text/plain": [
       "    show_id         title  release_year   type rating country          genre  \\\n",
       "77     s211    Ragini MMS          2011  Movie      R   India  Horror Movies   \n",
       "78     s212  Ragini MMS 2          2014  Movie      R   India  Horror Movies   \n",
       "529   s1654   Andhakaaram          2020  Movie  PG-13   India  Horror Movies   \n",
       "573   s1778   Kaali Khuhi          2020  Movie  PG-13   India  Horror Movies   \n",
       "763   s2343       Bulbbul          2020  Movie      R   India  Horror Movies   \n",
       "\n",
       "     duration  \n",
       "77       93.0  \n",
       "78      113.0  \n",
       "529     171.0  \n",
       "573      91.0  \n",
       "763      94.0  "
      ]
     },
     "execution_count": 18,
     "metadata": {},
     "output_type": "execute_result"
    }
   ],
   "source": [
    "# i am doing 3 different models based on country\n",
    "# United States \n",
    "genre = \"Horror Movies\"\n",
    "india_df = netflix_df.loc[(netflix_df['country'] == 'India') & (netflix_df[\"genre\"]== genre)]\n",
    "india_df.head()"
   ]
  },
  {
   "cell_type": "code",
   "execution_count": 19,
   "id": "03d7331a",
   "metadata": {},
   "outputs": [
    {
     "data": {
      "text/html": [
       "<div>\n",
       "<style scoped>\n",
       "    .dataframe tbody tr th:only-of-type {\n",
       "        vertical-align: middle;\n",
       "    }\n",
       "\n",
       "    .dataframe tbody tr th {\n",
       "        vertical-align: top;\n",
       "    }\n",
       "\n",
       "    .dataframe thead th {\n",
       "        text-align: right;\n",
       "    }\n",
       "</style>\n",
       "<table border=\"1\" class=\"dataframe\">\n",
       "  <thead>\n",
       "    <tr style=\"text-align: right;\">\n",
       "      <th></th>\n",
       "      <th>release_year</th>\n",
       "      <th>duration</th>\n",
       "    </tr>\n",
       "  </thead>\n",
       "  <tbody>\n",
       "    <tr>\n",
       "      <th>release_year</th>\n",
       "      <td>1.000000</td>\n",
       "      <td>0.121613</td>\n",
       "    </tr>\n",
       "    <tr>\n",
       "      <th>duration</th>\n",
       "      <td>0.121613</td>\n",
       "      <td>1.000000</td>\n",
       "    </tr>\n",
       "  </tbody>\n",
       "</table>\n",
       "</div>"
      ],
      "text/plain": [
       "              release_year  duration\n",
       "release_year      1.000000  0.121613\n",
       "duration          0.121613  1.000000"
      ]
     },
     "execution_count": 19,
     "metadata": {},
     "output_type": "execute_result"
    }
   ],
   "source": [
    "#using hmk 5\n",
    "corrs= india_df.corr()\n",
    "corrs"
   ]
  },
  {
   "cell_type": "code",
   "execution_count": 20,
   "id": "81e86bbf",
   "metadata": {},
   "outputs": [
    {
     "data": {
      "image/png": "[encoded data removed]",
      "text/plain": [
       "<Figure size 432x288 with 2 Axes>"
      ]
     },
     "metadata": {
      "needs_background": "light"
     },
     "output_type": "display_data"
    }
   ],
   "source": [
    "sns.heatmap(corrs, cmap = \"binary\")\n",
    "plt.title(\"India Horror Correlation Heat Map\",fontsize = 18, fontweight = \"bold\",fontname=\"Verdana\", color = \"#E50914\")\n",
    "plt.savefig(\"FIG 1.India Horror Correlation Heat Map.png\")\n",
    "plt.show()"
   ]
  },
  {
   "cell_type": "code",
   "execution_count": 21,
   "id": "27db3535",
   "metadata": {},
   "outputs": [],
   "source": [
    "# ValueError: '#0A0903' is not a valid value for name; supported values are 'Accent', 'Accent_r', 'Blues', 'Blues_r', 'BrBG', 'BrBG_r', 'BuGn', 'BuGn_r', 'BuPu', 'BuPu_r', 'CMRmap', 'CMRmap_r', 'Dark2', 'Dark2_r', 'GnBu', 'GnBu_r', 'Greens', 'Greens_r', 'Greys', 'Greys_r', 'OrRd', 'OrRd_r', 'Oranges', 'Oranges_r', 'PRGn', 'PRGn_r', 'Paired', 'Paired_r', 'Pastel1', 'Pastel1_r', 'Pastel2', 'Pastel2_r', 'PiYG', 'PiYG_r', 'PuBu', 'PuBuGn', 'PuBuGn_r', 'PuBu_r', 'PuOr', 'PuOr_r', 'PuRd', 'PuRd_r', 'Purples', 'Purples_r', 'RdBu', 'RdBu_r', 'RdGy', 'RdGy_r', 'RdPu', 'RdPu_r', 'RdYlBu', 'RdYlBu_r', 'RdYlGn', 'RdYlGn_r', 'Reds', 'Reds_r', 'Set1', 'Set1_r', 'Set2', 'Set2_r', 'Set3', 'Set3_r', 'Spectral', 'Spectral_r', 'Wistia', 'Wistia_r', 'YlGn', 'YlGnBu', 'YlGnBu_r', 'YlGn_r', 'YlOrBr', 'YlOrBr_r', 'YlOrRd', 'YlOrRd_r', 'afmhot', 'afmhot_r', 'autumn', 'autumn_r', 'binary', 'binary_r', 'bone', 'bone_r', 'brg', 'brg_r', 'bwr', 'bwr_r', 'cividis', 'cividis_r', 'cool', 'cool_r', 'coolwarm', 'coolwarm_r', 'copper', 'copper_r', 'crest', 'crest_r', 'cubehelix', 'cubehelix_r', 'flag', 'flag_r', 'flare', 'flare_r', 'gist_earth', 'gist_earth_r', 'gist_gray', 'gist_gray_r', 'gist_heat', 'gist_heat_r', 'gist_ncar', 'gist_ncar_r', 'gist_rainbow', 'gist_rainbow_r', 'gist_stern', 'gist_stern_r', 'gist_yarg', 'gist_yarg_r', 'gnuplot', 'gnuplot2', 'gnuplot2_r', 'gnuplot_r', 'gray', 'gray_r', 'hot', 'hot_r', 'hsv', 'hsv_r', 'icefire', 'icefire_r', 'inferno', 'inferno_r', 'jet', 'jet_r', 'magma', 'magma_r', 'mako', 'mako_r', 'nipy_spectral', 'nipy_spectral_r', 'ocean', 'ocean_r', 'pink', 'pink_r', 'plasma', 'plasma_r', 'prism', 'prism_r', 'rainbow', 'rainbow_r', 'rocket', 'rocket_r', 'seismic', 'seismic_r', 'spring', 'spring_r', 'summer', 'summer_r', 'tab10', 'tab10_r', 'tab20', 'tab20_r', 'tab20b', 'tab20b_r', 'tab20c', 'tab20c_r', 'terrain', 'terrain_r', 'turbo', 'turbo_r', 'twilight', 'twilight_r', 'twilight_shifted', 'twilight_shifted_r', 'viridis', 'viridis_r', 'vlag', 'vlag_r', 'winter', 'winter_r'\n",
    "#https://gallantlab.github.io/pycortex/colormaps.html"
   ]
  },
  {
   "cell_type": "code",
   "execution_count": 22,
   "id": "a38d32f5",
   "metadata": {},
   "outputs": [
    {
     "name": "stdout",
     "output_type": "stream",
     "text": [
      "The correlation between release year and duration is (0.12161323336356376, 0.5220540456544737)\n"
     ]
    }
   ],
   "source": [
    "corr=(st.pearsonr(india_df['release_year'],india_df['duration']))\n",
    "corr\n",
    "print(f\"The correlation between release year and duration is {corr}\")"
   ]
  },
  {
   "cell_type": "code",
   "execution_count": 23,
   "id": "0258034f",
   "metadata": {},
   "outputs": [
    {
     "name": "stdout",
     "output_type": "stream",
     "text": [
      "The r-squared is: 0.014789778529140608\n"
     ]
    },
    {
     "data": {
      "image/png": "[encoded data removed]",
      "text/plain": [
       "<Figure size 432x288 with 1 Axes>"
      ]
     },
     "metadata": {
      "needs_background": "light"
     },
     "output_type": "display_data"
    }
   ],
   "source": [
    "#linear regression model like in class activity day 3 act 9\n",
    "\n",
    "x_values = india_df['release_year']\n",
    "y_values = india_df['duration']\n",
    "(slope, intercept, rvalue, pvalue, stderr) = linregress(x_values, y_values)\n",
    "regress_values = x_values * slope + intercept\n",
    "line_eq = \"y = \" + str(round(slope,2)) + \"x + \" + str(round(intercept,2))\n",
    "plt.scatter(x_values,y_values,color=\"#0A0903\",marker=\"o\")\n",
    "plt.plot(x_values,regress_values,\"r-\")\n",
    "plt.annotate(line_eq,(2003,80),fontsize=15,color=\"#0A0903\")\n",
    "plt.xlabel('Release year',fontsize = 14,fontweight = \"bold\",fontname=\"Verdana\")\n",
    "plt.ylabel('Duration (min)',fontsize = 14,fontweight = \"bold\",fontname=\"Verdana\")\n",
    "plt.title('India Horror: Release Year vs. Duration',fontsize = 20, fontweight = \"bold\",fontname=\"Verdana\", color = \"#E50914\")\n",
    "print(f\"The r-squared is: {rvalue**2}\")\n",
    "plt.savefig(\"FIG 2.India Horror Release Year vs. Duration.png\")\n",
    "plt.show()"
   ]
  },
  {
   "cell_type": "code",
   "execution_count": 24,
   "id": "666a2f16",
   "metadata": {},
   "outputs": [
    {
     "name": "stderr",
     "output_type": "stream",
     "text": [
      "C:\\Users\\yvonne\\anaconda3\\lib\\site-packages\\statsmodels\\tsa\\tsatools.py:142: FutureWarning: In a future version of pandas all arguments of concat except for the argument 'objs' will be keyword-only\n",
      "  x = pd.concat(x[::order], 1)\n"
     ]
    },
    {
     "data": {
      "text/html": [
       "<table class=\"simpletable\">\n",
       "<caption>OLS Regression Results</caption>\n",
       "<tr>\n",
       "  <th>Dep. Variable:</th>        <td>duration</td>     <th>  R-squared:         </th> <td>   0.015</td>\n",
       "</tr>\n",
       "<tr>\n",
       "  <th>Model:</th>                   <td>OLS</td>       <th>  Adj. R-squared:    </th> <td>  -0.020</td>\n",
       "</tr>\n",
       "<tr>\n",
       "  <th>Method:</th>             <td>Least Squares</td>  <th>  F-statistic:       </th> <td>  0.4203</td>\n",
       "</tr>\n",
       "<tr>\n",
       "  <th>Date:</th>             <td>Fri, 11 Feb 2022</td> <th>  Prob (F-statistic):</th>  <td> 0.522</td> \n",
       "</tr>\n",
       "<tr>\n",
       "  <th>Time:</th>                 <td>17:06:08</td>     <th>  Log-Likelihood:    </th> <td> -132.11</td>\n",
       "</tr>\n",
       "<tr>\n",
       "  <th>No. Observations:</th>      <td>    30</td>      <th>  AIC:               </th> <td>   268.2</td>\n",
       "</tr>\n",
       "<tr>\n",
       "  <th>Df Residuals:</th>          <td>    28</td>      <th>  BIC:               </th> <td>   271.0</td>\n",
       "</tr>\n",
       "<tr>\n",
       "  <th>Df Model:</th>              <td>     1</td>      <th>                     </th>     <td> </td>   \n",
       "</tr>\n",
       "<tr>\n",
       "  <th>Covariance Type:</th>      <td>nonrobust</td>    <th>                     </th>     <td> </td>   \n",
       "</tr>\n",
       "</table>\n",
       "<table class=\"simpletable\">\n",
       "<tr>\n",
       "        <td></td>          <th>coef</th>     <th>std err</th>      <th>t</th>      <th>P>|t|</th>  <th>[0.025</th>    <th>0.975]</th>  \n",
       "</tr>\n",
       "<tr>\n",
       "  <th>const</th>        <td> -841.6172</td> <td> 1470.273</td> <td>   -0.572</td> <td> 0.572</td> <td>-3853.334</td> <td> 2170.100</td>\n",
       "</tr>\n",
       "<tr>\n",
       "  <th>release_year</th> <td>    0.4732</td> <td>    0.730</td> <td>    0.648</td> <td> 0.522</td> <td>   -1.022</td> <td>    1.968</td>\n",
       "</tr>\n",
       "</table>\n",
       "<table class=\"simpletable\">\n",
       "<tr>\n",
       "  <th>Omnibus:</th>       <td> 5.481</td> <th>  Durbin-Watson:     </th> <td>   1.992</td>\n",
       "</tr>\n",
       "<tr>\n",
       "  <th>Prob(Omnibus):</th> <td> 0.065</td> <th>  Jarque-Bera (JB):  </th> <td>   4.012</td>\n",
       "</tr>\n",
       "<tr>\n",
       "  <th>Skew:</th>          <td> 0.865</td> <th>  Prob(JB):          </th> <td>   0.135</td>\n",
       "</tr>\n",
       "<tr>\n",
       "  <th>Kurtosis:</th>      <td> 3.462</td> <th>  Cond. No.          </th> <td>7.92e+05</td>\n",
       "</tr>\n",
       "</table><br/><br/>Notes:<br/>[1] Standard Errors assume that the covariance matrix of the errors is correctly specified.<br/>[2] The condition number is large, 7.92e+05. This might indicate that there are<br/>strong multicollinearity or other numerical problems."
      ],
      "text/plain": [
       "<class 'statsmodels.iolib.summary.Summary'>\n",
       "\"\"\"\n",
       "                            OLS Regression Results                            \n",
       "==============================================================================\n",
       "Dep. Variable:               duration   R-squared:                       0.015\n",
       "Model:                            OLS   Adj. R-squared:                 -0.020\n",
       "Method:                 Least Squares   F-statistic:                    0.4203\n",
       "Date:                Fri, 11 Feb 2022   Prob (F-statistic):              0.522\n",
       "Time:                        17:06:08   Log-Likelihood:                -132.11\n",
       "No. Observations:                  30   AIC:                             268.2\n",
       "Df Residuals:                      28   BIC:                             271.0\n",
       "Df Model:                           1                                         \n",
       "Covariance Type:            nonrobust                                         \n",
       "================================================================================\n",
       "                   coef    std err          t      P>|t|      [0.025      0.975]\n",
       "--------------------------------------------------------------------------------\n",
       "const         -841.6172   1470.273     -0.572      0.572   -3853.334    2170.100\n",
       "release_year     0.4732      0.730      0.648      0.522      -1.022       1.968\n",
       "==============================================================================\n",
       "Omnibus:                        5.481   Durbin-Watson:                   1.992\n",
       "Prob(Omnibus):                  0.065   Jarque-Bera (JB):                4.012\n",
       "Skew:                           0.865   Prob(JB):                        0.135\n",
       "Kurtosis:                       3.462   Cond. No.                     7.92e+05\n",
       "==============================================================================\n",
       "\n",
       "Notes:\n",
       "[1] Standard Errors assume that the covariance matrix of the errors is correctly specified.\n",
       "[2] The condition number is large, 7.92e+05. This might indicate that there are\n",
       "strong multicollinearity or other numerical problems.\n",
       "\"\"\""
      ]
     },
     "execution_count": 24,
     "metadata": {},
     "output_type": "execute_result"
    }
   ],
   "source": [
    "feature = india_df[[\"release_year\"]]\n",
    "target = india_df[\"duration\"]\n",
    "\n",
    "# STATSMODELS\n",
    "X = sm.add_constant(feature)\n",
    "Y = target\n",
    "\n",
    "model = sm.OLS(Y,X)\n",
    "results = model.fit()\n",
    "results.summary()"
   ]
  },
  {
   "cell_type": "code",
   "execution_count": 25,
   "id": "ef8236bd",
   "metadata": {},
   "outputs": [],
   "source": [
    "# both my r2 are the same and my coeficcients"
   ]
  },
  {
   "cell_type": "code",
   "execution_count": 26,
   "id": "4b206507",
   "metadata": {},
   "outputs": [
    {
     "name": "stdout",
     "output_type": "stream",
     "text": [
      "[0.47320937]\n",
      "-841.6171798890255\n"
     ]
    }
   ],
   "source": [
    "#SCIKIT_Learn\n",
    "reg = LinearRegression()\n",
    "reg.fit(np.array(feature), np.array(target))\n",
    "print(reg.coef_)\n",
    "print(reg.intercept_)"
   ]
  },
  {
   "cell_type": "code",
   "execution_count": 27,
   "id": "57a8dfe8",
   "metadata": {},
   "outputs": [],
   "source": [
    "from sklearn.metrics import r2_score, mean_squared_error, mean_absolute_error"
   ]
  },
  {
   "cell_type": "code",
   "execution_count": 28,
   "id": "aa4e93fb",
   "metadata": {},
   "outputs": [
    {
     "name": "stdout",
     "output_type": "stream",
     "text": [
      "R2: 0.014789778529140207\n",
      "MSE: 391.2992276956529\n",
      "RMSE: 19.781284783745797\n",
      "MAE: 15.657893176331065\n"
     ]
    }
   ],
   "source": [
    "actual = india_df[\"duration\"]\n",
    "predictions = reg.predict(india_df[\"release_year\"].values.reshape(-1, 1))\n",
    "\n",
    "r2 = r2_score(actual, predictions)\n",
    "mse = mean_squared_error(actual, predictions)\n",
    "mae = mean_absolute_error(actual, predictions)\n",
    "\n",
    "print(f\"R2: {r2}\")\n",
    "print(f\"MSE: {mse}\")\n",
    "print(f\"RMSE: {np.sqrt(mse)}\")\n",
    "print(f\"MAE: {mae}\")"
   ]
  },
  {
   "cell_type": "code",
   "execution_count": 29,
   "id": "f893f8ac",
   "metadata": {},
   "outputs": [
    {
     "data": {
      "image/png": "[encoded data removed]",
      "text/plain": [
       "<Figure size 360x360 with 1 Axes>"
      ]
     },
     "metadata": {
      "needs_background": "light"
     },
     "output_type": "display_data"
    }
   ],
   "source": [
    "#questions about this one\n",
    "plt.figure(figsize=(5,5))\n",
    "\n",
    "plt.scatter(predictions, actual, c=\"black\")\n",
    "plt.plot(actual, actual,color=\"#E50914\", )\n",
    "\n",
    "plt.xlabel(\"Predicted\",fontsize = 14,fontweight = \"bold\",fontname=\"Verdana\")\n",
    "plt.ylabel(\"Actual\",fontsize = 14,fontweight = \"bold\",fontname=\"Verdana\")\n",
    "plt.title(\"India Horror: Predicted vs Actual\", fontsize = 20, fontweight = \"bold\",fontname=\"Verdana\", color = \"#E50914\")\n",
    "plt.savefig(\"FIG 3.India Horror Predicted vs Actual.png\")\n",
    "plt.show()"
   ]
  },
  {
   "cell_type": "code",
   "execution_count": 30,
   "id": "87b52e3d",
   "metadata": {},
   "outputs": [
    {
     "data": {
      "image/png": "[encoded data removed]",
      "text/plain": [
       "<Figure size 360x360 with 1 Axes>"
      ]
     },
     "metadata": {
      "needs_background": "light"
     },
     "output_type": "display_data"
    }
   ],
   "source": [
    "residuals = predictions - actual\n",
    "\n",
    "plt.figure(figsize=(5,5))\n",
    "\n",
    "plt.scatter(predictions, residuals,c=\"black\")\n",
    "plt.hlines(0, -10, 150,color=\"#E50914\")\n",
    "\n",
    "plt.xlabel(\"Predicted\",fontsize = 14,fontweight = \"bold\",fontname=\"Verdana\")\n",
    "plt.ylabel(\"Residuals\",fontsize = 14,fontweight = \"bold\",fontname=\"Verdana\")\n",
    "plt.title(\"India Horror: Predicted vs Residuals\", fontsize = 20, fontweight = \"bold\",fontname=\"Verdana\", color = \"#E50914\")\n",
    "plt.savefig(\"FIG 4.India Horror Predicted vs Actual.png\")\n",
    "plt.show()"
   ]
  },
  {
   "cell_type": "markdown",
   "id": "f54086d9",
   "metadata": {},
   "source": [
    "# Action & Adventure"
   ]
  },
  {
   "cell_type": "code",
   "execution_count": 31,
   "id": "19662c10",
   "metadata": {},
   "outputs": [
    {
     "data": {
      "text/html": [
       "<div>\n",
       "<style scoped>\n",
       "    .dataframe tbody tr th:only-of-type {\n",
       "        vertical-align: middle;\n",
       "    }\n",
       "\n",
       "    .dataframe tbody tr th {\n",
       "        vertical-align: top;\n",
       "    }\n",
       "\n",
       "    .dataframe thead th {\n",
       "        text-align: right;\n",
       "    }\n",
       "</style>\n",
       "<table border=\"1\" class=\"dataframe\">\n",
       "  <thead>\n",
       "    <tr style=\"text-align: right;\">\n",
       "      <th></th>\n",
       "      <th>show_id</th>\n",
       "      <th>title</th>\n",
       "      <th>release_year</th>\n",
       "      <th>type</th>\n",
       "      <th>rating</th>\n",
       "      <th>country</th>\n",
       "      <th>genre</th>\n",
       "      <th>duration</th>\n",
       "    </tr>\n",
       "  </thead>\n",
       "  <tbody>\n",
       "    <tr>\n",
       "      <th>16</th>\n",
       "      <td>s106</td>\n",
       "      <td>Angamaly Diaries</td>\n",
       "      <td>2017</td>\n",
       "      <td>Movie</td>\n",
       "      <td>PG-13</td>\n",
       "      <td>India</td>\n",
       "      <td>Action &amp; Adventure</td>\n",
       "      <td>128.0</td>\n",
       "    </tr>\n",
       "    <tr>\n",
       "      <th>64</th>\n",
       "      <td>s193</td>\n",
       "      <td>C Kkompany</td>\n",
       "      <td>2008</td>\n",
       "      <td>Movie</td>\n",
       "      <td>PG-13</td>\n",
       "      <td>India</td>\n",
       "      <td>Action &amp; Adventure</td>\n",
       "      <td>127.0</td>\n",
       "    </tr>\n",
       "    <tr>\n",
       "      <th>67</th>\n",
       "      <td>s201</td>\n",
       "      <td>Krishna Cottage</td>\n",
       "      <td>2004</td>\n",
       "      <td>Movie</td>\n",
       "      <td>PG-13</td>\n",
       "      <td>India</td>\n",
       "      <td>Action &amp; Adventure</td>\n",
       "      <td>124.0</td>\n",
       "    </tr>\n",
       "    <tr>\n",
       "      <th>74</th>\n",
       "      <td>s208</td>\n",
       "      <td>Mission Istaanbul: Darr Ke Aagey Jeet Hai</td>\n",
       "      <td>2008</td>\n",
       "      <td>Movie</td>\n",
       "      <td>PG-13</td>\n",
       "      <td>India</td>\n",
       "      <td>Action &amp; Adventure</td>\n",
       "      <td>119.0</td>\n",
       "    </tr>\n",
       "    <tr>\n",
       "      <th>79</th>\n",
       "      <td>s216</td>\n",
       "      <td>Shootout at Lokhandwala</td>\n",
       "      <td>2007</td>\n",
       "      <td>Movie</td>\n",
       "      <td>R</td>\n",
       "      <td>India</td>\n",
       "      <td>Action &amp; Adventure</td>\n",
       "      <td>116.0</td>\n",
       "    </tr>\n",
       "  </tbody>\n",
       "</table>\n",
       "</div>"
      ],
      "text/plain": [
       "   show_id                                      title  release_year   type  \\\n",
       "16    s106                           Angamaly Diaries          2017  Movie   \n",
       "64    s193                                 C Kkompany          2008  Movie   \n",
       "67    s201                            Krishna Cottage          2004  Movie   \n",
       "74    s208  Mission Istaanbul: Darr Ke Aagey Jeet Hai          2008  Movie   \n",
       "79    s216                    Shootout at Lokhandwala          2007  Movie   \n",
       "\n",
       "   rating country               genre  duration  \n",
       "16  PG-13   India  Action & Adventure     128.0  \n",
       "64  PG-13   India  Action & Adventure     127.0  \n",
       "67  PG-13   India  Action & Adventure     124.0  \n",
       "74  PG-13   India  Action & Adventure     119.0  \n",
       "79      R   India  Action & Adventure     116.0  "
      ]
     },
     "execution_count": 31,
     "metadata": {},
     "output_type": "execute_result"
    }
   ],
   "source": [
    "# i am doing 3 different models based on country\n",
    "# United States \n",
    "genre = \"Action & Adventure\"\n",
    "india_df = netflix_df.loc[(netflix_df['country'] == 'India') & (netflix_df[\"genre\"]== genre)]\n",
    "india_df.head()"
   ]
  },
  {
   "cell_type": "code",
   "execution_count": 32,
   "id": "1dc4e61b",
   "metadata": {},
   "outputs": [
    {
     "data": {
      "text/html": [
       "<div>\n",
       "<style scoped>\n",
       "    .dataframe tbody tr th:only-of-type {\n",
       "        vertical-align: middle;\n",
       "    }\n",
       "\n",
       "    .dataframe tbody tr th {\n",
       "        vertical-align: top;\n",
       "    }\n",
       "\n",
       "    .dataframe thead th {\n",
       "        text-align: right;\n",
       "    }\n",
       "</style>\n",
       "<table border=\"1\" class=\"dataframe\">\n",
       "  <thead>\n",
       "    <tr style=\"text-align: right;\">\n",
       "      <th></th>\n",
       "      <th>release_year</th>\n",
       "      <th>duration</th>\n",
       "    </tr>\n",
       "  </thead>\n",
       "  <tbody>\n",
       "    <tr>\n",
       "      <th>release_year</th>\n",
       "      <td>1.000000</td>\n",
       "      <td>-0.352122</td>\n",
       "    </tr>\n",
       "    <tr>\n",
       "      <th>duration</th>\n",
       "      <td>-0.352122</td>\n",
       "      <td>1.000000</td>\n",
       "    </tr>\n",
       "  </tbody>\n",
       "</table>\n",
       "</div>"
      ],
      "text/plain": [
       "              release_year  duration\n",
       "release_year      1.000000 -0.352122\n",
       "duration         -0.352122  1.000000"
      ]
     },
     "execution_count": 32,
     "metadata": {},
     "output_type": "execute_result"
    }
   ],
   "source": [
    "#using hmk 5\n",
    "corrs= india_df.corr()\n",
    "corrs"
   ]
  },
  {
   "cell_type": "code",
   "execution_count": 33,
   "id": "882b201d",
   "metadata": {},
   "outputs": [
    {
     "data": {
      "image/png": "[encoded data removed]",
      "text/plain": [
       "<Figure size 432x288 with 2 Axes>"
      ]
     },
     "metadata": {
      "needs_background": "light"
     },
     "output_type": "display_data"
    }
   ],
   "source": [
    "sns.heatmap(corrs, cmap = \"binary\")\n",
    "plt.title(\"India A&A Correlation Heat Map\",fontsize = 18, fontweight = \"bold\",fontname=\"Verdana\", color = \"#E50914\")\n",
    "plt.savefig(\"FIG 1.India A&A Correlation Heat Map.png\")\n",
    "plt.show()"
   ]
  },
  {
   "cell_type": "code",
   "execution_count": 34,
   "id": "58dbec31",
   "metadata": {},
   "outputs": [],
   "source": [
    "# ValueError: '#0A0903' is not a valid value for name; supported values are 'Accent', 'Accent_r', 'Blues', 'Blues_r', 'BrBG', 'BrBG_r', 'BuGn', 'BuGn_r', 'BuPu', 'BuPu_r', 'CMRmap', 'CMRmap_r', 'Dark2', 'Dark2_r', 'GnBu', 'GnBu_r', 'Greens', 'Greens_r', 'Greys', 'Greys_r', 'OrRd', 'OrRd_r', 'Oranges', 'Oranges_r', 'PRGn', 'PRGn_r', 'Paired', 'Paired_r', 'Pastel1', 'Pastel1_r', 'Pastel2', 'Pastel2_r', 'PiYG', 'PiYG_r', 'PuBu', 'PuBuGn', 'PuBuGn_r', 'PuBu_r', 'PuOr', 'PuOr_r', 'PuRd', 'PuRd_r', 'Purples', 'Purples_r', 'RdBu', 'RdBu_r', 'RdGy', 'RdGy_r', 'RdPu', 'RdPu_r', 'RdYlBu', 'RdYlBu_r', 'RdYlGn', 'RdYlGn_r', 'Reds', 'Reds_r', 'Set1', 'Set1_r', 'Set2', 'Set2_r', 'Set3', 'Set3_r', 'Spectral', 'Spectral_r', 'Wistia', 'Wistia_r', 'YlGn', 'YlGnBu', 'YlGnBu_r', 'YlGn_r', 'YlOrBr', 'YlOrBr_r', 'YlOrRd', 'YlOrRd_r', 'afmhot', 'afmhot_r', 'autumn', 'autumn_r', 'binary', 'binary_r', 'bone', 'bone_r', 'brg', 'brg_r', 'bwr', 'bwr_r', 'cividis', 'cividis_r', 'cool', 'cool_r', 'coolwarm', 'coolwarm_r', 'copper', 'copper_r', 'crest', 'crest_r', 'cubehelix', 'cubehelix_r', 'flag', 'flag_r', 'flare', 'flare_r', 'gist_earth', 'gist_earth_r', 'gist_gray', 'gist_gray_r', 'gist_heat', 'gist_heat_r', 'gist_ncar', 'gist_ncar_r', 'gist_rainbow', 'gist_rainbow_r', 'gist_stern', 'gist_stern_r', 'gist_yarg', 'gist_yarg_r', 'gnuplot', 'gnuplot2', 'gnuplot2_r', 'gnuplot_r', 'gray', 'gray_r', 'hot', 'hot_r', 'hsv', 'hsv_r', 'icefire', 'icefire_r', 'inferno', 'inferno_r', 'jet', 'jet_r', 'magma', 'magma_r', 'mako', 'mako_r', 'nipy_spectral', 'nipy_spectral_r', 'ocean', 'ocean_r', 'pink', 'pink_r', 'plasma', 'plasma_r', 'prism', 'prism_r', 'rainbow', 'rainbow_r', 'rocket', 'rocket_r', 'seismic', 'seismic_r', 'spring', 'spring_r', 'summer', 'summer_r', 'tab10', 'tab10_r', 'tab20', 'tab20_r', 'tab20b', 'tab20b_r', 'tab20c', 'tab20c_r', 'terrain', 'terrain_r', 'turbo', 'turbo_r', 'twilight', 'twilight_r', 'twilight_shifted', 'twilight_shifted_r', 'viridis', 'viridis_r', 'vlag', 'vlag_r', 'winter', 'winter_r'\n",
    "#https://gallantlab.github.io/pycortex/colormaps.html"
   ]
  },
  {
   "cell_type": "code",
   "execution_count": 35,
   "id": "0fcab03a",
   "metadata": {},
   "outputs": [
    {
     "name": "stdout",
     "output_type": "stream",
     "text": [
      "The correlation between release year and duration is (-0.3521220799251853, 3.983951031647036e-05)\n"
     ]
    }
   ],
   "source": [
    "corr=(st.pearsonr(india_df['release_year'],india_df['duration']))\n",
    "corr\n",
    "print(f\"The correlation between release year and duration is {corr}\")"
   ]
  },
  {
   "cell_type": "code",
   "execution_count": 36,
   "id": "b7704f90",
   "metadata": {},
   "outputs": [
    {
     "name": "stdout",
     "output_type": "stream",
     "text": [
      "The r-squared is: 0.12398995917083862\n"
     ]
    },
    {
     "data": {
      "image/png": "[encoded data removed]",
      "text/plain": [
       "<Figure size 432x288 with 1 Axes>"
      ]
     },
     "metadata": {
      "needs_background": "light"
     },
     "output_type": "display_data"
    }
   ],
   "source": [
    "#linear regression model like in class activity day 3 act 9\n",
    "\n",
    "x_values = india_df['release_year']\n",
    "y_values = india_df['duration']\n",
    "(slope, intercept, rvalue, pvalue, stderr) = linregress(x_values, y_values)\n",
    "regress_values = x_values * slope + intercept\n",
    "line_eq = \"y = \" + str(round(slope,2)) + \"x + \" + str(round(intercept,2))\n",
    "plt.scatter(x_values,y_values,color=\"#0A0903\",marker=\"o\")\n",
    "plt.plot(x_values,regress_values,\"r-\")\n",
    "plt.annotate(line_eq,(1970,80),fontsize=15,color=\"#0A0903\")\n",
    "plt.xlabel('Release year',fontsize = 14,fontweight = \"bold\",fontname=\"Verdana\")\n",
    "plt.ylabel('Duration (min)',fontsize = 14,fontweight = \"bold\",fontname=\"Verdana\")\n",
    "plt.title('India A&A: Release Year vs. Duration',fontsize = 20, fontweight = \"bold\",fontname=\"Verdana\", color = \"#E50914\")\n",
    "print(f\"The r-squared is: {rvalue**2}\")\n",
    "plt.savefig(\"FIG 2.India A&A Release Year vs. Duration.png\")\n",
    "plt.show()"
   ]
  },
  {
   "cell_type": "code",
   "execution_count": 37,
   "id": "27305f8f",
   "metadata": {},
   "outputs": [
    {
     "name": "stderr",
     "output_type": "stream",
     "text": [
      "C:\\Users\\yvonne\\anaconda3\\lib\\site-packages\\statsmodels\\tsa\\tsatools.py:142: FutureWarning: In a future version of pandas all arguments of concat except for the argument 'objs' will be keyword-only\n",
      "  x = pd.concat(x[::order], 1)\n"
     ]
    },
    {
     "data": {
      "text/html": [
       "<table class=\"simpletable\">\n",
       "<caption>OLS Regression Results</caption>\n",
       "<tr>\n",
       "  <th>Dep. Variable:</th>        <td>duration</td>     <th>  R-squared:         </th> <td>   0.124</td>\n",
       "</tr>\n",
       "<tr>\n",
       "  <th>Model:</th>                   <td>OLS</td>       <th>  Adj. R-squared:    </th> <td>   0.117</td>\n",
       "</tr>\n",
       "<tr>\n",
       "  <th>Method:</th>             <td>Least Squares</td>  <th>  F-statistic:       </th> <td>   18.12</td>\n",
       "</tr>\n",
       "<tr>\n",
       "  <th>Date:</th>             <td>Fri, 11 Feb 2022</td> <th>  Prob (F-statistic):</th> <td>3.98e-05</td>\n",
       "</tr>\n",
       "<tr>\n",
       "  <th>Time:</th>                 <td>17:06:11</td>     <th>  Log-Likelihood:    </th> <td> -575.30</td>\n",
       "</tr>\n",
       "<tr>\n",
       "  <th>No. Observations:</th>      <td>   130</td>      <th>  AIC:               </th> <td>   1155.</td>\n",
       "</tr>\n",
       "<tr>\n",
       "  <th>Df Residuals:</th>          <td>   128</td>      <th>  BIC:               </th> <td>   1160.</td>\n",
       "</tr>\n",
       "<tr>\n",
       "  <th>Df Model:</th>              <td>     1</td>      <th>                     </th>     <td> </td>   \n",
       "</tr>\n",
       "<tr>\n",
       "  <th>Covariance Type:</th>      <td>nonrobust</td>    <th>                     </th>     <td> </td>   \n",
       "</tr>\n",
       "</table>\n",
       "<table class=\"simpletable\">\n",
       "<tr>\n",
       "        <td></td>          <th>coef</th>     <th>std err</th>      <th>t</th>      <th>P>|t|</th>  <th>[0.025</th>    <th>0.975]</th>  \n",
       "</tr>\n",
       "<tr>\n",
       "  <th>const</th>        <td> 1398.5248</td> <td>  295.291</td> <td>    4.736</td> <td> 0.000</td> <td>  814.242</td> <td> 1982.808</td>\n",
       "</tr>\n",
       "<tr>\n",
       "  <th>release_year</th> <td>   -0.6260</td> <td>    0.147</td> <td>   -4.256</td> <td> 0.000</td> <td>   -0.917</td> <td>   -0.335</td>\n",
       "</tr>\n",
       "</table>\n",
       "<table class=\"simpletable\">\n",
       "<tr>\n",
       "  <th>Omnibus:</th>       <td> 3.773</td> <th>  Durbin-Watson:     </th> <td>   1.968</td>\n",
       "</tr>\n",
       "<tr>\n",
       "  <th>Prob(Omnibus):</th> <td> 0.152</td> <th>  Jarque-Bera (JB):  </th> <td>   4.518</td>\n",
       "</tr>\n",
       "<tr>\n",
       "  <th>Skew:</th>          <td>-0.026</td> <th>  Prob(JB):          </th> <td>   0.104</td>\n",
       "</tr>\n",
       "<tr>\n",
       "  <th>Kurtosis:</th>      <td> 3.912</td> <th>  Cond. No.          </th> <td>3.32e+05</td>\n",
       "</tr>\n",
       "</table><br/><br/>Notes:<br/>[1] Standard Errors assume that the covariance matrix of the errors is correctly specified.<br/>[2] The condition number is large, 3.32e+05. This might indicate that there are<br/>strong multicollinearity or other numerical problems."
      ],
      "text/plain": [
       "<class 'statsmodels.iolib.summary.Summary'>\n",
       "\"\"\"\n",
       "                            OLS Regression Results                            \n",
       "==============================================================================\n",
       "Dep. Variable:               duration   R-squared:                       0.124\n",
       "Model:                            OLS   Adj. R-squared:                  0.117\n",
       "Method:                 Least Squares   F-statistic:                     18.12\n",
       "Date:                Fri, 11 Feb 2022   Prob (F-statistic):           3.98e-05\n",
       "Time:                        17:06:11   Log-Likelihood:                -575.30\n",
       "No. Observations:                 130   AIC:                             1155.\n",
       "Df Residuals:                     128   BIC:                             1160.\n",
       "Df Model:                           1                                         \n",
       "Covariance Type:            nonrobust                                         \n",
       "================================================================================\n",
       "                   coef    std err          t      P>|t|      [0.025      0.975]\n",
       "--------------------------------------------------------------------------------\n",
       "const         1398.5248    295.291      4.736      0.000     814.242    1982.808\n",
       "release_year    -0.6260      0.147     -4.256      0.000      -0.917      -0.335\n",
       "==============================================================================\n",
       "Omnibus:                        3.773   Durbin-Watson:                   1.968\n",
       "Prob(Omnibus):                  0.152   Jarque-Bera (JB):                4.518\n",
       "Skew:                          -0.026   Prob(JB):                        0.104\n",
       "Kurtosis:                       3.912   Cond. No.                     3.32e+05\n",
       "==============================================================================\n",
       "\n",
       "Notes:\n",
       "[1] Standard Errors assume that the covariance matrix of the errors is correctly specified.\n",
       "[2] The condition number is large, 3.32e+05. This might indicate that there are\n",
       "strong multicollinearity or other numerical problems.\n",
       "\"\"\""
      ]
     },
     "execution_count": 37,
     "metadata": {},
     "output_type": "execute_result"
    }
   ],
   "source": [
    "feature = india_df[[\"release_year\"]]\n",
    "target = india_df[\"duration\"]\n",
    "\n",
    "# STATSMODELS\n",
    "X = sm.add_constant(feature)\n",
    "Y = target\n",
    "\n",
    "model = sm.OLS(Y,X)\n",
    "results = model.fit()\n",
    "results.summary()"
   ]
  },
  {
   "cell_type": "code",
   "execution_count": 38,
   "id": "f9b157f2",
   "metadata": {},
   "outputs": [],
   "source": [
    "# both my r2 are the same and my coeficcients"
   ]
  },
  {
   "cell_type": "code",
   "execution_count": 39,
   "id": "f3f56bfa",
   "metadata": {},
   "outputs": [
    {
     "name": "stdout",
     "output_type": "stream",
     "text": [
      "[-0.62600801]\n",
      "1398.5247822609583\n"
     ]
    }
   ],
   "source": [
    "#SCIKIT_Learn\n",
    "reg = LinearRegression()\n",
    "reg.fit(np.array(feature), np.array(target))\n",
    "print(reg.coef_)\n",
    "print(reg.intercept_)"
   ]
  },
  {
   "cell_type": "code",
   "execution_count": 40,
   "id": "6a0b4ce6",
   "metadata": {},
   "outputs": [],
   "source": [
    "from sklearn.metrics import r2_score, mean_squared_error, mean_absolute_error"
   ]
  },
  {
   "cell_type": "code",
   "execution_count": 41,
   "id": "c0e3f762",
   "metadata": {},
   "outputs": [
    {
     "name": "stdout",
     "output_type": "stream",
     "text": [
      "R2: 0.12398995917083733\n",
      "MSE: 408.6571808343083\n",
      "RMSE: 20.21527098097644\n",
      "MAE: 15.88421914388949\n"
     ]
    }
   ],
   "source": [
    "actual = india_df[\"duration\"]\n",
    "predictions = reg.predict(india_df[\"release_year\"].values.reshape(-1, 1))\n",
    "\n",
    "r2 = r2_score(actual, predictions)\n",
    "mse = mean_squared_error(actual, predictions)\n",
    "mae = mean_absolute_error(actual, predictions)\n",
    "\n",
    "print(f\"R2: {r2}\")\n",
    "print(f\"MSE: {mse}\")\n",
    "print(f\"RMSE: {np.sqrt(mse)}\")\n",
    "print(f\"MAE: {mae}\")"
   ]
  },
  {
   "cell_type": "code",
   "execution_count": 42,
   "id": "6a3bac80",
   "metadata": {},
   "outputs": [
    {
     "data": {
      "image/png": "[encoded data removed]",
      "text/plain": [
       "<Figure size 360x360 with 1 Axes>"
      ]
     },
     "metadata": {
      "needs_background": "light"
     },
     "output_type": "display_data"
    }
   ],
   "source": [
    "#questions about this one\n",
    "plt.figure(figsize=(5,5))\n",
    "\n",
    "plt.scatter(predictions, actual, c=\"black\")\n",
    "plt.plot(actual, actual,color=\"#E50914\", )\n",
    "\n",
    "plt.xlabel(\"Predicted\",fontsize = 14,fontweight = \"bold\",fontname=\"Verdana\")\n",
    "plt.ylabel(\"Actual\",fontsize = 14,fontweight = \"bold\",fontname=\"Verdana\")\n",
    "plt.title(\"India A&A: Predicted vs Actual\", fontsize = 20, fontweight = \"bold\",fontname=\"Verdana\", color = \"#E50914\")\n",
    "plt.savefig(\"FIG 3.India A&A Predicted vs Actual.png\")\n",
    "plt.show()"
   ]
  },
  {
   "cell_type": "code",
   "execution_count": 43,
   "id": "ac051394",
   "metadata": {},
   "outputs": [
    {
     "data": {
      "image/png": "[encoded data removed]",
      "text/plain": [
       "<Figure size 360x360 with 1 Axes>"
      ]
     },
     "metadata": {
      "needs_background": "light"
     },
     "output_type": "display_data"
    }
   ],
   "source": [
    "residuals = predictions - actual\n",
    "\n",
    "plt.figure(figsize=(5,5))\n",
    "\n",
    "plt.scatter(predictions, residuals,c=\"black\")\n",
    "plt.hlines(0, -10, 150,color=\"#E50914\")\n",
    "\n",
    "plt.xlabel(\"Predicted\",fontsize = 14,fontweight = \"bold\",fontname=\"Verdana\")\n",
    "plt.ylabel(\"Residuals\",fontsize = 14,fontweight = \"bold\",fontname=\"Verdana\")\n",
    "plt.title(\"India A&A: Predicted vs Residuals\", fontsize = 20, fontweight = \"bold\",fontname=\"Verdana\", color = \"#E50914\")\n",
    "plt.savefig(\"FIG 4.India A&A Predicted vs Actual.png\")\n",
    "plt.show()"
   ]
  },
  {
   "cell_type": "code",
   "execution_count": null,
   "id": "cc4e10a6",
   "metadata": {},
   "outputs": [],
   "source": []
  },
  {
   "cell_type": "code",
   "execution_count": null,
   "id": "5834ee78",
   "metadata": {},
   "outputs": [],
   "source": []
  },
  {
   "cell_type": "code",
   "execution_count": null,
   "id": "78ba5509",
   "metadata": {},
   "outputs": [],
   "source": []
  },
  {
   "cell_type": "code",
   "execution_count": null,
   "id": "bca06a7b",
   "metadata": {},
   "outputs": [],
   "source": []
  },
  {
   "cell_type": "code",
   "execution_count": null,
   "id": "2ca4fa6f",
   "metadata": {},
   "outputs": [],
   "source": []
  }
 ],
 "metadata": {
  "kernelspec": {
   "display_name": "Python 3 (ipykernel)",
   "language": "python",
   "name": "python3"
  },
  "language_info": {
   "codemirror_mode": {
    "name": "ipython",
    "version": 3
   },
   "file_extension": ".py",
   "mimetype": "text/x-python",
   "name": "python",
   "nbconvert_exporter": "python",
   "pygments_lexer": "ipython3",
   "version": "3.9.7"
  }
 },
 "nbformat": 4,
 "nbformat_minor": 5
}
