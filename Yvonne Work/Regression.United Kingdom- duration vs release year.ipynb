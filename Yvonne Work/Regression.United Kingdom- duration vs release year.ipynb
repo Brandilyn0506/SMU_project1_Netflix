{
 "cells": [
  {
   "cell_type": "code",
   "execution_count": 1,
   "id": "d6b24ddd",
   "metadata": {},
   "outputs": [
    {
     "data": {
      "text/html": [
       "<div>\n",
       "<style scoped>\n",
       "    .dataframe tbody tr th:only-of-type {\n",
       "        vertical-align: middle;\n",
       "    }\n",
       "\n",
       "    .dataframe tbody tr th {\n",
       "        vertical-align: top;\n",
       "    }\n",
       "\n",
       "    .dataframe thead th {\n",
       "        text-align: right;\n",
       "    }\n",
       "</style>\n",
       "<table border=\"1\" class=\"dataframe\">\n",
       "  <thead>\n",
       "    <tr style=\"text-align: right;\">\n",
       "      <th></th>\n",
       "      <th>show_id</th>\n",
       "      <th>title</th>\n",
       "      <th>release_year</th>\n",
       "      <th>type</th>\n",
       "      <th>rating</th>\n",
       "      <th>country</th>\n",
       "      <th>genre</th>\n",
       "      <th>duration</th>\n",
       "    </tr>\n",
       "  </thead>\n",
       "  <tbody>\n",
       "    <tr>\n",
       "      <th>0</th>\n",
       "      <td>s1</td>\n",
       "      <td>Dick Johnson Is Dead</td>\n",
       "      <td>2020</td>\n",
       "      <td>Movie</td>\n",
       "      <td>PG-13</td>\n",
       "      <td>United States</td>\n",
       "      <td>Documentaries</td>\n",
       "      <td>90.0</td>\n",
       "    </tr>\n",
       "    <tr>\n",
       "      <th>1</th>\n",
       "      <td>s8</td>\n",
       "      <td>Sankofa</td>\n",
       "      <td>1993</td>\n",
       "      <td>Movie</td>\n",
       "      <td>R</td>\n",
       "      <td>United States</td>\n",
       "      <td>Dramas</td>\n",
       "      <td>125.0</td>\n",
       "    </tr>\n",
       "    <tr>\n",
       "      <th>2</th>\n",
       "      <td>s10</td>\n",
       "      <td>The Starling</td>\n",
       "      <td>2021</td>\n",
       "      <td>Movie</td>\n",
       "      <td>PG-13</td>\n",
       "      <td>United States</td>\n",
       "      <td>Comedies</td>\n",
       "      <td>104.0</td>\n",
       "    </tr>\n",
       "    <tr>\n",
       "      <th>3</th>\n",
       "      <td>s25</td>\n",
       "      <td>Jeans</td>\n",
       "      <td>1998</td>\n",
       "      <td>Movie</td>\n",
       "      <td>PG-13</td>\n",
       "      <td>India</td>\n",
       "      <td>Comedies</td>\n",
       "      <td>166.0</td>\n",
       "    </tr>\n",
       "    <tr>\n",
       "      <th>4</th>\n",
       "      <td>s28</td>\n",
       "      <td>Grown Ups</td>\n",
       "      <td>2010</td>\n",
       "      <td>Movie</td>\n",
       "      <td>PG-13</td>\n",
       "      <td>United States</td>\n",
       "      <td>Comedies</td>\n",
       "      <td>103.0</td>\n",
       "    </tr>\n",
       "    <tr>\n",
       "      <th>5</th>\n",
       "      <td>s29</td>\n",
       "      <td>Dark Skies</td>\n",
       "      <td>2013</td>\n",
       "      <td>Movie</td>\n",
       "      <td>PG-13</td>\n",
       "      <td>United States</td>\n",
       "      <td>Horror Movies</td>\n",
       "      <td>97.0</td>\n",
       "    </tr>\n",
       "    <tr>\n",
       "      <th>6</th>\n",
       "      <td>s30</td>\n",
       "      <td>Paranoia</td>\n",
       "      <td>2013</td>\n",
       "      <td>Movie</td>\n",
       "      <td>PG-13</td>\n",
       "      <td>United States</td>\n",
       "      <td>Thrillers</td>\n",
       "      <td>106.0</td>\n",
       "    </tr>\n",
       "    <tr>\n",
       "      <th>7</th>\n",
       "      <td>s42</td>\n",
       "      <td>Jaws</td>\n",
       "      <td>1975</td>\n",
       "      <td>Movie</td>\n",
       "      <td>PG</td>\n",
       "      <td>United States</td>\n",
       "      <td>Action &amp; Adventure</td>\n",
       "      <td>124.0</td>\n",
       "    </tr>\n",
       "    <tr>\n",
       "      <th>8</th>\n",
       "      <td>s43</td>\n",
       "      <td>Jaws 2</td>\n",
       "      <td>1978</td>\n",
       "      <td>Movie</td>\n",
       "      <td>PG</td>\n",
       "      <td>United States</td>\n",
       "      <td>Dramas</td>\n",
       "      <td>116.0</td>\n",
       "    </tr>\n",
       "    <tr>\n",
       "      <th>9</th>\n",
       "      <td>s44</td>\n",
       "      <td>Jaws 3</td>\n",
       "      <td>1983</td>\n",
       "      <td>Movie</td>\n",
       "      <td>PG</td>\n",
       "      <td>United States</td>\n",
       "      <td>Action &amp; Adventure</td>\n",
       "      <td>98.0</td>\n",
       "    </tr>\n",
       "    <tr>\n",
       "      <th>10</th>\n",
       "      <td>s45</td>\n",
       "      <td>Jaws: The Revenge</td>\n",
       "      <td>1987</td>\n",
       "      <td>Movie</td>\n",
       "      <td>PG-13</td>\n",
       "      <td>United States</td>\n",
       "      <td>Action &amp; Adventure</td>\n",
       "      <td>91.0</td>\n",
       "    </tr>\n",
       "    <tr>\n",
       "      <th>11</th>\n",
       "      <td>s49</td>\n",
       "      <td>Training Day</td>\n",
       "      <td>2001</td>\n",
       "      <td>Movie</td>\n",
       "      <td>R</td>\n",
       "      <td>United States</td>\n",
       "      <td>Dramas</td>\n",
       "      <td>122.0</td>\n",
       "    </tr>\n",
       "    <tr>\n",
       "      <th>12</th>\n",
       "      <td>s82</td>\n",
       "      <td>Kate</td>\n",
       "      <td>2021</td>\n",
       "      <td>Movie</td>\n",
       "      <td>R</td>\n",
       "      <td>United States</td>\n",
       "      <td>Action &amp; Adventure</td>\n",
       "      <td>106.0</td>\n",
       "    </tr>\n",
       "    <tr>\n",
       "      <th>13</th>\n",
       "      <td>s95</td>\n",
       "      <td>Show Dogs</td>\n",
       "      <td>2018</td>\n",
       "      <td>Movie</td>\n",
       "      <td>PG</td>\n",
       "      <td>United Kingdom</td>\n",
       "      <td>Children &amp; Family Movies</td>\n",
       "      <td>90.0</td>\n",
       "    </tr>\n",
       "    <tr>\n",
       "      <th>14</th>\n",
       "      <td>s97</td>\n",
       "      <td>If I Leave Here Tomorrow: A Film About Lynyrd ...</td>\n",
       "      <td>2018</td>\n",
       "      <td>Movie</td>\n",
       "      <td>R</td>\n",
       "      <td>United States</td>\n",
       "      <td>Documentaries</td>\n",
       "      <td>97.0</td>\n",
       "    </tr>\n",
       "    <tr>\n",
       "      <th>15</th>\n",
       "      <td>s102</td>\n",
       "      <td>Untold: Breaking Point</td>\n",
       "      <td>2021</td>\n",
       "      <td>Movie</td>\n",
       "      <td>R</td>\n",
       "      <td>United States</td>\n",
       "      <td>Documentaries</td>\n",
       "      <td>80.0</td>\n",
       "    </tr>\n",
       "    <tr>\n",
       "      <th>16</th>\n",
       "      <td>s106</td>\n",
       "      <td>Angamaly Diaries</td>\n",
       "      <td>2017</td>\n",
       "      <td>Movie</td>\n",
       "      <td>PG-13</td>\n",
       "      <td>India</td>\n",
       "      <td>Action &amp; Adventure</td>\n",
       "      <td>128.0</td>\n",
       "    </tr>\n",
       "    <tr>\n",
       "      <th>17</th>\n",
       "      <td>s108</td>\n",
       "      <td>A Champion Heart</td>\n",
       "      <td>2018</td>\n",
       "      <td>Movie</td>\n",
       "      <td>G</td>\n",
       "      <td>United States</td>\n",
       "      <td>Children &amp; Family Movies</td>\n",
       "      <td>90.0</td>\n",
       "    </tr>\n",
       "    <tr>\n",
       "      <th>18</th>\n",
       "      <td>s115</td>\n",
       "      <td>Anjaam</td>\n",
       "      <td>1994</td>\n",
       "      <td>Movie</td>\n",
       "      <td>PG-13</td>\n",
       "      <td>India</td>\n",
       "      <td>Dramas</td>\n",
       "      <td>143.0</td>\n",
       "    </tr>\n",
       "    <tr>\n",
       "      <th>19</th>\n",
       "      <td>s116</td>\n",
       "      <td>Bright Star</td>\n",
       "      <td>2009</td>\n",
       "      <td>Movie</td>\n",
       "      <td>PG</td>\n",
       "      <td>United Kingdom</td>\n",
       "      <td>Dramas</td>\n",
       "      <td>119.0</td>\n",
       "    </tr>\n",
       "  </tbody>\n",
       "</table>\n",
       "</div>"
      ],
      "text/plain": [
       "   show_id                                              title  release_year  \\\n",
       "0       s1                               Dick Johnson Is Dead          2020   \n",
       "1       s8                                            Sankofa          1993   \n",
       "2      s10                                       The Starling          2021   \n",
       "3      s25                                              Jeans          1998   \n",
       "4      s28                                          Grown Ups          2010   \n",
       "5      s29                                         Dark Skies          2013   \n",
       "6      s30                                           Paranoia          2013   \n",
       "7      s42                                               Jaws          1975   \n",
       "8      s43                                             Jaws 2          1978   \n",
       "9      s44                                             Jaws 3          1983   \n",
       "10     s45                                  Jaws: The Revenge          1987   \n",
       "11     s49                                       Training Day          2001   \n",
       "12     s82                                               Kate          2021   \n",
       "13     s95                                          Show Dogs          2018   \n",
       "14     s97  If I Leave Here Tomorrow: A Film About Lynyrd ...          2018   \n",
       "15    s102                             Untold: Breaking Point          2021   \n",
       "16    s106                                   Angamaly Diaries          2017   \n",
       "17    s108                                   A Champion Heart          2018   \n",
       "18    s115                                             Anjaam          1994   \n",
       "19    s116                                        Bright Star          2009   \n",
       "\n",
       "     type rating         country                     genre  duration  \n",
       "0   Movie  PG-13   United States             Documentaries      90.0  \n",
       "1   Movie      R   United States                    Dramas     125.0  \n",
       "2   Movie  PG-13   United States                  Comedies     104.0  \n",
       "3   Movie  PG-13           India                  Comedies     166.0  \n",
       "4   Movie  PG-13   United States                  Comedies     103.0  \n",
       "5   Movie  PG-13   United States             Horror Movies      97.0  \n",
       "6   Movie  PG-13   United States                 Thrillers     106.0  \n",
       "7   Movie     PG   United States        Action & Adventure     124.0  \n",
       "8   Movie     PG   United States                    Dramas     116.0  \n",
       "9   Movie     PG   United States        Action & Adventure      98.0  \n",
       "10  Movie  PG-13   United States        Action & Adventure      91.0  \n",
       "11  Movie      R   United States                    Dramas     122.0  \n",
       "12  Movie      R   United States        Action & Adventure     106.0  \n",
       "13  Movie     PG  United Kingdom  Children & Family Movies      90.0  \n",
       "14  Movie      R   United States             Documentaries      97.0  \n",
       "15  Movie      R   United States             Documentaries      80.0  \n",
       "16  Movie  PG-13           India        Action & Adventure     128.0  \n",
       "17  Movie      G   United States  Children & Family Movies      90.0  \n",
       "18  Movie  PG-13           India                    Dramas     143.0  \n",
       "19  Movie     PG  United Kingdom                    Dramas     119.0  "
      ]
     },
     "execution_count": 1,
     "metadata": {},
     "output_type": "execute_result"
    }
   ],
   "source": [
    "# Dependencies and Setup\n",
    "import matplotlib.pyplot as plt\n",
    "import pandas as pd\n",
    "import numpy as np\n",
    "import seaborn as sns\n",
    "import scipy.stats as st\n",
    "from scipy.stats import ttest_ind\n",
    "\n",
    "\n",
    "# linear modelling\n",
    "import statsmodels.api as sm\n",
    "from scipy.stats import linregress\n",
    "from sklearn.linear_model import LinearRegression\n",
    "\n",
    "\n",
    "# Import API key. Renamed mine\n",
    "#from api_keys_Yvonne import weather_api_key\n",
    "\n",
    "# Incorporated citipy to determine city based on latitude and longitude\n",
    "#from citipy import citipy\n",
    "\n",
    "# Our Clean Netflix data (CSV)\n",
    "output_data_file = \"NetflixDF4.csv\"\n",
    "\n",
    "# Read the CSV\n",
    "netflix_df = pd.read_csv(output_data_file)\n",
    "\n",
    "# Display the data table for preview\n",
    "netflix_df.head(20)"
   ]
  },
  {
   "cell_type": "code",
   "execution_count": 2,
   "id": "6f706c98",
   "metadata": {},
   "outputs": [
    {
     "data": {
      "text/plain": [
       "R        1604\n",
       "PG-13    1207\n",
       "PG        614\n",
       "G          86\n",
       "NR         47\n",
       "Name: rating, dtype: int64"
      ]
     },
     "execution_count": 2,
     "metadata": {},
     "output_type": "execute_result"
    }
   ],
   "source": [
    "netflix_df.rating.value_counts()"
   ]
  },
  {
   "cell_type": "code",
   "execution_count": 3,
   "id": "1cc573f0",
   "metadata": {},
   "outputs": [
    {
     "name": "stdout",
     "output_type": "stream",
     "text": [
      "<class 'pandas.core.frame.DataFrame'>\n",
      "RangeIndex: 3558 entries, 0 to 3557\n",
      "Data columns (total 8 columns):\n",
      " #   Column        Non-Null Count  Dtype  \n",
      "---  ------        --------------  -----  \n",
      " 0   show_id       3558 non-null   object \n",
      " 1   title         3558 non-null   object \n",
      " 2   release_year  3558 non-null   int64  \n",
      " 3   type          3558 non-null   object \n",
      " 4   rating        3558 non-null   object \n",
      " 5   country       3558 non-null   object \n",
      " 6   genre         3558 non-null   object \n",
      " 7   duration      3558 non-null   float64\n",
      "dtypes: float64(1), int64(1), object(6)\n",
      "memory usage: 222.5+ KB\n"
     ]
    }
   ],
   "source": [
    "netflix_df.info()"
   ]
  },
  {
   "cell_type": "code",
   "execution_count": 4,
   "id": "6d1cb7eb",
   "metadata": {},
   "outputs": [
    {
     "data": {
      "text/html": [
       "<div>\n",
       "<style scoped>\n",
       "    .dataframe tbody tr th:only-of-type {\n",
       "        vertical-align: middle;\n",
       "    }\n",
       "\n",
       "    .dataframe tbody tr th {\n",
       "        vertical-align: top;\n",
       "    }\n",
       "\n",
       "    .dataframe thead th {\n",
       "        text-align: right;\n",
       "    }\n",
       "</style>\n",
       "<table border=\"1\" class=\"dataframe\">\n",
       "  <thead>\n",
       "    <tr style=\"text-align: right;\">\n",
       "      <th></th>\n",
       "      <th>show_id</th>\n",
       "      <th>title</th>\n",
       "      <th>release_year</th>\n",
       "      <th>type</th>\n",
       "      <th>rating</th>\n",
       "      <th>country</th>\n",
       "      <th>genre</th>\n",
       "      <th>duration</th>\n",
       "    </tr>\n",
       "  </thead>\n",
       "  <tbody>\n",
       "    <tr>\n",
       "      <th>19</th>\n",
       "      <td>s116</td>\n",
       "      <td>Bright Star</td>\n",
       "      <td>2009</td>\n",
       "      <td>Movie</td>\n",
       "      <td>PG</td>\n",
       "      <td>United Kingdom</td>\n",
       "      <td>Dramas</td>\n",
       "      <td>119.0</td>\n",
       "    </tr>\n",
       "    <tr>\n",
       "      <th>63</th>\n",
       "      <td>s192</td>\n",
       "      <td>Wind River</td>\n",
       "      <td>2017</td>\n",
       "      <td>Movie</td>\n",
       "      <td>R</td>\n",
       "      <td>United Kingdom</td>\n",
       "      <td>Dramas</td>\n",
       "      <td>107.0</td>\n",
       "    </tr>\n",
       "    <tr>\n",
       "      <th>135</th>\n",
       "      <td>s403</td>\n",
       "      <td>The Last Letter From Your Lover</td>\n",
       "      <td>2021</td>\n",
       "      <td>Movie</td>\n",
       "      <td>R</td>\n",
       "      <td>United Kingdom</td>\n",
       "      <td>Dramas</td>\n",
       "      <td>111.0</td>\n",
       "    </tr>\n",
       "    <tr>\n",
       "      <th>173</th>\n",
       "      <td>s577</td>\n",
       "      <td>Mary Magdalene</td>\n",
       "      <td>2019</td>\n",
       "      <td>Movie</td>\n",
       "      <td>R</td>\n",
       "      <td>United Kingdom</td>\n",
       "      <td>Dramas</td>\n",
       "      <td>120.0</td>\n",
       "    </tr>\n",
       "    <tr>\n",
       "      <th>179</th>\n",
       "      <td>s586</td>\n",
       "      <td>Ophelia</td>\n",
       "      <td>2018</td>\n",
       "      <td>Movie</td>\n",
       "      <td>PG-13</td>\n",
       "      <td>United Kingdom</td>\n",
       "      <td>Dramas</td>\n",
       "      <td>106.0</td>\n",
       "    </tr>\n",
       "  </tbody>\n",
       "</table>\n",
       "</div>"
      ],
      "text/plain": [
       "    show_id                            title  release_year   type rating  \\\n",
       "19     s116                      Bright Star          2009  Movie     PG   \n",
       "63     s192                       Wind River          2017  Movie      R   \n",
       "135    s403  The Last Letter From Your Lover          2021  Movie      R   \n",
       "173    s577                   Mary Magdalene          2019  Movie      R   \n",
       "179    s586                          Ophelia          2018  Movie  PG-13   \n",
       "\n",
       "            country   genre  duration  \n",
       "19   United Kingdom  Dramas     119.0  \n",
       "63   United Kingdom  Dramas     107.0  \n",
       "135  United Kingdom  Dramas     111.0  \n",
       "173  United Kingdom  Dramas     120.0  \n",
       "179  United Kingdom  Dramas     106.0  "
      ]
     },
     "execution_count": 4,
     "metadata": {},
     "output_type": "execute_result"
    }
   ],
   "source": [
    "# i am doing 3 different models based on country\n",
    "# United States \n",
    "genre = \"Dramas\"\n",
    "uk_df = netflix_df.loc[(netflix_df['country'] == 'United Kingdom') & (netflix_df[\"genre\"]== genre)]\n",
    "uk_df.head()"
   ]
  },
  {
   "cell_type": "code",
   "execution_count": 5,
   "id": "b270eb7e",
   "metadata": {},
   "outputs": [
    {
     "data": {
      "text/html": [
       "<div>\n",
       "<style scoped>\n",
       "    .dataframe tbody tr th:only-of-type {\n",
       "        vertical-align: middle;\n",
       "    }\n",
       "\n",
       "    .dataframe tbody tr th {\n",
       "        vertical-align: top;\n",
       "    }\n",
       "\n",
       "    .dataframe thead th {\n",
       "        text-align: right;\n",
       "    }\n",
       "</style>\n",
       "<table border=\"1\" class=\"dataframe\">\n",
       "  <thead>\n",
       "    <tr style=\"text-align: right;\">\n",
       "      <th></th>\n",
       "      <th>release_year</th>\n",
       "      <th>duration</th>\n",
       "    </tr>\n",
       "  </thead>\n",
       "  <tbody>\n",
       "    <tr>\n",
       "      <th>release_year</th>\n",
       "      <td>1.000000</td>\n",
       "      <td>-0.262059</td>\n",
       "    </tr>\n",
       "    <tr>\n",
       "      <th>duration</th>\n",
       "      <td>-0.262059</td>\n",
       "      <td>1.000000</td>\n",
       "    </tr>\n",
       "  </tbody>\n",
       "</table>\n",
       "</div>"
      ],
      "text/plain": [
       "              release_year  duration\n",
       "release_year      1.000000 -0.262059\n",
       "duration         -0.262059  1.000000"
      ]
     },
     "execution_count": 5,
     "metadata": {},
     "output_type": "execute_result"
    }
   ],
   "source": [
    "#using hmk 5\n",
    "corrs= uk_df.corr()\n",
    "corrs"
   ]
  },
  {
   "cell_type": "code",
   "execution_count": 6,
   "id": "bd28af96",
   "metadata": {},
   "outputs": [
    {
     "data": {
      "image/png": "[encoded data removed]",
      "text/plain": [
       "<Figure size 432x288 with 2 Axes>"
      ]
     },
     "metadata": {
      "needs_background": "light"
     },
     "output_type": "display_data"
    }
   ],
   "source": [
    "sns.heatmap(corrs, cmap = \"binary\")\n",
    "plt.title(\"UK Drama Correlation Heat Map\",fontsize = 18, fontweight = \"bold\",fontname=\"Verdana\", color = \"#E50914\")\n",
    "plt.savefig(\"FIG 1.UK Drama Correlation Heat Map.png\")\n",
    "plt.show()"
   ]
  },
  {
   "cell_type": "code",
   "execution_count": 7,
   "id": "0c8ed386",
   "metadata": {},
   "outputs": [],
   "source": [
    "# ValueError: '#0A0903' is not a valid value for name; supported values are 'Accent', 'Accent_r', 'Blues', 'Blues_r', 'BrBG', 'BrBG_r', 'BuGn', 'BuGn_r', 'BuPu', 'BuPu_r', 'CMRmap', 'CMRmap_r', 'Dark2', 'Dark2_r', 'GnBu', 'GnBu_r', 'Greens', 'Greens_r', 'Greys', 'Greys_r', 'OrRd', 'OrRd_r', 'Oranges', 'Oranges_r', 'PRGn', 'PRGn_r', 'Paired', 'Paired_r', 'Pastel1', 'Pastel1_r', 'Pastel2', 'Pastel2_r', 'PiYG', 'PiYG_r', 'PuBu', 'PuBuGn', 'PuBuGn_r', 'PuBu_r', 'PuOr', 'PuOr_r', 'PuRd', 'PuRd_r', 'Purples', 'Purples_r', 'RdBu', 'RdBu_r', 'RdGy', 'RdGy_r', 'RdPu', 'RdPu_r', 'RdYlBu', 'RdYlBu_r', 'RdYlGn', 'RdYlGn_r', 'Reds', 'Reds_r', 'Set1', 'Set1_r', 'Set2', 'Set2_r', 'Set3', 'Set3_r', 'Spectral', 'Spectral_r', 'Wistia', 'Wistia_r', 'YlGn', 'YlGnBu', 'YlGnBu_r', 'YlGn_r', 'YlOrBr', 'YlOrBr_r', 'YlOrRd', 'YlOrRd_r', 'afmhot', 'afmhot_r', 'autumn', 'autumn_r', 'binary', 'binary_r', 'bone', 'bone_r', 'brg', 'brg_r', 'bwr', 'bwr_r', 'cividis', 'cividis_r', 'cool', 'cool_r', 'coolwarm', 'coolwarm_r', 'copper', 'copper_r', 'crest', 'crest_r', 'cubehelix', 'cubehelix_r', 'flag', 'flag_r', 'flare', 'flare_r', 'gist_earth', 'gist_earth_r', 'gist_gray', 'gist_gray_r', 'gist_heat', 'gist_heat_r', 'gist_ncar', 'gist_ncar_r', 'gist_rainbow', 'gist_rainbow_r', 'gist_stern', 'gist_stern_r', 'gist_yarg', 'gist_yarg_r', 'gnuplot', 'gnuplot2', 'gnuplot2_r', 'gnuplot_r', 'gray', 'gray_r', 'hot', 'hot_r', 'hsv', 'hsv_r', 'icefire', 'icefire_r', 'inferno', 'inferno_r', 'jet', 'jet_r', 'magma', 'magma_r', 'mako', 'mako_r', 'nipy_spectral', 'nipy_spectral_r', 'ocean', 'ocean_r', 'pink', 'pink_r', 'plasma', 'plasma_r', 'prism', 'prism_r', 'rainbow', 'rainbow_r', 'rocket', 'rocket_r', 'seismic', 'seismic_r', 'spring', 'spring_r', 'summer', 'summer_r', 'tab10', 'tab10_r', 'tab20', 'tab20_r', 'tab20b', 'tab20b_r', 'tab20c', 'tab20c_r', 'terrain', 'terrain_r', 'turbo', 'turbo_r', 'twilight', 'twilight_r', 'twilight_shifted', 'twilight_shifted_r', 'viridis', 'viridis_r', 'vlag', 'vlag_r', 'winter', 'winter_r'\n",
    "#https://gallantlab.github.io/pycortex/colormaps.html"
   ]
  },
  {
   "cell_type": "code",
   "execution_count": 8,
   "id": "26f2913f",
   "metadata": {},
   "outputs": [
    {
     "name": "stdout",
     "output_type": "stream",
     "text": [
      "The correlation between release year and duration is (-0.26205939782775345, 0.009901340454358754)\n"
     ]
    }
   ],
   "source": [
    "corr=(st.pearsonr(uk_df['release_year'],uk_df['duration']))\n",
    "corr\n",
    "print(f\"The correlation between release year and duration is {corr}\")"
   ]
  },
  {
   "cell_type": "code",
   "execution_count": 9,
   "id": "0649be70",
   "metadata": {},
   "outputs": [
    {
     "name": "stdout",
     "output_type": "stream",
     "text": [
      "The r-squared is: 0.0686751279898453\n"
     ]
    },
    {
     "data": {
      "image/png": "[encoded data removed]",
      "text/plain": [
       "<Figure size 432x288 with 1 Axes>"
      ]
     },
     "metadata": {
      "needs_background": "light"
     },
     "output_type": "display_data"
    }
   ],
   "source": [
    "#linear regression model like in class activity day 3 act 9\n",
    "\n",
    "x_values = uk_df['release_year']\n",
    "y_values = uk_df['duration']\n",
    "(slope, intercept, rvalue, pvalue, stderr) = linregress(x_values, y_values)\n",
    "regress_values = x_values * slope + intercept\n",
    "line_eq = \"y = \" + str(round(slope,2)) + \"x + \" + str(round(intercept,2))\n",
    "plt.scatter(x_values,y_values,color=\"#0A0903\",marker=\"o\")\n",
    "plt.plot(x_values,regress_values,\"r-\")\n",
    "plt.annotate(line_eq,(2000,80),fontsize=15,color=\"#0A0903\")\n",
    "plt.xlabel('Release year',fontsize = 14,fontweight = \"bold\",fontname=\"Verdana\")\n",
    "plt.ylabel('Duration (min)',fontsize = 14,fontweight = \"bold\",fontname=\"Verdana\")\n",
    "plt.title('UK Drama: Release Year vs. Duration',fontsize = 20, fontweight = \"bold\",fontname=\"Verdana\", color = \"#E50914\")\n",
    "print(f\"The r-squared is: {rvalue**2}\")\n",
    "plt.savefig(\"FIG 2.UK Drama Release Year vs. Duration.png\")\n",
    "plt.show()"
   ]
  },
  {
   "cell_type": "code",
   "execution_count": 10,
   "id": "e76054e0",
   "metadata": {},
   "outputs": [
    {
     "name": "stderr",
     "output_type": "stream",
     "text": [
      "C:\\Users\\yvonne\\anaconda3\\lib\\site-packages\\statsmodels\\tsa\\tsatools.py:142: FutureWarning: In a future version of pandas all arguments of concat except for the argument 'objs' will be keyword-only\n",
      "  x = pd.concat(x[::order], 1)\n"
     ]
    },
    {
     "data": {
      "text/html": [
       "<table class=\"simpletable\">\n",
       "<caption>OLS Regression Results</caption>\n",
       "<tr>\n",
       "  <th>Dep. Variable:</th>        <td>duration</td>     <th>  R-squared:         </th> <td>   0.069</td>\n",
       "</tr>\n",
       "<tr>\n",
       "  <th>Model:</th>                   <td>OLS</td>       <th>  Adj. R-squared:    </th> <td>   0.059</td>\n",
       "</tr>\n",
       "<tr>\n",
       "  <th>Method:</th>             <td>Least Squares</td>  <th>  F-statistic:       </th> <td>   6.931</td>\n",
       "</tr>\n",
       "<tr>\n",
       "  <th>Date:</th>             <td>Fri, 11 Feb 2022</td> <th>  Prob (F-statistic):</th>  <td>0.00990</td>\n",
       "</tr>\n",
       "<tr>\n",
       "  <th>Time:</th>                 <td>16:59:29</td>     <th>  Log-Likelihood:    </th> <td> -407.64</td>\n",
       "</tr>\n",
       "<tr>\n",
       "  <th>No. Observations:</th>      <td>    96</td>      <th>  AIC:               </th> <td>   819.3</td>\n",
       "</tr>\n",
       "<tr>\n",
       "  <th>Df Residuals:</th>          <td>    94</td>      <th>  BIC:               </th> <td>   824.4</td>\n",
       "</tr>\n",
       "<tr>\n",
       "  <th>Df Model:</th>              <td>     1</td>      <th>                     </th>     <td> </td>   \n",
       "</tr>\n",
       "<tr>\n",
       "  <th>Covariance Type:</th>      <td>nonrobust</td>    <th>                     </th>     <td> </td>   \n",
       "</tr>\n",
       "</table>\n",
       "<table class=\"simpletable\">\n",
       "<tr>\n",
       "        <td></td>          <th>coef</th>     <th>std err</th>      <th>t</th>      <th>P>|t|</th>  <th>[0.025</th>    <th>0.975]</th>  \n",
       "</tr>\n",
       "<tr>\n",
       "  <th>const</th>        <td> 2277.0494</td> <td>  822.882</td> <td>    2.767</td> <td> 0.007</td> <td>  643.197</td> <td> 3910.902</td>\n",
       "</tr>\n",
       "<tr>\n",
       "  <th>release_year</th> <td>   -1.0753</td> <td>    0.408</td> <td>   -2.633</td> <td> 0.010</td> <td>   -1.886</td> <td>   -0.264</td>\n",
       "</tr>\n",
       "</table>\n",
       "<table class=\"simpletable\">\n",
       "<tr>\n",
       "  <th>Omnibus:</th>       <td>14.656</td> <th>  Durbin-Watson:     </th> <td>   1.641</td>\n",
       "</tr>\n",
       "<tr>\n",
       "  <th>Prob(Omnibus):</th> <td> 0.001</td> <th>  Jarque-Bera (JB):  </th> <td>  16.150</td>\n",
       "</tr>\n",
       "<tr>\n",
       "  <th>Skew:</th>          <td> 0.915</td> <th>  Prob(JB):          </th> <td>0.000311</td>\n",
       "</tr>\n",
       "<tr>\n",
       "  <th>Kurtosis:</th>      <td> 3.831</td> <th>  Cond. No.          </th> <td>9.51e+05</td>\n",
       "</tr>\n",
       "</table><br/><br/>Notes:<br/>[1] Standard Errors assume that the covariance matrix of the errors is correctly specified.<br/>[2] The condition number is large, 9.51e+05. This might indicate that there are<br/>strong multicollinearity or other numerical problems."
      ],
      "text/plain": [
       "<class 'statsmodels.iolib.summary.Summary'>\n",
       "\"\"\"\n",
       "                            OLS Regression Results                            \n",
       "==============================================================================\n",
       "Dep. Variable:               duration   R-squared:                       0.069\n",
       "Model:                            OLS   Adj. R-squared:                  0.059\n",
       "Method:                 Least Squares   F-statistic:                     6.931\n",
       "Date:                Fri, 11 Feb 2022   Prob (F-statistic):            0.00990\n",
       "Time:                        16:59:29   Log-Likelihood:                -407.64\n",
       "No. Observations:                  96   AIC:                             819.3\n",
       "Df Residuals:                      94   BIC:                             824.4\n",
       "Df Model:                           1                                         \n",
       "Covariance Type:            nonrobust                                         \n",
       "================================================================================\n",
       "                   coef    std err          t      P>|t|      [0.025      0.975]\n",
       "--------------------------------------------------------------------------------\n",
       "const         2277.0494    822.882      2.767      0.007     643.197    3910.902\n",
       "release_year    -1.0753      0.408     -2.633      0.010      -1.886      -0.264\n",
       "==============================================================================\n",
       "Omnibus:                       14.656   Durbin-Watson:                   1.641\n",
       "Prob(Omnibus):                  0.001   Jarque-Bera (JB):               16.150\n",
       "Skew:                           0.915   Prob(JB):                     0.000311\n",
       "Kurtosis:                       3.831   Cond. No.                     9.51e+05\n",
       "==============================================================================\n",
       "\n",
       "Notes:\n",
       "[1] Standard Errors assume that the covariance matrix of the errors is correctly specified.\n",
       "[2] The condition number is large, 9.51e+05. This might indicate that there are\n",
       "strong multicollinearity or other numerical problems.\n",
       "\"\"\""
      ]
     },
     "execution_count": 10,
     "metadata": {},
     "output_type": "execute_result"
    }
   ],
   "source": [
    "feature = uk_df[[\"release_year\"]]\n",
    "target = uk_df[\"duration\"]\n",
    "\n",
    "# STATSMODELS\n",
    "X = sm.add_constant(feature)\n",
    "Y = target\n",
    "\n",
    "model = sm.OLS(Y,X)\n",
    "results = model.fit()\n",
    "results.summary()"
   ]
  },
  {
   "cell_type": "code",
   "execution_count": 11,
   "id": "7deb90f6",
   "metadata": {},
   "outputs": [],
   "source": [
    "# both my r2 are the same and my coeficcients"
   ]
  },
  {
   "cell_type": "code",
   "execution_count": 12,
   "id": "ff11ad2d",
   "metadata": {},
   "outputs": [
    {
     "name": "stdout",
     "output_type": "stream",
     "text": [
      "[-1.07530309]\n",
      "2277.0494474397547\n"
     ]
    }
   ],
   "source": [
    "#SCIKIT_Learn\n",
    "reg = LinearRegression()\n",
    "reg.fit(np.array(feature), np.array(target))\n",
    "print(reg.coef_)\n",
    "print(reg.intercept_)"
   ]
  },
  {
   "cell_type": "code",
   "execution_count": 13,
   "id": "6297ed45",
   "metadata": {},
   "outputs": [],
   "source": [
    "from sklearn.metrics import r2_score, mean_squared_error, mean_absolute_error"
   ]
  },
  {
   "cell_type": "code",
   "execution_count": 14,
   "id": "8e3510f8",
   "metadata": {
    "scrolled": true
   },
   "outputs": [
    {
     "name": "stdout",
     "output_type": "stream",
     "text": [
      "R2: 0.06867512798984421\n",
      "MSE: 285.5981086106065\n",
      "RMSE: 16.899648180083705\n",
      "MAE: 13.05168089025247\n"
     ]
    }
   ],
   "source": [
    "actual = uk_df[\"duration\"]\n",
    "predictions = reg.predict(uk_df[\"release_year\"].values.reshape(-1, 1))\n",
    "\n",
    "r2 = r2_score(actual, predictions)\n",
    "mse = mean_squared_error(actual, predictions)\n",
    "mae = mean_absolute_error(actual, predictions)\n",
    "\n",
    "print(f\"R2: {r2}\")\n",
    "print(f\"MSE: {mse}\")\n",
    "print(f\"RMSE: {np.sqrt(mse)}\")\n",
    "print(f\"MAE: {mae}\")"
   ]
  },
  {
   "cell_type": "markdown",
   "id": "26d4dba3",
   "metadata": {},
   "source": [
    "#booth\n",
    "#5.7% of the variance of duration is explained by releas year"
   ]
  },
  {
   "cell_type": "code",
   "execution_count": 15,
   "id": "ae24b818",
   "metadata": {},
   "outputs": [
    {
     "data": {
      "image/png": "[encoded data removed]",
      "text/plain": [
       "<Figure size 360x360 with 1 Axes>"
      ]
     },
     "metadata": {
      "needs_background": "light"
     },
     "output_type": "display_data"
    }
   ],
   "source": [
    "#questions about this one\n",
    "plt.figure(figsize=(5,5))\n",
    "\n",
    "plt.scatter(predictions, actual, c=\"black\")\n",
    "plt.plot(actual, actual,color=\"#E50914\", )\n",
    "\n",
    "plt.xlabel(\"Predicted\",fontsize = 14,fontweight = \"bold\",fontname=\"Verdana\")\n",
    "plt.ylabel(\"Actual\",fontsize = 14,fontweight = \"bold\",fontname=\"Verdana\")\n",
    "plt.title(\"UK Drama: Predicted vs Actual\", fontsize = 20, fontweight = \"bold\",fontname=\"Verdana\", color = \"#E50914\")\n",
    "plt.savefig(\"FIG 3.UK Drama Predicted vs Actual.png\")\n",
    "plt.show()"
   ]
  },
  {
   "cell_type": "code",
   "execution_count": 16,
   "id": "7dca470b",
   "metadata": {},
   "outputs": [
    {
     "data": {
      "image/png": "[encoded data removed]",
      "text/plain": [
       "<Figure size 360x360 with 1 Axes>"
      ]
     },
     "metadata": {
      "needs_background": "light"
     },
     "output_type": "display_data"
    }
   ],
   "source": [
    "residuals = predictions - actual\n",
    "\n",
    "plt.figure(figsize=(5,5))\n",
    "\n",
    "plt.scatter(predictions, residuals,c=\"black\")\n",
    "plt.hlines(0, -10, 150,color=\"#E50914\")\n",
    "\n",
    "plt.xlabel(\"Predicted\",fontsize = 14,fontweight = \"bold\",fontname=\"Verdana\")\n",
    "plt.ylabel(\"Residuals\",fontsize = 14,fontweight = \"bold\",fontname=\"Verdana\")\n",
    "plt.title(\"UK Drama: Predicted vs Residuals\", fontsize = 20, fontweight = \"bold\",fontname=\"Verdana\", color = \"#E50914\")\n",
    "plt.savefig(\"FIG 4.UK Drama Predicted vs Residuals.png\")\n",
    "plt.show()"
   ]
  },
  {
   "cell_type": "code",
   "execution_count": 17,
   "id": "dfe4e6dd",
   "metadata": {},
   "outputs": [
    {
     "data": {
      "text/html": [
       "<div>\n",
       "<style scoped>\n",
       "    .dataframe tbody tr th:only-of-type {\n",
       "        vertical-align: middle;\n",
       "    }\n",
       "\n",
       "    .dataframe tbody tr th {\n",
       "        vertical-align: top;\n",
       "    }\n",
       "\n",
       "    .dataframe thead th {\n",
       "        text-align: right;\n",
       "    }\n",
       "</style>\n",
       "<table border=\"1\" class=\"dataframe\">\n",
       "  <thead>\n",
       "    <tr style=\"text-align: right;\">\n",
       "      <th></th>\n",
       "      <th>release_year</th>\n",
       "      <th>duration</th>\n",
       "    </tr>\n",
       "  </thead>\n",
       "  <tbody>\n",
       "    <tr>\n",
       "      <th>count</th>\n",
       "      <td>96.000000</td>\n",
       "      <td>96.000000</td>\n",
       "    </tr>\n",
       "    <tr>\n",
       "      <th>mean</th>\n",
       "      <td>2014.739583</td>\n",
       "      <td>110.593750</td>\n",
       "    </tr>\n",
       "    <tr>\n",
       "      <th>std</th>\n",
       "      <td>4.290123</td>\n",
       "      <td>17.603575</td>\n",
       "    </tr>\n",
       "    <tr>\n",
       "      <th>min</th>\n",
       "      <td>2000.000000</td>\n",
       "      <td>79.000000</td>\n",
       "    </tr>\n",
       "    <tr>\n",
       "      <th>25%</th>\n",
       "      <td>2013.000000</td>\n",
       "      <td>98.750000</td>\n",
       "    </tr>\n",
       "    <tr>\n",
       "      <th>50%</th>\n",
       "      <td>2016.000000</td>\n",
       "      <td>107.000000</td>\n",
       "    </tr>\n",
       "    <tr>\n",
       "      <th>75%</th>\n",
       "      <td>2018.000000</td>\n",
       "      <td>120.000000</td>\n",
       "    </tr>\n",
       "    <tr>\n",
       "      <th>max</th>\n",
       "      <td>2021.000000</td>\n",
       "      <td>163.000000</td>\n",
       "    </tr>\n",
       "  </tbody>\n",
       "</table>\n",
       "</div>"
      ],
      "text/plain": [
       "       release_year    duration\n",
       "count     96.000000   96.000000\n",
       "mean    2014.739583  110.593750\n",
       "std        4.290123   17.603575\n",
       "min     2000.000000   79.000000\n",
       "25%     2013.000000   98.750000\n",
       "50%     2016.000000  107.000000\n",
       "75%     2018.000000  120.000000\n",
       "max     2021.000000  163.000000"
      ]
     },
     "execution_count": 17,
     "metadata": {},
     "output_type": "execute_result"
    }
   ],
   "source": [
    "uk_df.describe()"
   ]
  },
  {
   "cell_type": "markdown",
   "id": "9527ab80",
   "metadata": {},
   "source": [
    "# HORROR MOVIES"
   ]
  },
  {
   "cell_type": "code",
   "execution_count": 18,
   "id": "42f0806c",
   "metadata": {},
   "outputs": [
    {
     "data": {
      "text/html": [
       "<div>\n",
       "<style scoped>\n",
       "    .dataframe tbody tr th:only-of-type {\n",
       "        vertical-align: middle;\n",
       "    }\n",
       "\n",
       "    .dataframe tbody tr th {\n",
       "        vertical-align: top;\n",
       "    }\n",
       "\n",
       "    .dataframe thead th {\n",
       "        text-align: right;\n",
       "    }\n",
       "</style>\n",
       "<table border=\"1\" class=\"dataframe\">\n",
       "  <thead>\n",
       "    <tr style=\"text-align: right;\">\n",
       "      <th></th>\n",
       "      <th>show_id</th>\n",
       "      <th>title</th>\n",
       "      <th>release_year</th>\n",
       "      <th>type</th>\n",
       "      <th>rating</th>\n",
       "      <th>country</th>\n",
       "      <th>genre</th>\n",
       "      <th>duration</th>\n",
       "    </tr>\n",
       "  </thead>\n",
       "  <tbody>\n",
       "    <tr>\n",
       "      <th>527</th>\n",
       "      <td>s1649</td>\n",
       "      <td>Ghosts of War</td>\n",
       "      <td>2020</td>\n",
       "      <td>Movie</td>\n",
       "      <td>R</td>\n",
       "      <td>United Kingdom</td>\n",
       "      <td>Horror Movies</td>\n",
       "      <td>95.0</td>\n",
       "    </tr>\n",
       "    <tr>\n",
       "      <th>572</th>\n",
       "      <td>s1776</td>\n",
       "      <td>His House</td>\n",
       "      <td>2020</td>\n",
       "      <td>Movie</td>\n",
       "      <td>PG-13</td>\n",
       "      <td>United Kingdom</td>\n",
       "      <td>Horror Movies</td>\n",
       "      <td>93.0</td>\n",
       "    </tr>\n",
       "    <tr>\n",
       "      <th>1294</th>\n",
       "      <td>s4134</td>\n",
       "      <td>Await Further Instructions</td>\n",
       "      <td>2018</td>\n",
       "      <td>Movie</td>\n",
       "      <td>R</td>\n",
       "      <td>United Kingdom</td>\n",
       "      <td>Horror Movies</td>\n",
       "      <td>91.0</td>\n",
       "    </tr>\n",
       "    <tr>\n",
       "      <th>1430</th>\n",
       "      <td>s4511</td>\n",
       "      <td>Apostle</td>\n",
       "      <td>2018</td>\n",
       "      <td>Movie</td>\n",
       "      <td>R</td>\n",
       "      <td>United Kingdom</td>\n",
       "      <td>Horror Movies</td>\n",
       "      <td>130.0</td>\n",
       "    </tr>\n",
       "    <tr>\n",
       "      <th>1437</th>\n",
       "      <td>s4533</td>\n",
       "      <td>Malevolent</td>\n",
       "      <td>2018</td>\n",
       "      <td>Movie</td>\n",
       "      <td>R</td>\n",
       "      <td>United Kingdom</td>\n",
       "      <td>Horror Movies</td>\n",
       "      <td>89.0</td>\n",
       "    </tr>\n",
       "  </tbody>\n",
       "</table>\n",
       "</div>"
      ],
      "text/plain": [
       "     show_id                       title  release_year   type rating  \\\n",
       "527    s1649               Ghosts of War          2020  Movie      R   \n",
       "572    s1776                   His House          2020  Movie  PG-13   \n",
       "1294   s4134  Await Further Instructions          2018  Movie      R   \n",
       "1430   s4511                     Apostle          2018  Movie      R   \n",
       "1437   s4533                  Malevolent          2018  Movie      R   \n",
       "\n",
       "             country          genre  duration  \n",
       "527   United Kingdom  Horror Movies      95.0  \n",
       "572   United Kingdom  Horror Movies      93.0  \n",
       "1294  United Kingdom  Horror Movies      91.0  \n",
       "1430  United Kingdom  Horror Movies     130.0  \n",
       "1437  United Kingdom  Horror Movies      89.0  "
      ]
     },
     "execution_count": 18,
     "metadata": {},
     "output_type": "execute_result"
    }
   ],
   "source": [
    "# i am doing 3 different models based on country\n",
    "# United States \n",
    "genre = \"Horror Movies\"\n",
    "uk_df = netflix_df.loc[(netflix_df['country'] == 'United Kingdom') & (netflix_df[\"genre\"]== genre)]\n",
    "uk_df.head()"
   ]
  },
  {
   "cell_type": "code",
   "execution_count": 19,
   "id": "a17a6ebe",
   "metadata": {},
   "outputs": [
    {
     "data": {
      "text/html": [
       "<div>\n",
       "<style scoped>\n",
       "    .dataframe tbody tr th:only-of-type {\n",
       "        vertical-align: middle;\n",
       "    }\n",
       "\n",
       "    .dataframe tbody tr th {\n",
       "        vertical-align: top;\n",
       "    }\n",
       "\n",
       "    .dataframe thead th {\n",
       "        text-align: right;\n",
       "    }\n",
       "</style>\n",
       "<table border=\"1\" class=\"dataframe\">\n",
       "  <thead>\n",
       "    <tr style=\"text-align: right;\">\n",
       "      <th></th>\n",
       "      <th>release_year</th>\n",
       "      <th>duration</th>\n",
       "    </tr>\n",
       "  </thead>\n",
       "  <tbody>\n",
       "    <tr>\n",
       "      <th>release_year</th>\n",
       "      <td>1.000000</td>\n",
       "      <td>-0.054511</td>\n",
       "    </tr>\n",
       "    <tr>\n",
       "      <th>duration</th>\n",
       "      <td>-0.054511</td>\n",
       "      <td>1.000000</td>\n",
       "    </tr>\n",
       "  </tbody>\n",
       "</table>\n",
       "</div>"
      ],
      "text/plain": [
       "              release_year  duration\n",
       "release_year      1.000000 -0.054511\n",
       "duration         -0.054511  1.000000"
      ]
     },
     "execution_count": 19,
     "metadata": {},
     "output_type": "execute_result"
    }
   ],
   "source": [
    "#using hmk 5\n",
    "corrs= uk_df.corr()\n",
    "corrs"
   ]
  },
  {
   "cell_type": "code",
   "execution_count": 20,
   "id": "e1defb44",
   "metadata": {},
   "outputs": [
    {
     "data": {
      "image/png": "[encoded data removed]",
      "text/plain": [
       "<Figure size 432x288 with 2 Axes>"
      ]
     },
     "metadata": {
      "needs_background": "light"
     },
     "output_type": "display_data"
    }
   ],
   "source": [
    "sns.heatmap(corrs, cmap = \"binary\")\n",
    "plt.title(\"UK Horror Correlation Heat Map\",fontsize = 18, fontweight = \"bold\",fontname=\"Verdana\", color = \"#E50914\")\n",
    "plt.savefig(\"FIG 1.UK Horror Correlation Heat Map.png\")\n",
    "plt.show()"
   ]
  },
  {
   "cell_type": "code",
   "execution_count": 21,
   "id": "3c07dcdd",
   "metadata": {},
   "outputs": [],
   "source": [
    "# ValueError: '#0A0903' is not a valid value for name; supported values are 'Accent', 'Accent_r', 'Blues', 'Blues_r', 'BrBG', 'BrBG_r', 'BuGn', 'BuGn_r', 'BuPu', 'BuPu_r', 'CMRmap', 'CMRmap_r', 'Dark2', 'Dark2_r', 'GnBu', 'GnBu_r', 'Greens', 'Greens_r', 'Greys', 'Greys_r', 'OrRd', 'OrRd_r', 'Oranges', 'Oranges_r', 'PRGn', 'PRGn_r', 'Paired', 'Paired_r', 'Pastel1', 'Pastel1_r', 'Pastel2', 'Pastel2_r', 'PiYG', 'PiYG_r', 'PuBu', 'PuBuGn', 'PuBuGn_r', 'PuBu_r', 'PuOr', 'PuOr_r', 'PuRd', 'PuRd_r', 'Purples', 'Purples_r', 'RdBu', 'RdBu_r', 'RdGy', 'RdGy_r', 'RdPu', 'RdPu_r', 'RdYlBu', 'RdYlBu_r', 'RdYlGn', 'RdYlGn_r', 'Reds', 'Reds_r', 'Set1', 'Set1_r', 'Set2', 'Set2_r', 'Set3', 'Set3_r', 'Spectral', 'Spectral_r', 'Wistia', 'Wistia_r', 'YlGn', 'YlGnBu', 'YlGnBu_r', 'YlGn_r', 'YlOrBr', 'YlOrBr_r', 'YlOrRd', 'YlOrRd_r', 'afmhot', 'afmhot_r', 'autumn', 'autumn_r', 'binary', 'binary_r', 'bone', 'bone_r', 'brg', 'brg_r', 'bwr', 'bwr_r', 'cividis', 'cividis_r', 'cool', 'cool_r', 'coolwarm', 'coolwarm_r', 'copper', 'copper_r', 'crest', 'crest_r', 'cubehelix', 'cubehelix_r', 'flag', 'flag_r', 'flare', 'flare_r', 'gist_earth', 'gist_earth_r', 'gist_gray', 'gist_gray_r', 'gist_heat', 'gist_heat_r', 'gist_ncar', 'gist_ncar_r', 'gist_rainbow', 'gist_rainbow_r', 'gist_stern', 'gist_stern_r', 'gist_yarg', 'gist_yarg_r', 'gnuplot', 'gnuplot2', 'gnuplot2_r', 'gnuplot_r', 'gray', 'gray_r', 'hot', 'hot_r', 'hsv', 'hsv_r', 'icefire', 'icefire_r', 'inferno', 'inferno_r', 'jet', 'jet_r', 'magma', 'magma_r', 'mako', 'mako_r', 'nipy_spectral', 'nipy_spectral_r', 'ocean', 'ocean_r', 'pink', 'pink_r', 'plasma', 'plasma_r', 'prism', 'prism_r', 'rainbow', 'rainbow_r', 'rocket', 'rocket_r', 'seismic', 'seismic_r', 'spring', 'spring_r', 'summer', 'summer_r', 'tab10', 'tab10_r', 'tab20', 'tab20_r', 'tab20b', 'tab20b_r', 'tab20c', 'tab20c_r', 'terrain', 'terrain_r', 'turbo', 'turbo_r', 'twilight', 'twilight_r', 'twilight_shifted', 'twilight_shifted_r', 'viridis', 'viridis_r', 'vlag', 'vlag_r', 'winter', 'winter_r'\n",
    "#https://gallantlab.github.io/pycortex/colormaps.html"
   ]
  },
  {
   "cell_type": "code",
   "execution_count": 22,
   "id": "efe78a89",
   "metadata": {},
   "outputs": [
    {
     "name": "stdout",
     "output_type": "stream",
     "text": [
      "The correlation between release year and duration is (-0.05451075280697161, 0.8299035108193331)\n"
     ]
    }
   ],
   "source": [
    "corr=(st.pearsonr(uk_df['release_year'],uk_df['duration']))\n",
    "corr\n",
    "print(f\"The correlation between release year and duration is {corr}\")"
   ]
  },
  {
   "cell_type": "code",
   "execution_count": 23,
   "id": "b6944ea3",
   "metadata": {},
   "outputs": [
    {
     "name": "stdout",
     "output_type": "stream",
     "text": [
      "The r-squared is: 0.0029714221715827624\n"
     ]
    },
    {
     "data": {
      "image/png": "[encoded data removed]",
      "text/plain": [
       "<Figure size 432x288 with 1 Axes>"
      ]
     },
     "metadata": {
      "needs_background": "light"
     },
     "output_type": "display_data"
    }
   ],
   "source": [
    "#linear regression model like in class activity day 3 act 9\n",
    "\n",
    "x_values = uk_df['release_year']\n",
    "y_values = uk_df['duration']\n",
    "(slope, intercept, rvalue, pvalue, stderr) = linregress(x_values, y_values)\n",
    "regress_values = x_values * slope + intercept\n",
    "line_eq = \"y = \" + str(round(slope,2)) + \"x + \" + str(round(intercept,2))\n",
    "plt.scatter(x_values,y_values,color=\"#0A0903\",marker=\"o\")\n",
    "plt.plot(x_values,regress_values,\"r-\")\n",
    "plt.annotate(line_eq,(2000,80),fontsize=15,color=\"#0A0903\")\n",
    "plt.xlabel('Release year',fontsize = 14,fontweight = \"bold\",fontname=\"Verdana\")\n",
    "plt.ylabel('Duration (min)',fontsize = 14,fontweight = \"bold\",fontname=\"Verdana\")\n",
    "plt.title('UK Horror: Release Year vs. Duration',fontsize = 20, fontweight = \"bold\",fontname=\"Verdana\", color = \"#E50914\")\n",
    "print(f\"The r-squared is: {rvalue**2}\")\n",
    "plt.savefig(\"FIG 2.UK Horror Release Year vs. Duration.png\")\n",
    "plt.show()"
   ]
  },
  {
   "cell_type": "code",
   "execution_count": 24,
   "id": "1bfe4520",
   "metadata": {},
   "outputs": [
    {
     "name": "stderr",
     "output_type": "stream",
     "text": [
      "C:\\Users\\yvonne\\anaconda3\\lib\\site-packages\\statsmodels\\tsa\\tsatools.py:142: FutureWarning: In a future version of pandas all arguments of concat except for the argument 'objs' will be keyword-only\n",
      "  x = pd.concat(x[::order], 1)\n",
      "C:\\Users\\yvonne\\anaconda3\\lib\\site-packages\\scipy\\stats\\stats.py:1541: UserWarning: kurtosistest only valid for n>=20 ... continuing anyway, n=18\n",
      "  warnings.warn(\"kurtosistest only valid for n>=20 ... continuing \"\n"
     ]
    },
    {
     "data": {
      "text/html": [
       "<table class=\"simpletable\">\n",
       "<caption>OLS Regression Results</caption>\n",
       "<tr>\n",
       "  <th>Dep. Variable:</th>        <td>duration</td>     <th>  R-squared:         </th> <td>   0.003</td>\n",
       "</tr>\n",
       "<tr>\n",
       "  <th>Model:</th>                   <td>OLS</td>       <th>  Adj. R-squared:    </th> <td>  -0.059</td>\n",
       "</tr>\n",
       "<tr>\n",
       "  <th>Method:</th>             <td>Least Squares</td>  <th>  F-statistic:       </th> <td> 0.04768</td>\n",
       "</tr>\n",
       "<tr>\n",
       "  <th>Date:</th>             <td>Fri, 11 Feb 2022</td> <th>  Prob (F-statistic):</th>  <td> 0.830</td> \n",
       "</tr>\n",
       "<tr>\n",
       "  <th>Time:</th>                 <td>16:59:31</td>     <th>  Log-Likelihood:    </th> <td> -67.710</td>\n",
       "</tr>\n",
       "<tr>\n",
       "  <th>No. Observations:</th>      <td>    18</td>      <th>  AIC:               </th> <td>   139.4</td>\n",
       "</tr>\n",
       "<tr>\n",
       "  <th>Df Residuals:</th>          <td>    16</td>      <th>  BIC:               </th> <td>   141.2</td>\n",
       "</tr>\n",
       "<tr>\n",
       "  <th>Df Model:</th>              <td>     1</td>      <th>                     </th>     <td> </td>   \n",
       "</tr>\n",
       "<tr>\n",
       "  <th>Covariance Type:</th>      <td>nonrobust</td>    <th>                     </th>     <td> </td>   \n",
       "</tr>\n",
       "</table>\n",
       "<table class=\"simpletable\">\n",
       "<tr>\n",
       "        <td></td>          <th>coef</th>     <th>std err</th>      <th>t</th>      <th>P>|t|</th>  <th>[0.025</th>    <th>0.975]</th>  \n",
       "</tr>\n",
       "<tr>\n",
       "  <th>const</th>        <td>  309.6424</td> <td>  989.304</td> <td>    0.313</td> <td> 0.758</td> <td>-1787.588</td> <td> 2406.873</td>\n",
       "</tr>\n",
       "<tr>\n",
       "  <th>release_year</th> <td>   -0.1072</td> <td>    0.491</td> <td>   -0.218</td> <td> 0.830</td> <td>   -1.148</td> <td>    0.934</td>\n",
       "</tr>\n",
       "</table>\n",
       "<table class=\"simpletable\">\n",
       "<tr>\n",
       "  <th>Omnibus:</th>       <td>26.296</td> <th>  Durbin-Watson:     </th> <td>   2.133</td>\n",
       "</tr>\n",
       "<tr>\n",
       "  <th>Prob(Omnibus):</th> <td> 0.000</td> <th>  Jarque-Bera (JB):  </th> <td>  41.664</td>\n",
       "</tr>\n",
       "<tr>\n",
       "  <th>Skew:</th>          <td> 2.260</td> <th>  Prob(JB):          </th> <td>8.97e-10</td>\n",
       "</tr>\n",
       "<tr>\n",
       "  <th>Kurtosis:</th>      <td> 8.926</td> <th>  Cond. No.          </th> <td>7.66e+05</td>\n",
       "</tr>\n",
       "</table><br/><br/>Notes:<br/>[1] Standard Errors assume that the covariance matrix of the errors is correctly specified.<br/>[2] The condition number is large, 7.66e+05. This might indicate that there are<br/>strong multicollinearity or other numerical problems."
      ],
      "text/plain": [
       "<class 'statsmodels.iolib.summary.Summary'>\n",
       "\"\"\"\n",
       "                            OLS Regression Results                            \n",
       "==============================================================================\n",
       "Dep. Variable:               duration   R-squared:                       0.003\n",
       "Model:                            OLS   Adj. R-squared:                 -0.059\n",
       "Method:                 Least Squares   F-statistic:                   0.04768\n",
       "Date:                Fri, 11 Feb 2022   Prob (F-statistic):              0.830\n",
       "Time:                        16:59:31   Log-Likelihood:                -67.710\n",
       "No. Observations:                  18   AIC:                             139.4\n",
       "Df Residuals:                      16   BIC:                             141.2\n",
       "Df Model:                           1                                         \n",
       "Covariance Type:            nonrobust                                         \n",
       "================================================================================\n",
       "                   coef    std err          t      P>|t|      [0.025      0.975]\n",
       "--------------------------------------------------------------------------------\n",
       "const          309.6424    989.304      0.313      0.758   -1787.588    2406.873\n",
       "release_year    -0.1072      0.491     -0.218      0.830      -1.148       0.934\n",
       "==============================================================================\n",
       "Omnibus:                       26.296   Durbin-Watson:                   2.133\n",
       "Prob(Omnibus):                  0.000   Jarque-Bera (JB):               41.664\n",
       "Skew:                           2.260   Prob(JB):                     8.97e-10\n",
       "Kurtosis:                       8.926   Cond. No.                     7.66e+05\n",
       "==============================================================================\n",
       "\n",
       "Notes:\n",
       "[1] Standard Errors assume that the covariance matrix of the errors is correctly specified.\n",
       "[2] The condition number is large, 7.66e+05. This might indicate that there are\n",
       "strong multicollinearity or other numerical problems.\n",
       "\"\"\""
      ]
     },
     "execution_count": 24,
     "metadata": {},
     "output_type": "execute_result"
    }
   ],
   "source": [
    "feature = uk_df[[\"release_year\"]]\n",
    "target = uk_df[\"duration\"]\n",
    "\n",
    "# STATSMODELS\n",
    "X = sm.add_constant(feature)\n",
    "Y = target\n",
    "\n",
    "model = sm.OLS(Y,X)\n",
    "results = model.fit()\n",
    "results.summary()"
   ]
  },
  {
   "cell_type": "code",
   "execution_count": 25,
   "id": "77ead636",
   "metadata": {},
   "outputs": [],
   "source": [
    "# both my r2 are the same and my coeficcients"
   ]
  },
  {
   "cell_type": "code",
   "execution_count": 26,
   "id": "df1c45ce",
   "metadata": {},
   "outputs": [
    {
     "name": "stdout",
     "output_type": "stream",
     "text": [
      "[-0.10720562]\n",
      "309.64235500878726\n"
     ]
    }
   ],
   "source": [
    "#SCIKIT_Learn\n",
    "reg = LinearRegression()\n",
    "reg.fit(np.array(feature), np.array(target))\n",
    "print(reg.coef_)\n",
    "print(reg.intercept_)"
   ]
  },
  {
   "cell_type": "code",
   "execution_count": 27,
   "id": "7790d36d",
   "metadata": {},
   "outputs": [],
   "source": [
    "from sklearn.metrics import r2_score, mean_squared_error, mean_absolute_error"
   ]
  },
  {
   "cell_type": "code",
   "execution_count": 28,
   "id": "62ff43a1",
   "metadata": {},
   "outputs": [
    {
     "name": "stdout",
     "output_type": "stream",
     "text": [
      "R2: 0.0029714221715834155\n",
      "MSE: 108.35915836750627\n",
      "RMSE: 10.409570517917935\n",
      "MAE: 6.306776020308528\n"
     ]
    }
   ],
   "source": [
    "actual = uk_df[\"duration\"]\n",
    "predictions = reg.predict(uk_df[\"release_year\"].values.reshape(-1, 1))\n",
    "\n",
    "r2 = r2_score(actual, predictions)\n",
    "mse = mean_squared_error(actual, predictions)\n",
    "mae = mean_absolute_error(actual, predictions)\n",
    "\n",
    "print(f\"R2: {r2}\")\n",
    "print(f\"MSE: {mse}\")\n",
    "print(f\"RMSE: {np.sqrt(mse)}\")\n",
    "print(f\"MAE: {mae}\")"
   ]
  },
  {
   "cell_type": "code",
   "execution_count": 29,
   "id": "ccbfa97d",
   "metadata": {},
   "outputs": [
    {
     "data": {
      "image/png": "[encoded data removed]",
      "text/plain": [
       "<Figure size 360x360 with 1 Axes>"
      ]
     },
     "metadata": {
      "needs_background": "light"
     },
     "output_type": "display_data"
    }
   ],
   "source": [
    "#questions about this one\n",
    "plt.figure(figsize=(5,5))\n",
    "\n",
    "plt.scatter(predictions, actual, c=\"black\")\n",
    "plt.plot(actual, actual,color=\"#E50914\", )\n",
    "\n",
    "plt.xlabel(\"Predicted\",fontsize = 14,fontweight = \"bold\",fontname=\"Verdana\")\n",
    "plt.ylabel(\"Actual\",fontsize = 14,fontweight = \"bold\",fontname=\"Verdana\")\n",
    "plt.title(\"UK Horror: Predicted vs Actual\", fontsize = 20, fontweight = \"bold\",fontname=\"Verdana\", color = \"#E50914\")\n",
    "plt.savefig(\"FIG 3.UK Horror Predicted vs Actual.png\")\n",
    "plt.show()"
   ]
  },
  {
   "cell_type": "code",
   "execution_count": 30,
   "id": "6c49526e",
   "metadata": {},
   "outputs": [
    {
     "data": {
      "image/png": "[encoded data removed]",
      "text/plain": [
       "<Figure size 360x360 with 1 Axes>"
      ]
     },
     "metadata": {
      "needs_background": "light"
     },
     "output_type": "display_data"
    }
   ],
   "source": [
    "residuals = predictions - actual\n",
    "\n",
    "plt.figure(figsize=(5,5))\n",
    "\n",
    "plt.scatter(predictions, residuals,c=\"black\")\n",
    "plt.hlines(0, -10, 150,color=\"#E50914\")\n",
    "\n",
    "plt.xlabel(\"Predicted\",fontsize = 14,fontweight = \"bold\",fontname=\"Verdana\")\n",
    "plt.ylabel(\"Residuals\",fontsize = 14,fontweight = \"bold\",fontname=\"Verdana\")\n",
    "plt.title(\"UK Horror: Predicted vs Residuals\", fontsize = 20, fontweight = \"bold\",fontname=\"Verdana\", color = \"#E50914\")\n",
    "plt.savefig(\"FIG 4.UK Horror Predicted vs Residuals.png\")\n",
    "plt.show()"
   ]
  },
  {
   "cell_type": "markdown",
   "id": "e37a80ea",
   "metadata": {},
   "source": [
    "# ACTION AND ADVENTURE"
   ]
  },
  {
   "cell_type": "code",
   "execution_count": 31,
   "id": "e37c406c",
   "metadata": {},
   "outputs": [
    {
     "data": {
      "text/html": [
       "<div>\n",
       "<style scoped>\n",
       "    .dataframe tbody tr th:only-of-type {\n",
       "        vertical-align: middle;\n",
       "    }\n",
       "\n",
       "    .dataframe tbody tr th {\n",
       "        vertical-align: top;\n",
       "    }\n",
       "\n",
       "    .dataframe thead th {\n",
       "        text-align: right;\n",
       "    }\n",
       "</style>\n",
       "<table border=\"1\" class=\"dataframe\">\n",
       "  <thead>\n",
       "    <tr style=\"text-align: right;\">\n",
       "      <th></th>\n",
       "      <th>show_id</th>\n",
       "      <th>title</th>\n",
       "      <th>release_year</th>\n",
       "      <th>type</th>\n",
       "      <th>rating</th>\n",
       "      <th>country</th>\n",
       "      <th>genre</th>\n",
       "      <th>duration</th>\n",
       "    </tr>\n",
       "  </thead>\n",
       "  <tbody>\n",
       "    <tr>\n",
       "      <th>40</th>\n",
       "      <td>s156</td>\n",
       "      <td>Labyrinth</td>\n",
       "      <td>1986</td>\n",
       "      <td>Movie</td>\n",
       "      <td>PG</td>\n",
       "      <td>United Kingdom</td>\n",
       "      <td>Action &amp; Adventure</td>\n",
       "      <td>101.0</td>\n",
       "    </tr>\n",
       "    <tr>\n",
       "      <th>57</th>\n",
       "      <td>s178</td>\n",
       "      <td>The Guns of Navarone</td>\n",
       "      <td>1961</td>\n",
       "      <td>Movie</td>\n",
       "      <td>PG-13</td>\n",
       "      <td>United Kingdom</td>\n",
       "      <td>Action &amp; Adventure</td>\n",
       "      <td>156.0</td>\n",
       "    </tr>\n",
       "    <tr>\n",
       "      <th>292</th>\n",
       "      <td>s933</td>\n",
       "      <td>Green Zone</td>\n",
       "      <td>2010</td>\n",
       "      <td>Movie</td>\n",
       "      <td>R</td>\n",
       "      <td>United Kingdom</td>\n",
       "      <td>Action &amp; Adventure</td>\n",
       "      <td>115.0</td>\n",
       "    </tr>\n",
       "    <tr>\n",
       "      <th>328</th>\n",
       "      <td>s1034</td>\n",
       "      <td>Rush</td>\n",
       "      <td>2013</td>\n",
       "      <td>Movie</td>\n",
       "      <td>R</td>\n",
       "      <td>United Kingdom</td>\n",
       "      <td>Action &amp; Adventure</td>\n",
       "      <td>123.0</td>\n",
       "    </tr>\n",
       "    <tr>\n",
       "      <th>385</th>\n",
       "      <td>s1191</td>\n",
       "      <td>Skylines</td>\n",
       "      <td>2020</td>\n",
       "      <td>Movie</td>\n",
       "      <td>R</td>\n",
       "      <td>United Kingdom</td>\n",
       "      <td>Action &amp; Adventure</td>\n",
       "      <td>113.0</td>\n",
       "    </tr>\n",
       "  </tbody>\n",
       "</table>\n",
       "</div>"
      ],
      "text/plain": [
       "    show_id                 title  release_year   type rating         country  \\\n",
       "40     s156             Labyrinth          1986  Movie     PG  United Kingdom   \n",
       "57     s178  The Guns of Navarone          1961  Movie  PG-13  United Kingdom   \n",
       "292    s933            Green Zone          2010  Movie      R  United Kingdom   \n",
       "328   s1034                  Rush          2013  Movie      R  United Kingdom   \n",
       "385   s1191              Skylines          2020  Movie      R  United Kingdom   \n",
       "\n",
       "                  genre  duration  \n",
       "40   Action & Adventure     101.0  \n",
       "57   Action & Adventure     156.0  \n",
       "292  Action & Adventure     115.0  \n",
       "328  Action & Adventure     123.0  \n",
       "385  Action & Adventure     113.0  "
      ]
     },
     "execution_count": 31,
     "metadata": {},
     "output_type": "execute_result"
    }
   ],
   "source": [
    "# i am doing 3 different models based on country\n",
    "# United States \n",
    "genre = \"Action & Adventure\"\n",
    "uk_df = netflix_df.loc[(netflix_df['country'] == 'United Kingdom') & (netflix_df[\"genre\"]== genre)]\n",
    "uk_df.head()"
   ]
  },
  {
   "cell_type": "code",
   "execution_count": 32,
   "id": "f5cbee79",
   "metadata": {},
   "outputs": [
    {
     "data": {
      "text/html": [
       "<div>\n",
       "<style scoped>\n",
       "    .dataframe tbody tr th:only-of-type {\n",
       "        vertical-align: middle;\n",
       "    }\n",
       "\n",
       "    .dataframe tbody tr th {\n",
       "        vertical-align: top;\n",
       "    }\n",
       "\n",
       "    .dataframe thead th {\n",
       "        text-align: right;\n",
       "    }\n",
       "</style>\n",
       "<table border=\"1\" class=\"dataframe\">\n",
       "  <thead>\n",
       "    <tr style=\"text-align: right;\">\n",
       "      <th></th>\n",
       "      <th>release_year</th>\n",
       "      <th>duration</th>\n",
       "    </tr>\n",
       "  </thead>\n",
       "  <tbody>\n",
       "    <tr>\n",
       "      <th>release_year</th>\n",
       "      <td>1.000000</td>\n",
       "      <td>-0.433659</td>\n",
       "    </tr>\n",
       "    <tr>\n",
       "      <th>duration</th>\n",
       "      <td>-0.433659</td>\n",
       "      <td>1.000000</td>\n",
       "    </tr>\n",
       "  </tbody>\n",
       "</table>\n",
       "</div>"
      ],
      "text/plain": [
       "              release_year  duration\n",
       "release_year      1.000000 -0.433659\n",
       "duration         -0.433659  1.000000"
      ]
     },
     "execution_count": 32,
     "metadata": {},
     "output_type": "execute_result"
    }
   ],
   "source": [
    "#using hmk 5\n",
    "corrs= uk_df.corr()\n",
    "corrs"
   ]
  },
  {
   "cell_type": "code",
   "execution_count": 33,
   "id": "3482ca3b",
   "metadata": {},
   "outputs": [
    {
     "data": {
      "image/png": "[encoded data removed]",
      "text/plain": [
       "<Figure size 432x288 with 2 Axes>"
      ]
     },
     "metadata": {
      "needs_background": "light"
     },
     "output_type": "display_data"
    }
   ],
   "source": [
    "sns.heatmap(corrs, cmap = \"binary\")\n",
    "plt.title(\"UK A&A Correlation Heat Map\",fontsize = 18, fontweight = \"bold\",fontname=\"Verdana\", color = \"#E50914\")\n",
    "plt.savefig(\"FIG 1.UK A&A Correlation Heat Map.png\")\n",
    "plt.show()"
   ]
  },
  {
   "cell_type": "code",
   "execution_count": 34,
   "id": "09557744",
   "metadata": {},
   "outputs": [],
   "source": [
    "# ValueError: '#0A0903' is not a valid value for name; supported values are 'Accent', 'Accent_r', 'Blues', 'Blues_r', 'BrBG', 'BrBG_r', 'BuGn', 'BuGn_r', 'BuPu', 'BuPu_r', 'CMRmap', 'CMRmap_r', 'Dark2', 'Dark2_r', 'GnBu', 'GnBu_r', 'Greens', 'Greens_r', 'Greys', 'Greys_r', 'OrRd', 'OrRd_r', 'Oranges', 'Oranges_r', 'PRGn', 'PRGn_r', 'Paired', 'Paired_r', 'Pastel1', 'Pastel1_r', 'Pastel2', 'Pastel2_r', 'PiYG', 'PiYG_r', 'PuBu', 'PuBuGn', 'PuBuGn_r', 'PuBu_r', 'PuOr', 'PuOr_r', 'PuRd', 'PuRd_r', 'Purples', 'Purples_r', 'RdBu', 'RdBu_r', 'RdGy', 'RdGy_r', 'RdPu', 'RdPu_r', 'RdYlBu', 'RdYlBu_r', 'RdYlGn', 'RdYlGn_r', 'Reds', 'Reds_r', 'Set1', 'Set1_r', 'Set2', 'Set2_r', 'Set3', 'Set3_r', 'Spectral', 'Spectral_r', 'Wistia', 'Wistia_r', 'YlGn', 'YlGnBu', 'YlGnBu_r', 'YlGn_r', 'YlOrBr', 'YlOrBr_r', 'YlOrRd', 'YlOrRd_r', 'afmhot', 'afmhot_r', 'autumn', 'autumn_r', 'binary', 'binary_r', 'bone', 'bone_r', 'brg', 'brg_r', 'bwr', 'bwr_r', 'cividis', 'cividis_r', 'cool', 'cool_r', 'coolwarm', 'coolwarm_r', 'copper', 'copper_r', 'crest', 'crest_r', 'cubehelix', 'cubehelix_r', 'flag', 'flag_r', 'flare', 'flare_r', 'gist_earth', 'gist_earth_r', 'gist_gray', 'gist_gray_r', 'gist_heat', 'gist_heat_r', 'gist_ncar', 'gist_ncar_r', 'gist_rainbow', 'gist_rainbow_r', 'gist_stern', 'gist_stern_r', 'gist_yarg', 'gist_yarg_r', 'gnuplot', 'gnuplot2', 'gnuplot2_r', 'gnuplot_r', 'gray', 'gray_r', 'hot', 'hot_r', 'hsv', 'hsv_r', 'icefire', 'icefire_r', 'inferno', 'inferno_r', 'jet', 'jet_r', 'magma', 'magma_r', 'mako', 'mako_r', 'nipy_spectral', 'nipy_spectral_r', 'ocean', 'ocean_r', 'pink', 'pink_r', 'plasma', 'plasma_r', 'prism', 'prism_r', 'rainbow', 'rainbow_r', 'rocket', 'rocket_r', 'seismic', 'seismic_r', 'spring', 'spring_r', 'summer', 'summer_r', 'tab10', 'tab10_r', 'tab20', 'tab20_r', 'tab20b', 'tab20b_r', 'tab20c', 'tab20c_r', 'terrain', 'terrain_r', 'turbo', 'turbo_r', 'twilight', 'twilight_r', 'twilight_shifted', 'twilight_shifted_r', 'viridis', 'viridis_r', 'vlag', 'vlag_r', 'winter', 'winter_r'\n",
    "#https://gallantlab.github.io/pycortex/colormaps.html"
   ]
  },
  {
   "cell_type": "code",
   "execution_count": 35,
   "id": "7bbcbc98",
   "metadata": {},
   "outputs": [
    {
     "name": "stdout",
     "output_type": "stream",
     "text": [
      "The correlation between release year and duration is (-0.4336588854625788, 0.0013198104609115425)\n"
     ]
    }
   ],
   "source": [
    "corr=(st.pearsonr(uk_df['release_year'],uk_df['duration']))\n",
    "corr\n",
    "print(f\"The correlation between release year and duration is {corr}\")"
   ]
  },
  {
   "cell_type": "code",
   "execution_count": 36,
   "id": "64ee876a",
   "metadata": {},
   "outputs": [
    {
     "name": "stdout",
     "output_type": "stream",
     "text": [
      "The r-squared is: 0.18806002894064716\n"
     ]
    },
    {
     "data": {
      "image/png": "[encoded data removed]",
      "text/plain": [
       "<Figure size 432x288 with 1 Axes>"
      ]
     },
     "metadata": {
      "needs_background": "light"
     },
     "output_type": "display_data"
    }
   ],
   "source": [
    "#linear regression model like in class activity day 3 act 9\n",
    "\n",
    "x_values = uk_df['release_year']\n",
    "y_values = uk_df['duration']\n",
    "(slope, intercept, rvalue, pvalue, stderr) = linregress(x_values, y_values)\n",
    "regress_values = x_values * slope + intercept\n",
    "line_eq = \"y = \" + str(round(slope,2)) + \"x + \" + str(round(intercept,2))\n",
    "plt.scatter(x_values,y_values,color=\"#0A0903\",marker=\"o\")\n",
    "plt.plot(x_values,regress_values,\"r-\")\n",
    "plt.annotate(line_eq,(1960,80),fontsize=15,color=\"#0A0903\")\n",
    "plt.xlabel('Release year',fontsize = 14,fontweight = \"bold\",fontname=\"Verdana\")\n",
    "plt.ylabel('Duration (min)',fontsize = 14,fontweight = \"bold\",fontname=\"Verdana\")\n",
    "plt.title('UK A&A: Release Year vs. Duration',fontsize = 20, fontweight = \"bold\",fontname=\"Verdana\", color = \"#E50914\")\n",
    "print(f\"The r-squared is: {rvalue**2}\")\n",
    "plt.savefig(\"FIG 2.UK A&A Release Year vs. Duration.png\")\n",
    "plt.show()"
   ]
  },
  {
   "cell_type": "code",
   "execution_count": 37,
   "id": "24de11ad",
   "metadata": {},
   "outputs": [
    {
     "name": "stderr",
     "output_type": "stream",
     "text": [
      "C:\\Users\\yvonne\\anaconda3\\lib\\site-packages\\statsmodels\\tsa\\tsatools.py:142: FutureWarning: In a future version of pandas all arguments of concat except for the argument 'objs' will be keyword-only\n",
      "  x = pd.concat(x[::order], 1)\n"
     ]
    },
    {
     "data": {
      "text/html": [
       "<table class=\"simpletable\">\n",
       "<caption>OLS Regression Results</caption>\n",
       "<tr>\n",
       "  <th>Dep. Variable:</th>        <td>duration</td>     <th>  R-squared:         </th> <td>   0.188</td>\n",
       "</tr>\n",
       "<tr>\n",
       "  <th>Model:</th>                   <td>OLS</td>       <th>  Adj. R-squared:    </th> <td>   0.172</td>\n",
       "</tr>\n",
       "<tr>\n",
       "  <th>Method:</th>             <td>Least Squares</td>  <th>  F-statistic:       </th> <td>   11.58</td>\n",
       "</tr>\n",
       "<tr>\n",
       "  <th>Date:</th>             <td>Fri, 11 Feb 2022</td> <th>  Prob (F-statistic):</th>  <td>0.00132</td>\n",
       "</tr>\n",
       "<tr>\n",
       "  <th>Time:</th>                 <td>16:59:33</td>     <th>  Log-Likelihood:    </th> <td> -215.70</td>\n",
       "</tr>\n",
       "<tr>\n",
       "  <th>No. Observations:</th>      <td>    52</td>      <th>  AIC:               </th> <td>   435.4</td>\n",
       "</tr>\n",
       "<tr>\n",
       "  <th>Df Residuals:</th>          <td>    50</td>      <th>  BIC:               </th> <td>   439.3</td>\n",
       "</tr>\n",
       "<tr>\n",
       "  <th>Df Model:</th>              <td>     1</td>      <th>                     </th>     <td> </td>   \n",
       "</tr>\n",
       "<tr>\n",
       "  <th>Covariance Type:</th>      <td>nonrobust</td>    <th>                     </th>     <td> </td>   \n",
       "</tr>\n",
       "</table>\n",
       "<table class=\"simpletable\">\n",
       "<tr>\n",
       "        <td></td>          <th>coef</th>     <th>std err</th>      <th>t</th>      <th>P>|t|</th>  <th>[0.025</th>    <th>0.975]</th>  \n",
       "</tr>\n",
       "<tr>\n",
       "  <th>const</th>        <td> 1405.9847</td> <td>  381.642</td> <td>    3.684</td> <td> 0.001</td> <td>  639.434</td> <td> 2172.535</td>\n",
       "</tr>\n",
       "<tr>\n",
       "  <th>release_year</th> <td>   -0.6460</td> <td>    0.190</td> <td>   -3.403</td> <td> 0.001</td> <td>   -1.027</td> <td>   -0.265</td>\n",
       "</tr>\n",
       "</table>\n",
       "<table class=\"simpletable\">\n",
       "<tr>\n",
       "  <th>Omnibus:</th>       <td> 0.431</td> <th>  Durbin-Watson:     </th> <td>   2.520</td>\n",
       "</tr>\n",
       "<tr>\n",
       "  <th>Prob(Omnibus):</th> <td> 0.806</td> <th>  Jarque-Bera (JB):  </th> <td>   0.582</td>\n",
       "</tr>\n",
       "<tr>\n",
       "  <th>Skew:</th>          <td>-0.076</td> <th>  Prob(JB):          </th> <td>   0.747</td>\n",
       "</tr>\n",
       "<tr>\n",
       "  <th>Kurtosis:</th>      <td> 2.504</td> <th>  Cond. No.          </th> <td>3.54e+05</td>\n",
       "</tr>\n",
       "</table><br/><br/>Notes:<br/>[1] Standard Errors assume that the covariance matrix of the errors is correctly specified.<br/>[2] The condition number is large, 3.54e+05. This might indicate that there are<br/>strong multicollinearity or other numerical problems."
      ],
      "text/plain": [
       "<class 'statsmodels.iolib.summary.Summary'>\n",
       "\"\"\"\n",
       "                            OLS Regression Results                            \n",
       "==============================================================================\n",
       "Dep. Variable:               duration   R-squared:                       0.188\n",
       "Model:                            OLS   Adj. R-squared:                  0.172\n",
       "Method:                 Least Squares   F-statistic:                     11.58\n",
       "Date:                Fri, 11 Feb 2022   Prob (F-statistic):            0.00132\n",
       "Time:                        16:59:33   Log-Likelihood:                -215.70\n",
       "No. Observations:                  52   AIC:                             435.4\n",
       "Df Residuals:                      50   BIC:                             439.3\n",
       "Df Model:                           1                                         \n",
       "Covariance Type:            nonrobust                                         \n",
       "================================================================================\n",
       "                   coef    std err          t      P>|t|      [0.025      0.975]\n",
       "--------------------------------------------------------------------------------\n",
       "const         1405.9847    381.642      3.684      0.001     639.434    2172.535\n",
       "release_year    -0.6460      0.190     -3.403      0.001      -1.027      -0.265\n",
       "==============================================================================\n",
       "Omnibus:                        0.431   Durbin-Watson:                   2.520\n",
       "Prob(Omnibus):                  0.806   Jarque-Bera (JB):                0.582\n",
       "Skew:                          -0.076   Prob(JB):                        0.747\n",
       "Kurtosis:                       2.504   Cond. No.                     3.54e+05\n",
       "==============================================================================\n",
       "\n",
       "Notes:\n",
       "[1] Standard Errors assume that the covariance matrix of the errors is correctly specified.\n",
       "[2] The condition number is large, 3.54e+05. This might indicate that there are\n",
       "strong multicollinearity or other numerical problems.\n",
       "\"\"\""
      ]
     },
     "execution_count": 37,
     "metadata": {},
     "output_type": "execute_result"
    }
   ],
   "source": [
    "feature = uk_df[[\"release_year\"]]\n",
    "target = uk_df[\"duration\"]\n",
    "\n",
    "# STATSMODELS\n",
    "X = sm.add_constant(feature)\n",
    "Y = target\n",
    "\n",
    "model = sm.OLS(Y,X)\n",
    "results = model.fit()\n",
    "results.summary()"
   ]
  },
  {
   "cell_type": "code",
   "execution_count": 38,
   "id": "f654bfe3",
   "metadata": {},
   "outputs": [],
   "source": [
    "# both my r2 are the same and my coeficcients"
   ]
  },
  {
   "cell_type": "code",
   "execution_count": 39,
   "id": "314dc4d4",
   "metadata": {},
   "outputs": [
    {
     "name": "stdout",
     "output_type": "stream",
     "text": [
      "[-0.64595746]\n",
      "1405.984742726893\n"
     ]
    }
   ],
   "source": [
    "#SCIKIT_Learn\n",
    "reg = LinearRegression()\n",
    "reg.fit(np.array(feature), np.array(target))\n",
    "print(reg.coef_)\n",
    "print(reg.intercept_)"
   ]
  },
  {
   "cell_type": "code",
   "execution_count": 40,
   "id": "ee12656e",
   "metadata": {},
   "outputs": [],
   "source": [
    "from sklearn.metrics import r2_score, mean_squared_error, mean_absolute_error"
   ]
  },
  {
   "cell_type": "code",
   "execution_count": 41,
   "id": "940eabf3",
   "metadata": {},
   "outputs": [
    {
     "name": "stdout",
     "output_type": "stream",
     "text": [
      "R2: 0.18806002894064666\n",
      "MSE: 234.70920499945066\n",
      "RMSE: 15.32022209367249\n",
      "MAE: 12.776105985807616\n"
     ]
    }
   ],
   "source": [
    "actual = uk_df[\"duration\"]\n",
    "predictions = reg.predict(uk_df[\"release_year\"].values.reshape(-1, 1))\n",
    "\n",
    "r2 = r2_score(actual, predictions)\n",
    "mse = mean_squared_error(actual, predictions)\n",
    "mae = mean_absolute_error(actual, predictions)\n",
    "\n",
    "print(f\"R2: {r2}\")\n",
    "print(f\"MSE: {mse}\")\n",
    "print(f\"RMSE: {np.sqrt(mse)}\")\n",
    "print(f\"MAE: {mae}\")"
   ]
  },
  {
   "cell_type": "code",
   "execution_count": 42,
   "id": "103b4934",
   "metadata": {},
   "outputs": [
    {
     "data": {
      "image/png": "[encoded data removed]",
      "text/plain": [
       "<Figure size 360x360 with 1 Axes>"
      ]
     },
     "metadata": {
      "needs_background": "light"
     },
     "output_type": "display_data"
    }
   ],
   "source": [
    "#questions about this one\n",
    "plt.figure(figsize=(5,5))\n",
    "\n",
    "plt.scatter(predictions, actual, c=\"black\")\n",
    "plt.plot(actual, actual,color=\"#E50914\", )\n",
    "\n",
    "plt.xlabel(\"Predicted\",fontsize = 14,fontweight = \"bold\",fontname=\"Verdana\")\n",
    "plt.ylabel(\"Actual\",fontsize = 14,fontweight = \"bold\",fontname=\"Verdana\")\n",
    "plt.title(\"UK A&A: Predicted vs Actual\", fontsize = 20, fontweight = \"bold\",fontname=\"Verdana\", color = \"#E50914\")\n",
    "plt.savefig(\"FIG 3.UK A&A Predicted vs Actual.png\")\n",
    "plt.show()"
   ]
  },
  {
   "cell_type": "code",
   "execution_count": 43,
   "id": "b65c6c6a",
   "metadata": {},
   "outputs": [
    {
     "data": {
      "image/png": "[encoded data removed]",
      "text/plain": [
       "<Figure size 360x360 with 1 Axes>"
      ]
     },
     "metadata": {
      "needs_background": "light"
     },
     "output_type": "display_data"
    }
   ],
   "source": [
    "residuals = predictions - actual\n",
    "\n",
    "plt.figure(figsize=(5,5))\n",
    "\n",
    "plt.scatter(predictions, residuals,c=\"black\")\n",
    "plt.hlines(0, -10, 150,color=\"#E50914\")\n",
    "\n",
    "plt.xlabel(\"Predicted\",fontsize = 14,fontweight = \"bold\",fontname=\"Verdana\")\n",
    "plt.ylabel(\"Residuals\",fontsize = 14,fontweight = \"bold\",fontname=\"Verdana\")\n",
    "plt.title(\"UK A&A: Predicted vs Residuals\", fontsize = 20, fontweight = \"bold\",fontname=\"Verdana\", color = \"#E50914\")\n",
    "plt.savefig(\"FIG 4.UK A&A Predicted vs Residuals.png\")\n",
    "plt.show()"
   ]
  },
  {
   "cell_type": "code",
   "execution_count": null,
   "id": "2f9ebf2c",
   "metadata": {},
   "outputs": [],
   "source": []
  },
  {
   "cell_type": "code",
   "execution_count": null,
   "id": "00c85902",
   "metadata": {},
   "outputs": [],
   "source": []
  },
  {
   "cell_type": "code",
   "execution_count": null,
   "id": "5ff40572",
   "metadata": {},
   "outputs": [],
   "source": []
  },
  {
   "cell_type": "code",
   "execution_count": null,
   "id": "a5cb2d11",
   "metadata": {},
   "outputs": [],
   "source": []
  }
 ],
 "metadata": {
  "kernelspec": {
   "display_name": "Python 3 (ipykernel)",
   "language": "python",
   "name": "python3"
  },
  "language_info": {
   "codemirror_mode": {
    "name": "ipython",
    "version": 3
   },
   "file_extension": ".py",
   "mimetype": "text/x-python",
   "name": "python",
   "nbconvert_exporter": "python",
   "pygments_lexer": "ipython3",
   "version": "3.9.7"
  }
 },
 "nbformat": 4,
 "nbformat_minor": 5
}
