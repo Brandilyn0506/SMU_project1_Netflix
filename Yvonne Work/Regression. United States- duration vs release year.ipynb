{
 "cells": [
  {
   "cell_type": "code",
   "execution_count": 1,
   "id": "d6b24ddd",
   "metadata": {},
   "outputs": [
    {
     "data": {
      "text/html": [
       "<div>\n",
       "<style scoped>\n",
       "    .dataframe tbody tr th:only-of-type {\n",
       "        vertical-align: middle;\n",
       "    }\n",
       "\n",
       "    .dataframe tbody tr th {\n",
       "        vertical-align: top;\n",
       "    }\n",
       "\n",
       "    .dataframe thead th {\n",
       "        text-align: right;\n",
       "    }\n",
       "</style>\n",
       "<table border=\"1\" class=\"dataframe\">\n",
       "  <thead>\n",
       "    <tr style=\"text-align: right;\">\n",
       "      <th></th>\n",
       "      <th>show_id</th>\n",
       "      <th>title</th>\n",
       "      <th>release_year</th>\n",
       "      <th>type</th>\n",
       "      <th>rating</th>\n",
       "      <th>country</th>\n",
       "      <th>genre</th>\n",
       "      <th>duration</th>\n",
       "    </tr>\n",
       "  </thead>\n",
       "  <tbody>\n",
       "    <tr>\n",
       "      <th>0</th>\n",
       "      <td>s1</td>\n",
       "      <td>Dick Johnson Is Dead</td>\n",
       "      <td>2020</td>\n",
       "      <td>Movie</td>\n",
       "      <td>PG-13</td>\n",
       "      <td>United States</td>\n",
       "      <td>Documentaries</td>\n",
       "      <td>90.0</td>\n",
       "    </tr>\n",
       "    <tr>\n",
       "      <th>1</th>\n",
       "      <td>s8</td>\n",
       "      <td>Sankofa</td>\n",
       "      <td>1993</td>\n",
       "      <td>Movie</td>\n",
       "      <td>R</td>\n",
       "      <td>United States</td>\n",
       "      <td>Dramas</td>\n",
       "      <td>125.0</td>\n",
       "    </tr>\n",
       "    <tr>\n",
       "      <th>2</th>\n",
       "      <td>s10</td>\n",
       "      <td>The Starling</td>\n",
       "      <td>2021</td>\n",
       "      <td>Movie</td>\n",
       "      <td>PG-13</td>\n",
       "      <td>United States</td>\n",
       "      <td>Comedies</td>\n",
       "      <td>104.0</td>\n",
       "    </tr>\n",
       "    <tr>\n",
       "      <th>3</th>\n",
       "      <td>s25</td>\n",
       "      <td>Jeans</td>\n",
       "      <td>1998</td>\n",
       "      <td>Movie</td>\n",
       "      <td>PG-13</td>\n",
       "      <td>India</td>\n",
       "      <td>Comedies</td>\n",
       "      <td>166.0</td>\n",
       "    </tr>\n",
       "    <tr>\n",
       "      <th>4</th>\n",
       "      <td>s28</td>\n",
       "      <td>Grown Ups</td>\n",
       "      <td>2010</td>\n",
       "      <td>Movie</td>\n",
       "      <td>PG-13</td>\n",
       "      <td>United States</td>\n",
       "      <td>Comedies</td>\n",
       "      <td>103.0</td>\n",
       "    </tr>\n",
       "  </tbody>\n",
       "</table>\n",
       "</div>"
      ],
      "text/plain": [
       "  show_id                 title  release_year   type rating        country  \\\n",
       "0      s1  Dick Johnson Is Dead          2020  Movie  PG-13  United States   \n",
       "1      s8               Sankofa          1993  Movie      R  United States   \n",
       "2     s10          The Starling          2021  Movie  PG-13  United States   \n",
       "3     s25                 Jeans          1998  Movie  PG-13          India   \n",
       "4     s28             Grown Ups          2010  Movie  PG-13  United States   \n",
       "\n",
       "           genre  duration  \n",
       "0  Documentaries      90.0  \n",
       "1         Dramas     125.0  \n",
       "2       Comedies     104.0  \n",
       "3       Comedies     166.0  \n",
       "4       Comedies     103.0  "
      ]
     },
     "execution_count": 1,
     "metadata": {},
     "output_type": "execute_result"
    }
   ],
   "source": [
    "# Dependencies and Setup\n",
    "import matplotlib.pyplot as plt\n",
    "import pandas as pd\n",
    "import numpy as np\n",
    "import seaborn as sns\n",
    "import scipy.stats as st\n",
    "from scipy.stats import ttest_ind\n",
    "\n",
    "\n",
    "# linear modelling\n",
    "import statsmodels.api as sm\n",
    "from scipy.stats import linregress\n",
    "from sklearn.linear_model import LinearRegression\n",
    "\n",
    "\n",
    "# Import API key. Renamed mine\n",
    "#from api_keys_Yvonne import weather_api_key\n",
    "\n",
    "# Incorporated citipy to determine city based on latitude and longitude\n",
    "#from citipy import citipy\n",
    "\n",
    "# Our Clean Netflix data (CSV)\n",
    "output_data_file = \"NetflixDF4.csv\"\n",
    "\n",
    "# Read the CSV\n",
    "netflix_df = pd.read_csv(output_data_file)\n",
    "\n",
    "# Display the data table for preview\n",
    "netflix_df.head()"
   ]
  },
  {
   "cell_type": "code",
   "execution_count": 2,
   "id": "6f706c98",
   "metadata": {},
   "outputs": [
    {
     "data": {
      "text/plain": [
       "R        1604\n",
       "PG-13    1207\n",
       "PG        614\n",
       "G          86\n",
       "NR         47\n",
       "Name: rating, dtype: int64"
      ]
     },
     "execution_count": 2,
     "metadata": {},
     "output_type": "execute_result"
    }
   ],
   "source": [
    "netflix_df.rating.value_counts()"
   ]
  },
  {
   "cell_type": "code",
   "execution_count": 3,
   "id": "1cc573f0",
   "metadata": {},
   "outputs": [
    {
     "name": "stdout",
     "output_type": "stream",
     "text": [
      "<class 'pandas.core.frame.DataFrame'>\n",
      "RangeIndex: 3558 entries, 0 to 3557\n",
      "Data columns (total 8 columns):\n",
      " #   Column        Non-Null Count  Dtype  \n",
      "---  ------        --------------  -----  \n",
      " 0   show_id       3558 non-null   object \n",
      " 1   title         3558 non-null   object \n",
      " 2   release_year  3558 non-null   int64  \n",
      " 3   type          3558 non-null   object \n",
      " 4   rating        3558 non-null   object \n",
      " 5   country       3558 non-null   object \n",
      " 6   genre         3558 non-null   object \n",
      " 7   duration      3558 non-null   float64\n",
      "dtypes: float64(1), int64(1), object(6)\n",
      "memory usage: 222.5+ KB\n"
     ]
    }
   ],
   "source": [
    "netflix_df.info()"
   ]
  },
  {
   "cell_type": "code",
   "execution_count": 4,
   "id": "4f9edae1",
   "metadata": {},
   "outputs": [
    {
     "data": {
      "text/html": [
       "<div>\n",
       "<style scoped>\n",
       "    .dataframe tbody tr th:only-of-type {\n",
       "        vertical-align: middle;\n",
       "    }\n",
       "\n",
       "    .dataframe tbody tr th {\n",
       "        vertical-align: top;\n",
       "    }\n",
       "\n",
       "    .dataframe thead th {\n",
       "        text-align: right;\n",
       "    }\n",
       "</style>\n",
       "<table border=\"1\" class=\"dataframe\">\n",
       "  <thead>\n",
       "    <tr style=\"text-align: right;\">\n",
       "      <th></th>\n",
       "      <th>show_id</th>\n",
       "      <th>title</th>\n",
       "      <th>release_year</th>\n",
       "      <th>type</th>\n",
       "      <th>rating</th>\n",
       "      <th>country</th>\n",
       "      <th>genre</th>\n",
       "      <th>duration</th>\n",
       "    </tr>\n",
       "  </thead>\n",
       "  <tbody>\n",
       "    <tr>\n",
       "      <th>1</th>\n",
       "      <td>s8</td>\n",
       "      <td>Sankofa</td>\n",
       "      <td>1993</td>\n",
       "      <td>Movie</td>\n",
       "      <td>R</td>\n",
       "      <td>United States</td>\n",
       "      <td>Dramas</td>\n",
       "      <td>125.0</td>\n",
       "    </tr>\n",
       "    <tr>\n",
       "      <th>8</th>\n",
       "      <td>s43</td>\n",
       "      <td>Jaws 2</td>\n",
       "      <td>1978</td>\n",
       "      <td>Movie</td>\n",
       "      <td>PG</td>\n",
       "      <td>United States</td>\n",
       "      <td>Dramas</td>\n",
       "      <td>116.0</td>\n",
       "    </tr>\n",
       "    <tr>\n",
       "      <th>11</th>\n",
       "      <td>s49</td>\n",
       "      <td>Training Day</td>\n",
       "      <td>2001</td>\n",
       "      <td>Movie</td>\n",
       "      <td>R</td>\n",
       "      <td>United States</td>\n",
       "      <td>Dramas</td>\n",
       "      <td>122.0</td>\n",
       "    </tr>\n",
       "    <tr>\n",
       "      <th>29</th>\n",
       "      <td>s137</td>\n",
       "      <td>Cold Mountain</td>\n",
       "      <td>2003</td>\n",
       "      <td>Movie</td>\n",
       "      <td>R</td>\n",
       "      <td>United States</td>\n",
       "      <td>Dramas</td>\n",
       "      <td>154.0</td>\n",
       "    </tr>\n",
       "    <tr>\n",
       "      <th>30</th>\n",
       "      <td>s139</td>\n",
       "      <td>Dear John</td>\n",
       "      <td>2010</td>\n",
       "      <td>Movie</td>\n",
       "      <td>PG-13</td>\n",
       "      <td>United States</td>\n",
       "      <td>Dramas</td>\n",
       "      <td>108.0</td>\n",
       "    </tr>\n",
       "  </tbody>\n",
       "</table>\n",
       "</div>"
      ],
      "text/plain": [
       "   show_id          title  release_year   type rating        country   genre  \\\n",
       "1       s8        Sankofa          1993  Movie      R  United States  Dramas   \n",
       "8      s43         Jaws 2          1978  Movie     PG  United States  Dramas   \n",
       "11     s49   Training Day          2001  Movie      R  United States  Dramas   \n",
       "29    s137  Cold Mountain          2003  Movie      R  United States  Dramas   \n",
       "30    s139      Dear John          2010  Movie  PG-13  United States  Dramas   \n",
       "\n",
       "    duration  \n",
       "1      125.0  \n",
       "8      116.0  \n",
       "11     122.0  \n",
       "29     154.0  \n",
       "30     108.0  "
      ]
     },
     "execution_count": 4,
     "metadata": {},
     "output_type": "execute_result"
    }
   ],
   "source": [
    "# i am doing 3 different models based on country\n",
    "# United States \n",
    "genre = \"Dramas\"\n",
    "us_df = netflix_df.loc[(netflix_df['country'] == 'United States') & (netflix_df[\"genre\"]== genre)]\n",
    "us_df.head()\n"
   ]
  },
  {
   "cell_type": "code",
   "execution_count": 5,
   "id": "b270eb7e",
   "metadata": {},
   "outputs": [
    {
     "data": {
      "text/html": [
       "<div>\n",
       "<style scoped>\n",
       "    .dataframe tbody tr th:only-of-type {\n",
       "        vertical-align: middle;\n",
       "    }\n",
       "\n",
       "    .dataframe tbody tr th {\n",
       "        vertical-align: top;\n",
       "    }\n",
       "\n",
       "    .dataframe thead th {\n",
       "        text-align: right;\n",
       "    }\n",
       "</style>\n",
       "<table border=\"1\" class=\"dataframe\">\n",
       "  <thead>\n",
       "    <tr style=\"text-align: right;\">\n",
       "      <th></th>\n",
       "      <th>release_year</th>\n",
       "      <th>duration</th>\n",
       "    </tr>\n",
       "  </thead>\n",
       "  <tbody>\n",
       "    <tr>\n",
       "      <th>release_year</th>\n",
       "      <td>1.00000</td>\n",
       "      <td>-0.18725</td>\n",
       "    </tr>\n",
       "    <tr>\n",
       "      <th>duration</th>\n",
       "      <td>-0.18725</td>\n",
       "      <td>1.00000</td>\n",
       "    </tr>\n",
       "  </tbody>\n",
       "</table>\n",
       "</div>"
      ],
      "text/plain": [
       "              release_year  duration\n",
       "release_year       1.00000  -0.18725\n",
       "duration          -0.18725   1.00000"
      ]
     },
     "execution_count": 5,
     "metadata": {},
     "output_type": "execute_result"
    }
   ],
   "source": [
    "#using hmk 5\n",
    "corrs=us_df.corr()\n",
    "corrs"
   ]
  },
  {
   "cell_type": "code",
   "execution_count": 6,
   "id": "bd28af96",
   "metadata": {},
   "outputs": [
    {
     "data": {
      "image/png": "[encoded data removed]",
      "text/plain": [
       "<Figure size 432x288 with 2 Axes>"
      ]
     },
     "metadata": {
      "needs_background": "light"
     },
     "output_type": "display_data"
    }
   ],
   "source": [
    "sns.heatmap(corrs, cmap = \"binary\")\n",
    "plt.title(\"US Drama Correlation Heat Map\",fontsize = 18, fontweight = \"bold\",fontname=\"Verdana\", color = \"#E50914\")\n",
    "plt.tight_layout\n",
    "plt.savefig(\"FIG 1.US Drama Correlation Heat Map.png\")\n",
    "plt.show()"
   ]
  },
  {
   "cell_type": "code",
   "execution_count": 7,
   "id": "0c8ed386",
   "metadata": {},
   "outputs": [],
   "source": [
    "# ValueError: '#0A0903' is not a valid value for name; supported values are 'Accent', 'Accent_r', 'Blues', 'Blues_r', 'BrBG', 'BrBG_r', 'BuGn', 'BuGn_r', 'BuPu', 'BuPu_r', 'CMRmap', 'CMRmap_r', 'Dark2', 'Dark2_r', 'GnBu', 'GnBu_r', 'Greens', 'Greens_r', 'Greys', 'Greys_r', 'OrRd', 'OrRd_r', 'Oranges', 'Oranges_r', 'PRGn', 'PRGn_r', 'Paired', 'Paired_r', 'Pastel1', 'Pastel1_r', 'Pastel2', 'Pastel2_r', 'PiYG', 'PiYG_r', 'PuBu', 'PuBuGn', 'PuBuGn_r', 'PuBu_r', 'PuOr', 'PuOr_r', 'PuRd', 'PuRd_r', 'Purples', 'Purples_r', 'RdBu', 'RdBu_r', 'RdGy', 'RdGy_r', 'RdPu', 'RdPu_r', 'RdYlBu', 'RdYlBu_r', 'RdYlGn', 'RdYlGn_r', 'Reds', 'Reds_r', 'Set1', 'Set1_r', 'Set2', 'Set2_r', 'Set3', 'Set3_r', 'Spectral', 'Spectral_r', 'Wistia', 'Wistia_r', 'YlGn', 'YlGnBu', 'YlGnBu_r', 'YlGn_r', 'YlOrBr', 'YlOrBr_r', 'YlOrRd', 'YlOrRd_r', 'afmhot', 'afmhot_r', 'autumn', 'autumn_r', 'binary', 'binary_r', 'bone', 'bone_r', 'brg', 'brg_r', 'bwr', 'bwr_r', 'cividis', 'cividis_r', 'cool', 'cool_r', 'coolwarm', 'coolwarm_r', 'copper', 'copper_r', 'crest', 'crest_r', 'cubehelix', 'cubehelix_r', 'flag', 'flag_r', 'flare', 'flare_r', 'gist_earth', 'gist_earth_r', 'gist_gray', 'gist_gray_r', 'gist_heat', 'gist_heat_r', 'gist_ncar', 'gist_ncar_r', 'gist_rainbow', 'gist_rainbow_r', 'gist_stern', 'gist_stern_r', 'gist_yarg', 'gist_yarg_r', 'gnuplot', 'gnuplot2', 'gnuplot2_r', 'gnuplot_r', 'gray', 'gray_r', 'hot', 'hot_r', 'hsv', 'hsv_r', 'icefire', 'icefire_r', 'inferno', 'inferno_r', 'jet', 'jet_r', 'magma', 'magma_r', 'mako', 'mako_r', 'nipy_spectral', 'nipy_spectral_r', 'ocean', 'ocean_r', 'pink', 'pink_r', 'plasma', 'plasma_r', 'prism', 'prism_r', 'rainbow', 'rainbow_r', 'rocket', 'rocket_r', 'seismic', 'seismic_r', 'spring', 'spring_r', 'summer', 'summer_r', 'tab10', 'tab10_r', 'tab20', 'tab20_r', 'tab20b', 'tab20b_r', 'tab20c', 'tab20c_r', 'terrain', 'terrain_r', 'turbo', 'turbo_r', 'twilight', 'twilight_r', 'twilight_shifted', 'twilight_shifted_r', 'viridis', 'viridis_r', 'vlag', 'vlag_r', 'winter', 'winter_r'\n",
    "#https://gallantlab.github.io/pycortex/colormaps.html"
   ]
  },
  {
   "cell_type": "code",
   "execution_count": 8,
   "id": "26f2913f",
   "metadata": {},
   "outputs": [
    {
     "name": "stdout",
     "output_type": "stream",
     "text": [
      "The correlation between release year and duration is (-0.18724992426751738, 0.00010502059858570537)\n"
     ]
    }
   ],
   "source": [
    "corr=(st.pearsonr(us_df['release_year'],us_df['duration']))\n",
    "corr\n",
    "print(f\"The correlation between release year and duration is {corr}\")"
   ]
  },
  {
   "cell_type": "code",
   "execution_count": 9,
   "id": "0649be70",
   "metadata": {},
   "outputs": [
    {
     "name": "stdout",
     "output_type": "stream",
     "text": [
      "The r-squared is: 0.03506253413819103\n"
     ]
    },
    {
     "data": {
      "image/png": "[encoded data removed]",
      "text/plain": [
       "<Figure size 432x288 with 1 Axes>"
      ]
     },
     "metadata": {
      "needs_background": "light"
     },
     "output_type": "display_data"
    }
   ],
   "source": [
    "#linear regression model like in class activity day 3 act 9\n",
    "\n",
    "x_values = us_df['release_year']\n",
    "y_values = us_df['duration']\n",
    "(slope, intercept, rvalue, pvalue, stderr) = linregress(x_values, y_values)\n",
    "regress_values = x_values * slope + intercept\n",
    "line_eq = \"y = \" + str(round(slope,2)) + \"x + \" + str(round(intercept,2))\n",
    "plt.scatter(x_values,y_values,color=\"#0A0903\",marker=\"o\")\n",
    "plt.plot(x_values,regress_values,\"r-\")\n",
    "plt.annotate(line_eq,(1980,300),fontsize=15,color=\"#0A0903\")\n",
    "plt.xlabel('Release year',fontsize = 14,fontweight = \"bold\",fontname=\"Verdana\")\n",
    "plt.ylabel('Duration (min)',fontsize = 14,fontweight = \"bold\",fontname=\"Verdana\")\n",
    "plt.title('US Drama: Release Year vs. Duration',fontsize = 20, fontweight = \"bold\",fontname=\"Verdana\", color = \"#E50914\")\n",
    "print(f\"The r-squared is: {rvalue**2}\")\n",
    "plt.savefig(\"FIG 2.US Drama Release Year vs. Duration.png\")\n",
    "plt.show()"
   ]
  },
  {
   "cell_type": "code",
   "execution_count": 10,
   "id": "e76054e0",
   "metadata": {},
   "outputs": [
    {
     "name": "stderr",
     "output_type": "stream",
     "text": [
      "C:\\Users\\yvonne\\anaconda3\\lib\\site-packages\\statsmodels\\tsa\\tsatools.py:142: FutureWarning: In a future version of pandas all arguments of concat except for the argument 'objs' will be keyword-only\n",
      "  x = pd.concat(x[::order], 1)\n"
     ]
    },
    {
     "data": {
      "text/html": [
       "<table class=\"simpletable\">\n",
       "<caption>OLS Regression Results</caption>\n",
       "<tr>\n",
       "  <th>Dep. Variable:</th>        <td>duration</td>     <th>  R-squared:         </th> <td>   0.035</td>\n",
       "</tr>\n",
       "<tr>\n",
       "  <th>Model:</th>                   <td>OLS</td>       <th>  Adj. R-squared:    </th> <td>   0.033</td>\n",
       "</tr>\n",
       "<tr>\n",
       "  <th>Method:</th>             <td>Least Squares</td>  <th>  F-statistic:       </th> <td>   15.33</td>\n",
       "</tr>\n",
       "<tr>\n",
       "  <th>Date:</th>             <td>Fri, 11 Feb 2022</td> <th>  Prob (F-statistic):</th> <td>0.000105</td>\n",
       "</tr>\n",
       "<tr>\n",
       "  <th>Time:</th>                 <td>16:58:28</td>     <th>  Log-Likelihood:    </th> <td> -1893.3</td>\n",
       "</tr>\n",
       "<tr>\n",
       "  <th>No. Observations:</th>      <td>   424</td>      <th>  AIC:               </th> <td>   3791.</td>\n",
       "</tr>\n",
       "<tr>\n",
       "  <th>Df Residuals:</th>          <td>   422</td>      <th>  BIC:               </th> <td>   3799.</td>\n",
       "</tr>\n",
       "<tr>\n",
       "  <th>Df Model:</th>              <td>     1</td>      <th>                     </th>     <td> </td>   \n",
       "</tr>\n",
       "<tr>\n",
       "  <th>Covariance Type:</th>      <td>nonrobust</td>    <th>                     </th>     <td> </td>   \n",
       "</tr>\n",
       "</table>\n",
       "<table class=\"simpletable\">\n",
       "<tr>\n",
       "        <td></td>          <th>coef</th>     <th>std err</th>      <th>t</th>      <th>P>|t|</th>  <th>[0.025</th>    <th>0.975]</th>  \n",
       "</tr>\n",
       "<tr>\n",
       "  <th>const</th>        <td> 1051.6416</td> <td>  241.286</td> <td>    4.358</td> <td> 0.000</td> <td>  577.370</td> <td> 1525.913</td>\n",
       "</tr>\n",
       "<tr>\n",
       "  <th>release_year</th> <td>   -0.4695</td> <td>    0.120</td> <td>   -3.916</td> <td> 0.000</td> <td>   -0.705</td> <td>   -0.234</td>\n",
       "</tr>\n",
       "</table>\n",
       "<table class=\"simpletable\">\n",
       "<tr>\n",
       "  <th>Omnibus:</th>       <td>335.961</td> <th>  Durbin-Watson:     </th> <td>   1.749</td> \n",
       "</tr>\n",
       "<tr>\n",
       "  <th>Prob(Omnibus):</th> <td> 0.000</td>  <th>  Jarque-Bera (JB):  </th> <td>10514.778</td>\n",
       "</tr>\n",
       "<tr>\n",
       "  <th>Skew:</th>          <td> 3.058</td>  <th>  Prob(JB):          </th> <td>    0.00</td> \n",
       "</tr>\n",
       "<tr>\n",
       "  <th>Kurtosis:</th>      <td>26.617</td>  <th>  Cond. No.          </th> <td>4.74e+05</td> \n",
       "</tr>\n",
       "</table><br/><br/>Notes:<br/>[1] Standard Errors assume that the covariance matrix of the errors is correctly specified.<br/>[2] The condition number is large, 4.74e+05. This might indicate that there are<br/>strong multicollinearity or other numerical problems."
      ],
      "text/plain": [
       "<class 'statsmodels.iolib.summary.Summary'>\n",
       "\"\"\"\n",
       "                            OLS Regression Results                            \n",
       "==============================================================================\n",
       "Dep. Variable:               duration   R-squared:                       0.035\n",
       "Model:                            OLS   Adj. R-squared:                  0.033\n",
       "Method:                 Least Squares   F-statistic:                     15.33\n",
       "Date:                Fri, 11 Feb 2022   Prob (F-statistic):           0.000105\n",
       "Time:                        16:58:28   Log-Likelihood:                -1893.3\n",
       "No. Observations:                 424   AIC:                             3791.\n",
       "Df Residuals:                     422   BIC:                             3799.\n",
       "Df Model:                           1                                         \n",
       "Covariance Type:            nonrobust                                         \n",
       "================================================================================\n",
       "                   coef    std err          t      P>|t|      [0.025      0.975]\n",
       "--------------------------------------------------------------------------------\n",
       "const         1051.6416    241.286      4.358      0.000     577.370    1525.913\n",
       "release_year    -0.4695      0.120     -3.916      0.000      -0.705      -0.234\n",
       "==============================================================================\n",
       "Omnibus:                      335.961   Durbin-Watson:                   1.749\n",
       "Prob(Omnibus):                  0.000   Jarque-Bera (JB):            10514.778\n",
       "Skew:                           3.058   Prob(JB):                         0.00\n",
       "Kurtosis:                      26.617   Cond. No.                     4.74e+05\n",
       "==============================================================================\n",
       "\n",
       "Notes:\n",
       "[1] Standard Errors assume that the covariance matrix of the errors is correctly specified.\n",
       "[2] The condition number is large, 4.74e+05. This might indicate that there are\n",
       "strong multicollinearity or other numerical problems.\n",
       "\"\"\""
      ]
     },
     "execution_count": 10,
     "metadata": {},
     "output_type": "execute_result"
    }
   ],
   "source": [
    "feature = us_df[[\"release_year\"]]\n",
    "target = us_df[\"duration\"]\n",
    "\n",
    "# STATSMODELS\n",
    "X = sm.add_constant(feature)\n",
    "Y = target\n",
    "\n",
    "model = sm.OLS(Y,X)\n",
    "results = model.fit()\n",
    "results.summary()"
   ]
  },
  {
   "cell_type": "code",
   "execution_count": 11,
   "id": "7deb90f6",
   "metadata": {},
   "outputs": [],
   "source": [
    "# both my r2 are the same and my coeficcients"
   ]
  },
  {
   "cell_type": "code",
   "execution_count": 12,
   "id": "ff11ad2d",
   "metadata": {},
   "outputs": [
    {
     "name": "stdout",
     "output_type": "stream",
     "text": [
      "[-0.46945901]\n",
      "1051.6415748146703\n"
     ]
    }
   ],
   "source": [
    "#SCIKIT_Learn\n",
    "reg = LinearRegression()\n",
    "reg.fit(np.array(feature), np.array(target))\n",
    "print(reg.coef_)\n",
    "print(reg.intercept_)"
   ]
  },
  {
   "cell_type": "code",
   "execution_count": 13,
   "id": "6297ed45",
   "metadata": {},
   "outputs": [],
   "source": [
    "from sklearn.metrics import r2_score, mean_squared_error, mean_absolute_error"
   ]
  },
  {
   "cell_type": "code",
   "execution_count": 14,
   "id": "8e3510f8",
   "metadata": {
    "scrolled": true
   },
   "outputs": [
    {
     "name": "stdout",
     "output_type": "stream",
     "text": [
      "R2: 0.03506253413819105\n",
      "MSE: 442.7291067961774\n",
      "RMSE: 21.041128933500154\n",
      "MAE: 14.558332347944999\n"
     ]
    }
   ],
   "source": [
    "actual = us_df[\"duration\"]\n",
    "predictions = reg.predict(us_df[\"release_year\"].values.reshape(-1, 1))\n",
    "\n",
    "r2 = r2_score(actual, predictions)\n",
    "mse = mean_squared_error(actual, predictions)\n",
    "mae = mean_absolute_error(actual, predictions)\n",
    "\n",
    "print(f\"R2: {r2}\")\n",
    "print(f\"MSE: {mse}\")\n",
    "print(f\"RMSE: {np.sqrt(mse)}\")\n",
    "print(f\"MAE: {mae}\")"
   ]
  },
  {
   "cell_type": "markdown",
   "id": "26d4dba3",
   "metadata": {},
   "source": [
    "#booth\n",
    "#5.7% of the variance of duration is explained by releas year"
   ]
  },
  {
   "cell_type": "code",
   "execution_count": 15,
   "id": "ae24b818",
   "metadata": {},
   "outputs": [
    {
     "data": {
      "image/png": "[encoded data removed]",
      "text/plain": [
       "<Figure size 360x360 with 1 Axes>"
      ]
     },
     "metadata": {
      "needs_background": "light"
     },
     "output_type": "display_data"
    }
   ],
   "source": [
    "#questions about this one\n",
    "plt.figure(figsize=(5,5))\n",
    "\n",
    "plt.scatter(predictions, actual, c=\"black\")\n",
    "plt.plot(actual, actual,color=\"#E50914\", )\n",
    "\n",
    "plt.xlabel(\"Predicted\",fontsize = 14,fontweight = \"bold\",fontname=\"Verdana\")\n",
    "plt.ylabel(\"Actual\",fontsize = 14,fontweight = \"bold\",fontname=\"Verdana\")\n",
    "plt.title(\"US Drama: Predicted vs Actual\", fontsize = 20, fontweight = \"bold\",fontname=\"Verdana\", color = \"#E50914\")\n",
    "plt.savefig(\"FIG 3.US Drama Predicted vs Actual.png\")\n",
    "plt.show()"
   ]
  },
  {
   "cell_type": "code",
   "execution_count": 16,
   "id": "7dca470b",
   "metadata": {},
   "outputs": [
    {
     "data": {
      "image/png": "[encoded data removed]",
      "text/plain": [
       "<Figure size 360x360 with 1 Axes>"
      ]
     },
     "metadata": {
      "needs_background": "light"
     },
     "output_type": "display_data"
    }
   ],
   "source": [
    "residuals = predictions - actual\n",
    "\n",
    "plt.figure(figsize=(5,5))\n",
    "\n",
    "plt.scatter(predictions, residuals,c=\"black\")\n",
    "plt.hlines(0, 80, 150,color=\"#E50914\")\n",
    "\n",
    "plt.xlabel(\"Predicted\",fontsize = 14,fontweight = \"bold\",fontname=\"Verdana\")\n",
    "plt.ylabel(\"Residuals\",fontsize = 14,fontweight = \"bold\",fontname=\"Verdana\")\n",
    "plt.title(\"US Drama: Predicted vs Residuals\", fontsize =20 , fontweight = \"bold\",fontname=\"Verdana\", color = \"#E50914\")\n",
    "\n",
    "plt.savefig(\"FIG 4.US Drama Predicted vs Residuals.png\")\n",
    "plt.show()"
   ]
  },
  {
   "cell_type": "markdown",
   "id": "6f8b5a1f",
   "metadata": {},
   "source": [
    "# #Next Genre Horror "
   ]
  },
  {
   "cell_type": "code",
   "execution_count": 17,
   "id": "a17a6ebe",
   "metadata": {
    "scrolled": true
   },
   "outputs": [
    {
     "data": {
      "text/html": [
       "<div>\n",
       "<style scoped>\n",
       "    .dataframe tbody tr th:only-of-type {\n",
       "        vertical-align: middle;\n",
       "    }\n",
       "\n",
       "    .dataframe tbody tr th {\n",
       "        vertical-align: top;\n",
       "    }\n",
       "\n",
       "    .dataframe thead th {\n",
       "        text-align: right;\n",
       "    }\n",
       "</style>\n",
       "<table border=\"1\" class=\"dataframe\">\n",
       "  <thead>\n",
       "    <tr style=\"text-align: right;\">\n",
       "      <th></th>\n",
       "      <th>show_id</th>\n",
       "      <th>title</th>\n",
       "      <th>release_year</th>\n",
       "      <th>type</th>\n",
       "      <th>rating</th>\n",
       "      <th>country</th>\n",
       "      <th>genre</th>\n",
       "      <th>duration</th>\n",
       "    </tr>\n",
       "  </thead>\n",
       "  <tbody>\n",
       "    <tr>\n",
       "      <th>5</th>\n",
       "      <td>s29</td>\n",
       "      <td>Dark Skies</td>\n",
       "      <td>2013</td>\n",
       "      <td>Movie</td>\n",
       "      <td>PG-13</td>\n",
       "      <td>United States</td>\n",
       "      <td>Horror Movies</td>\n",
       "      <td>97.0</td>\n",
       "    </tr>\n",
       "    <tr>\n",
       "      <th>84</th>\n",
       "      <td>s230</td>\n",
       "      <td>The Old Ways</td>\n",
       "      <td>2020</td>\n",
       "      <td>Movie</td>\n",
       "      <td>R</td>\n",
       "      <td>United States</td>\n",
       "      <td>Horror Movies</td>\n",
       "      <td>90.0</td>\n",
       "    </tr>\n",
       "    <tr>\n",
       "      <th>99</th>\n",
       "      <td>s308</td>\n",
       "      <td>Aftermath</td>\n",
       "      <td>2021</td>\n",
       "      <td>Movie</td>\n",
       "      <td>R</td>\n",
       "      <td>United States</td>\n",
       "      <td>Horror Movies</td>\n",
       "      <td>115.0</td>\n",
       "    </tr>\n",
       "    <tr>\n",
       "      <th>125</th>\n",
       "      <td>s354</td>\n",
       "      <td>The Haunting in Connecticut 2: Ghosts of Georgia</td>\n",
       "      <td>2013</td>\n",
       "      <td>Movie</td>\n",
       "      <td>R</td>\n",
       "      <td>United States</td>\n",
       "      <td>Horror Movies</td>\n",
       "      <td>101.0</td>\n",
       "    </tr>\n",
       "    <tr>\n",
       "      <th>196</th>\n",
       "      <td>s608</td>\n",
       "      <td>The Strangers</td>\n",
       "      <td>2008</td>\n",
       "      <td>Movie</td>\n",
       "      <td>R</td>\n",
       "      <td>United States</td>\n",
       "      <td>Horror Movies</td>\n",
       "      <td>85.0</td>\n",
       "    </tr>\n",
       "  </tbody>\n",
       "</table>\n",
       "</div>"
      ],
      "text/plain": [
       "    show_id                                             title  release_year  \\\n",
       "5       s29                                        Dark Skies          2013   \n",
       "84     s230                                      The Old Ways          2020   \n",
       "99     s308                                         Aftermath          2021   \n",
       "125    s354  The Haunting in Connecticut 2: Ghosts of Georgia          2013   \n",
       "196    s608                                     The Strangers          2008   \n",
       "\n",
       "      type rating        country          genre  duration  \n",
       "5    Movie  PG-13  United States  Horror Movies      97.0  \n",
       "84   Movie      R  United States  Horror Movies      90.0  \n",
       "99   Movie      R  United States  Horror Movies     115.0  \n",
       "125  Movie      R  United States  Horror Movies     101.0  \n",
       "196  Movie      R  United States  Horror Movies      85.0  "
      ]
     },
     "execution_count": 17,
     "metadata": {},
     "output_type": "execute_result"
    }
   ],
   "source": [
    "# i am doing 3 different models based on country\n",
    "# United States \n",
    "genre = \"Horror Movies\"\n",
    "us_df = netflix_df.loc[(netflix_df['country'] == 'United States') & (netflix_df[\"genre\"]== genre)]\n",
    "us_df.head()\n"
   ]
  },
  {
   "cell_type": "code",
   "execution_count": 18,
   "id": "050f885b",
   "metadata": {},
   "outputs": [
    {
     "data": {
      "text/html": [
       "<div>\n",
       "<style scoped>\n",
       "    .dataframe tbody tr th:only-of-type {\n",
       "        vertical-align: middle;\n",
       "    }\n",
       "\n",
       "    .dataframe tbody tr th {\n",
       "        vertical-align: top;\n",
       "    }\n",
       "\n",
       "    .dataframe thead th {\n",
       "        text-align: right;\n",
       "    }\n",
       "</style>\n",
       "<table border=\"1\" class=\"dataframe\">\n",
       "  <thead>\n",
       "    <tr style=\"text-align: right;\">\n",
       "      <th></th>\n",
       "      <th>release_year</th>\n",
       "      <th>duration</th>\n",
       "    </tr>\n",
       "  </thead>\n",
       "  <tbody>\n",
       "    <tr>\n",
       "      <th>release_year</th>\n",
       "      <td>1.000000</td>\n",
       "      <td>-0.419318</td>\n",
       "    </tr>\n",
       "    <tr>\n",
       "      <th>duration</th>\n",
       "      <td>-0.419318</td>\n",
       "      <td>1.000000</td>\n",
       "    </tr>\n",
       "  </tbody>\n",
       "</table>\n",
       "</div>"
      ],
      "text/plain": [
       "              release_year  duration\n",
       "release_year      1.000000 -0.419318\n",
       "duration         -0.419318  1.000000"
      ]
     },
     "execution_count": 18,
     "metadata": {},
     "output_type": "execute_result"
    }
   ],
   "source": [
    "#using hmk 5\n",
    "corrs=us_df.corr()\n",
    "corrs"
   ]
  },
  {
   "cell_type": "code",
   "execution_count": 19,
   "id": "15ab8180",
   "metadata": {},
   "outputs": [
    {
     "data": {
      "image/png": "[encoded data removed]",
      "text/plain": [
       "<Figure size 432x288 with 2 Axes>"
      ]
     },
     "metadata": {
      "needs_background": "light"
     },
     "output_type": "display_data"
    }
   ],
   "source": [
    "sns.heatmap(corrs, cmap = \"binary\")\n",
    "plt.title(\"US Horror Correlation Heat Map\",fontsize = 18, fontweight = \"bold\",fontname=\"Verdana\", color = \"#E50914\")\n",
    "plt.savefig(\"FIG 1.US Horror Correlation Heat map.png\")\n",
    "plt.show()"
   ]
  },
  {
   "cell_type": "code",
   "execution_count": 20,
   "id": "94c75bc1",
   "metadata": {},
   "outputs": [],
   "source": [
    "# ValueError: '#0A0903' is not a valid value for name; supported values are 'Accent', 'Accent_r', 'Blues', 'Blues_r', 'BrBG', 'BrBG_r', 'BuGn', 'BuGn_r', 'BuPu', 'BuPu_r', 'CMRmap', 'CMRmap_r', 'Dark2', 'Dark2_r', 'GnBu', 'GnBu_r', 'Greens', 'Greens_r', 'Greys', 'Greys_r', 'OrRd', 'OrRd_r', 'Oranges', 'Oranges_r', 'PRGn', 'PRGn_r', 'Paired', 'Paired_r', 'Pastel1', 'Pastel1_r', 'Pastel2', 'Pastel2_r', 'PiYG', 'PiYG_r', 'PuBu', 'PuBuGn', 'PuBuGn_r', 'PuBu_r', 'PuOr', 'PuOr_r', 'PuRd', 'PuRd_r', 'Purples', 'Purples_r', 'RdBu', 'RdBu_r', 'RdGy', 'RdGy_r', 'RdPu', 'RdPu_r', 'RdYlBu', 'RdYlBu_r', 'RdYlGn', 'RdYlGn_r', 'Reds', 'Reds_r', 'Set1', 'Set1_r', 'Set2', 'Set2_r', 'Set3', 'Set3_r', 'Spectral', 'Spectral_r', 'Wistia', 'Wistia_r', 'YlGn', 'YlGnBu', 'YlGnBu_r', 'YlGn_r', 'YlOrBr', 'YlOrBr_r', 'YlOrRd', 'YlOrRd_r', 'afmhot', 'afmhot_r', 'autumn', 'autumn_r', 'binary', 'binary_r', 'bone', 'bone_r', 'brg', 'brg_r', 'bwr', 'bwr_r', 'cividis', 'cividis_r', 'cool', 'cool_r', 'coolwarm', 'coolwarm_r', 'copper', 'copper_r', 'crest', 'crest_r', 'cubehelix', 'cubehelix_r', 'flag', 'flag_r', 'flare', 'flare_r', 'gist_earth', 'gist_earth_r', 'gist_gray', 'gist_gray_r', 'gist_heat', 'gist_heat_r', 'gist_ncar', 'gist_ncar_r', 'gist_rainbow', 'gist_rainbow_r', 'gist_stern', 'gist_stern_r', 'gist_yarg', 'gist_yarg_r', 'gnuplot', 'gnuplot2', 'gnuplot2_r', 'gnuplot_r', 'gray', 'gray_r', 'hot', 'hot_r', 'hsv', 'hsv_r', 'icefire', 'icefire_r', 'inferno', 'inferno_r', 'jet', 'jet_r', 'magma', 'magma_r', 'mako', 'mako_r', 'nipy_spectral', 'nipy_spectral_r', 'ocean', 'ocean_r', 'pink', 'pink_r', 'plasma', 'plasma_r', 'prism', 'prism_r', 'rainbow', 'rainbow_r', 'rocket', 'rocket_r', 'seismic', 'seismic_r', 'spring', 'spring_r', 'summer', 'summer_r', 'tab10', 'tab10_r', 'tab20', 'tab20_r', 'tab20b', 'tab20b_r', 'tab20c', 'tab20c_r', 'terrain', 'terrain_r', 'turbo', 'turbo_r', 'twilight', 'twilight_r', 'twilight_shifted', 'twilight_shifted_r', 'viridis', 'viridis_r', 'vlag', 'vlag_r', 'winter', 'winter_r'\n",
    "#https://gallantlab.github.io/pycortex/colormaps.html"
   ]
  },
  {
   "cell_type": "code",
   "execution_count": 21,
   "id": "ab0c2360",
   "metadata": {},
   "outputs": [
    {
     "name": "stdout",
     "output_type": "stream",
     "text": [
      "The correlation between release year and duration is (-0.419317642760424, 1.5298562117561868e-06)\n"
     ]
    }
   ],
   "source": [
    "corr=(st.pearsonr(us_df['release_year'],us_df['duration']))\n",
    "corr\n",
    "print(f\"The correlation between release year and duration is {corr}\")"
   ]
  },
  {
   "cell_type": "code",
   "execution_count": 22,
   "id": "225355e4",
   "metadata": {},
   "outputs": [
    {
     "name": "stdout",
     "output_type": "stream",
     "text": [
      "The r-squared is: 0.17582728553015875\n"
     ]
    },
    {
     "data": {
      "image/png": "[encoded data removed]",
      "text/plain": [
       "<Figure size 432x288 with 1 Axes>"
      ]
     },
     "metadata": {
      "needs_background": "light"
     },
     "output_type": "display_data"
    }
   ],
   "source": [
    "#linear regression model like in class activity day 3 act 9\n",
    "\n",
    "x_values = us_df['release_year']\n",
    "y_values = us_df['duration']\n",
    "(slope, intercept, rvalue, pvalue, stderr) = linregress(x_values, y_values)\n",
    "regress_values = x_values * slope + intercept\n",
    "line_eq = \"y = \" + str(round(slope,2)) + \"x + \" + str(round(intercept,2))\n",
    "plt.scatter(x_values,y_values,color=\"#0A0903\",marker=\"o\")\n",
    "plt.plot(x_values,regress_values,\"r-\")\n",
    "plt.annotate(line_eq,(1996,75),fontsize=15,color=\"#0A0903\")\n",
    "plt.xlabel('Release year',fontsize = 14,fontweight = \"bold\",fontname=\"Verdana\")\n",
    "plt.ylabel('Duration (min)',fontsize = 14,fontweight = \"bold\",fontname=\"Verdana\")\n",
    "plt.title('US Horror: Release Year vs. Duration',fontsize = 20, fontweight = \"bold\",fontname=\"Verdana\", color = \"#E50914\")\n",
    "print(f\"The r-squared is: {rvalue**2}\")\n",
    "plt.savefig(\"FIG 2.US Horror Release Year vs. Duration.png\")\n",
    "plt.show()"
   ]
  },
  {
   "cell_type": "code",
   "execution_count": 23,
   "id": "f3726a7a",
   "metadata": {},
   "outputs": [
    {
     "name": "stderr",
     "output_type": "stream",
     "text": [
      "C:\\Users\\yvonne\\anaconda3\\lib\\site-packages\\statsmodels\\tsa\\tsatools.py:142: FutureWarning: In a future version of pandas all arguments of concat except for the argument 'objs' will be keyword-only\n",
      "  x = pd.concat(x[::order], 1)\n"
     ]
    },
    {
     "data": {
      "text/html": [
       "<table class=\"simpletable\">\n",
       "<caption>OLS Regression Results</caption>\n",
       "<tr>\n",
       "  <th>Dep. Variable:</th>        <td>duration</td>     <th>  R-squared:         </th> <td>   0.176</td>\n",
       "</tr>\n",
       "<tr>\n",
       "  <th>Model:</th>                   <td>OLS</td>       <th>  Adj. R-squared:    </th> <td>   0.169</td>\n",
       "</tr>\n",
       "<tr>\n",
       "  <th>Method:</th>             <td>Least Squares</td>  <th>  F-statistic:       </th> <td>   25.60</td>\n",
       "</tr>\n",
       "<tr>\n",
       "  <th>Date:</th>             <td>Fri, 11 Feb 2022</td> <th>  Prob (F-statistic):</th> <td>1.53e-06</td>\n",
       "</tr>\n",
       "<tr>\n",
       "  <th>Time:</th>                 <td>16:58:30</td>     <th>  Log-Likelihood:    </th> <td> -431.47</td>\n",
       "</tr>\n",
       "<tr>\n",
       "  <th>No. Observations:</th>      <td>   122</td>      <th>  AIC:               </th> <td>   866.9</td>\n",
       "</tr>\n",
       "<tr>\n",
       "  <th>Df Residuals:</th>          <td>   120</td>      <th>  BIC:               </th> <td>   872.5</td>\n",
       "</tr>\n",
       "<tr>\n",
       "  <th>Df Model:</th>              <td>     1</td>      <th>                     </th>     <td> </td>   \n",
       "</tr>\n",
       "<tr>\n",
       "  <th>Covariance Type:</th>      <td>nonrobust</td>    <th>                     </th>     <td> </td>   \n",
       "</tr>\n",
       "</table>\n",
       "<table class=\"simpletable\">\n",
       "<tr>\n",
       "        <td></td>          <th>coef</th>     <th>std err</th>      <th>t</th>      <th>P>|t|</th>  <th>[0.025</th>    <th>0.975]</th>  \n",
       "</tr>\n",
       "<tr>\n",
       "  <th>const</th>        <td> 1619.5923</td> <td>  301.780</td> <td>    5.367</td> <td> 0.000</td> <td> 1022.089</td> <td> 2217.096</td>\n",
       "</tr>\n",
       "<tr>\n",
       "  <th>release_year</th> <td>   -0.7579</td> <td>    0.150</td> <td>   -5.060</td> <td> 0.000</td> <td>   -1.054</td> <td>   -0.461</td>\n",
       "</tr>\n",
       "</table>\n",
       "<table class=\"simpletable\">\n",
       "<tr>\n",
       "  <th>Omnibus:</th>       <td> 8.344</td> <th>  Durbin-Watson:     </th> <td>   1.941</td>\n",
       "</tr>\n",
       "<tr>\n",
       "  <th>Prob(Omnibus):</th> <td> 0.015</td> <th>  Jarque-Bera (JB):  </th> <td>   8.111</td>\n",
       "</tr>\n",
       "<tr>\n",
       "  <th>Skew:</th>          <td> 0.555</td> <th>  Prob(JB):          </th> <td>  0.0173</td>\n",
       "</tr>\n",
       "<tr>\n",
       "  <th>Kurtosis:</th>      <td> 3.603</td> <th>  Cond. No.          </th> <td>8.01e+05</td>\n",
       "</tr>\n",
       "</table><br/><br/>Notes:<br/>[1] Standard Errors assume that the covariance matrix of the errors is correctly specified.<br/>[2] The condition number is large, 8.01e+05. This might indicate that there are<br/>strong multicollinearity or other numerical problems."
      ],
      "text/plain": [
       "<class 'statsmodels.iolib.summary.Summary'>\n",
       "\"\"\"\n",
       "                            OLS Regression Results                            \n",
       "==============================================================================\n",
       "Dep. Variable:               duration   R-squared:                       0.176\n",
       "Model:                            OLS   Adj. R-squared:                  0.169\n",
       "Method:                 Least Squares   F-statistic:                     25.60\n",
       "Date:                Fri, 11 Feb 2022   Prob (F-statistic):           1.53e-06\n",
       "Time:                        16:58:30   Log-Likelihood:                -431.47\n",
       "No. Observations:                 122   AIC:                             866.9\n",
       "Df Residuals:                     120   BIC:                             872.5\n",
       "Df Model:                           1                                         \n",
       "Covariance Type:            nonrobust                                         \n",
       "================================================================================\n",
       "                   coef    std err          t      P>|t|      [0.025      0.975]\n",
       "--------------------------------------------------------------------------------\n",
       "const         1619.5923    301.780      5.367      0.000    1022.089    2217.096\n",
       "release_year    -0.7579      0.150     -5.060      0.000      -1.054      -0.461\n",
       "==============================================================================\n",
       "Omnibus:                        8.344   Durbin-Watson:                   1.941\n",
       "Prob(Omnibus):                  0.015   Jarque-Bera (JB):                8.111\n",
       "Skew:                           0.555   Prob(JB):                       0.0173\n",
       "Kurtosis:                       3.603   Cond. No.                     8.01e+05\n",
       "==============================================================================\n",
       "\n",
       "Notes:\n",
       "[1] Standard Errors assume that the covariance matrix of the errors is correctly specified.\n",
       "[2] The condition number is large, 8.01e+05. This might indicate that there are\n",
       "strong multicollinearity or other numerical problems.\n",
       "\"\"\""
      ]
     },
     "execution_count": 23,
     "metadata": {},
     "output_type": "execute_result"
    }
   ],
   "source": [
    "feature = us_df[[\"release_year\"]]\n",
    "target = us_df[\"duration\"]\n",
    "\n",
    "# STATSMODELS\n",
    "X = sm.add_constant(feature)\n",
    "Y = target\n",
    "\n",
    "model = sm.OLS(Y,X)\n",
    "results = model.fit()\n",
    "results.summary()"
   ]
  },
  {
   "cell_type": "code",
   "execution_count": 24,
   "id": "c18432e9",
   "metadata": {},
   "outputs": [],
   "source": [
    "# both my r2 are the same and my coeficcients"
   ]
  },
  {
   "cell_type": "code",
   "execution_count": 25,
   "id": "5624948d",
   "metadata": {},
   "outputs": [
    {
     "name": "stdout",
     "output_type": "stream",
     "text": [
      "[-0.75786519]\n",
      "1619.5923296049596\n"
     ]
    }
   ],
   "source": [
    "#SCIKIT_Learn\n",
    "reg = LinearRegression()\n",
    "reg.fit(np.array(feature), np.array(target))\n",
    "print(reg.coef_)\n",
    "print(reg.intercept_)"
   ]
  },
  {
   "cell_type": "code",
   "execution_count": 26,
   "id": "61fcbe7a",
   "metadata": {},
   "outputs": [],
   "source": [
    "from sklearn.metrics import r2_score, mean_squared_error, mean_absolute_error"
   ]
  },
  {
   "cell_type": "code",
   "execution_count": 27,
   "id": "a5142699",
   "metadata": {},
   "outputs": [
    {
     "name": "stdout",
     "output_type": "stream",
     "text": [
      "R2: 0.17582728553015847\n",
      "MSE: 69.08548595559056\n",
      "RMSE: 8.31176791997891\n",
      "MAE: 6.40469504460793\n"
     ]
    }
   ],
   "source": [
    "actual = us_df[\"duration\"]\n",
    "predictions = reg.predict(us_df[\"release_year\"].values.reshape(-1, 1))\n",
    "\n",
    "r2 = r2_score(actual, predictions)\n",
    "mse = mean_squared_error(actual, predictions)\n",
    "mae = mean_absolute_error(actual, predictions)\n",
    "\n",
    "print(f\"R2: {r2}\")\n",
    "print(f\"MSE: {mse}\")\n",
    "print(f\"RMSE: {np.sqrt(mse)}\")\n",
    "print(f\"MAE: {mae}\")"
   ]
  },
  {
   "cell_type": "code",
   "execution_count": 28,
   "id": "10f24a3f",
   "metadata": {},
   "outputs": [
    {
     "data": {
      "image/png": "[encoded data removed]",
      "text/plain": [
       "<Figure size 360x360 with 1 Axes>"
      ]
     },
     "metadata": {
      "needs_background": "light"
     },
     "output_type": "display_data"
    }
   ],
   "source": [
    "#questions about this one\n",
    "plt.figure(figsize=(5,5))\n",
    "\n",
    "plt.scatter(predictions, actual, c=\"black\")\n",
    "plt.plot(actual, actual,color=\"#E50914\", )\n",
    "\n",
    "plt.xlabel(\"Predicted\",fontsize = 14,fontweight = \"bold\",fontname=\"Verdana\")\n",
    "plt.ylabel(\"Actual\",fontsize = 14,fontweight = \"bold\",fontname=\"Verdana\")\n",
    "plt.title(\"US Horror: Predicted vs Actual\", fontsize = 20, fontweight = \"bold\",fontname=\"Verdana\", color = \"#E50914\")\n",
    "plt.savefig(\"FIG 3.US Horror Predicted vs Actual.png\")\n",
    "plt.show()"
   ]
  },
  {
   "cell_type": "code",
   "execution_count": 29,
   "id": "8f932356",
   "metadata": {},
   "outputs": [
    {
     "data": {
      "image/png": "[encoded data removed]",
      "text/plain": [
       "<Figure size 360x360 with 1 Axes>"
      ]
     },
     "metadata": {
      "needs_background": "light"
     },
     "output_type": "display_data"
    }
   ],
   "source": [
    "residuals = predictions - actual\n",
    "\n",
    "plt.figure(figsize=(5,5))\n",
    "\n",
    "plt.scatter(predictions, residuals,c=\"black\")\n",
    "plt.hlines(0, -10, 150,color=\"#E50914\")\n",
    "\n",
    "plt.xlabel(\"Predicted\",fontsize = 14,fontweight = \"bold\",fontname=\"Verdana\")\n",
    "plt.ylabel(\"Residuals\",fontsize = 14,fontweight = \"bold\",fontname=\"Verdana\")\n",
    "plt.title(\"US Horror: Predicted vs Residuals\", fontsize = 20, fontweight = \"bold\",fontname=\"Verdana\", color = \"#E50914\")\n",
    "plt.savefig(\"FIG 4.US Horror Predicted vs Residuals.png\")\n",
    "plt.show()"
   ]
  },
  {
   "cell_type": "markdown",
   "id": "fabc8153",
   "metadata": {},
   "source": [
    "# #Next Genre Action and Adventure"
   ]
  },
  {
   "cell_type": "code",
   "execution_count": 30,
   "id": "944944f2",
   "metadata": {},
   "outputs": [
    {
     "data": {
      "text/html": [
       "<div>\n",
       "<style scoped>\n",
       "    .dataframe tbody tr th:only-of-type {\n",
       "        vertical-align: middle;\n",
       "    }\n",
       "\n",
       "    .dataframe tbody tr th {\n",
       "        vertical-align: top;\n",
       "    }\n",
       "\n",
       "    .dataframe thead th {\n",
       "        text-align: right;\n",
       "    }\n",
       "</style>\n",
       "<table border=\"1\" class=\"dataframe\">\n",
       "  <thead>\n",
       "    <tr style=\"text-align: right;\">\n",
       "      <th></th>\n",
       "      <th>show_id</th>\n",
       "      <th>title</th>\n",
       "      <th>release_year</th>\n",
       "      <th>type</th>\n",
       "      <th>rating</th>\n",
       "      <th>country</th>\n",
       "      <th>genre</th>\n",
       "      <th>duration</th>\n",
       "    </tr>\n",
       "  </thead>\n",
       "  <tbody>\n",
       "    <tr>\n",
       "      <th>7</th>\n",
       "      <td>s42</td>\n",
       "      <td>Jaws</td>\n",
       "      <td>1975</td>\n",
       "      <td>Movie</td>\n",
       "      <td>PG</td>\n",
       "      <td>United States</td>\n",
       "      <td>Action &amp; Adventure</td>\n",
       "      <td>124.0</td>\n",
       "    </tr>\n",
       "    <tr>\n",
       "      <th>9</th>\n",
       "      <td>s44</td>\n",
       "      <td>Jaws 3</td>\n",
       "      <td>1983</td>\n",
       "      <td>Movie</td>\n",
       "      <td>PG</td>\n",
       "      <td>United States</td>\n",
       "      <td>Action &amp; Adventure</td>\n",
       "      <td>98.0</td>\n",
       "    </tr>\n",
       "    <tr>\n",
       "      <th>10</th>\n",
       "      <td>s45</td>\n",
       "      <td>Jaws: The Revenge</td>\n",
       "      <td>1987</td>\n",
       "      <td>Movie</td>\n",
       "      <td>PG-13</td>\n",
       "      <td>United States</td>\n",
       "      <td>Action &amp; Adventure</td>\n",
       "      <td>91.0</td>\n",
       "    </tr>\n",
       "    <tr>\n",
       "      <th>12</th>\n",
       "      <td>s82</td>\n",
       "      <td>Kate</td>\n",
       "      <td>2021</td>\n",
       "      <td>Movie</td>\n",
       "      <td>R</td>\n",
       "      <td>United States</td>\n",
       "      <td>Action &amp; Adventure</td>\n",
       "      <td>106.0</td>\n",
       "    </tr>\n",
       "    <tr>\n",
       "      <th>26</th>\n",
       "      <td>s132</td>\n",
       "      <td>Blade Runner: The Final Cut</td>\n",
       "      <td>1982</td>\n",
       "      <td>Movie</td>\n",
       "      <td>R</td>\n",
       "      <td>United States</td>\n",
       "      <td>Action &amp; Adventure</td>\n",
       "      <td>117.0</td>\n",
       "    </tr>\n",
       "  </tbody>\n",
       "</table>\n",
       "</div>"
      ],
      "text/plain": [
       "   show_id                        title  release_year   type rating  \\\n",
       "7      s42                         Jaws          1975  Movie     PG   \n",
       "9      s44                       Jaws 3          1983  Movie     PG   \n",
       "10     s45            Jaws: The Revenge          1987  Movie  PG-13   \n",
       "12     s82                         Kate          2021  Movie      R   \n",
       "26    s132  Blade Runner: The Final Cut          1982  Movie      R   \n",
       "\n",
       "          country               genre  duration  \n",
       "7   United States  Action & Adventure     124.0  \n",
       "9   United States  Action & Adventure      98.0  \n",
       "10  United States  Action & Adventure      91.0  \n",
       "12  United States  Action & Adventure     106.0  \n",
       "26  United States  Action & Adventure     117.0  "
      ]
     },
     "execution_count": 30,
     "metadata": {},
     "output_type": "execute_result"
    }
   ],
   "source": [
    "# i am doing 3 different models based on country\n",
    "# United States \n",
    "genre = \"Action & Adventure\"\n",
    "us_df = netflix_df.loc[(netflix_df['country'] == 'United States') & (netflix_df[\"genre\"]== genre)]\n",
    "us_df.head()"
   ]
  },
  {
   "cell_type": "code",
   "execution_count": 31,
   "id": "dcd35cf4",
   "metadata": {},
   "outputs": [
    {
     "data": {
      "text/html": [
       "<div>\n",
       "<style scoped>\n",
       "    .dataframe tbody tr th:only-of-type {\n",
       "        vertical-align: middle;\n",
       "    }\n",
       "\n",
       "    .dataframe tbody tr th {\n",
       "        vertical-align: top;\n",
       "    }\n",
       "\n",
       "    .dataframe thead th {\n",
       "        text-align: right;\n",
       "    }\n",
       "</style>\n",
       "<table border=\"1\" class=\"dataframe\">\n",
       "  <thead>\n",
       "    <tr style=\"text-align: right;\">\n",
       "      <th></th>\n",
       "      <th>release_year</th>\n",
       "      <th>duration</th>\n",
       "    </tr>\n",
       "  </thead>\n",
       "  <tbody>\n",
       "    <tr>\n",
       "      <th>release_year</th>\n",
       "      <td>1.00000</td>\n",
       "      <td>-0.23341</td>\n",
       "    </tr>\n",
       "    <tr>\n",
       "      <th>duration</th>\n",
       "      <td>-0.23341</td>\n",
       "      <td>1.00000</td>\n",
       "    </tr>\n",
       "  </tbody>\n",
       "</table>\n",
       "</div>"
      ],
      "text/plain": [
       "              release_year  duration\n",
       "release_year       1.00000  -0.23341\n",
       "duration          -0.23341   1.00000"
      ]
     },
     "execution_count": 31,
     "metadata": {},
     "output_type": "execute_result"
    }
   ],
   "source": [
    "#using hmk 5\n",
    "corrs=us_df.corr()\n",
    "corrs"
   ]
  },
  {
   "cell_type": "code",
   "execution_count": 32,
   "id": "d4e37fc0",
   "metadata": {},
   "outputs": [
    {
     "data": {
      "image/png": "[encoded data removed]",
      "text/plain": [
       "<Figure size 432x288 with 2 Axes>"
      ]
     },
     "metadata": {
      "needs_background": "light"
     },
     "output_type": "display_data"
    }
   ],
   "source": [
    "sns.heatmap(corrs, cmap = \"binary\")\n",
    "plt.title(\"US A&A Correlation Heat map\",fontsize = 18, fontweight = \"bold\",fontname=\"Verdana\", color = \"#E50914\")\n",
    "plt.savefig(\"FIG 1.US A&A Correlation Heat Map.png\")\n",
    "plt.show()"
   ]
  },
  {
   "cell_type": "code",
   "execution_count": 33,
   "id": "07c69363",
   "metadata": {},
   "outputs": [],
   "source": [
    "# ValueError: '#0A0903' is not a valid value for name; supported values are 'Accent', 'Accent_r', 'Blues', 'Blues_r', 'BrBG', 'BrBG_r', 'BuGn', 'BuGn_r', 'BuPu', 'BuPu_r', 'CMRmap', 'CMRmap_r', 'Dark2', 'Dark2_r', 'GnBu', 'GnBu_r', 'Greens', 'Greens_r', 'Greys', 'Greys_r', 'OrRd', 'OrRd_r', 'Oranges', 'Oranges_r', 'PRGn', 'PRGn_r', 'Paired', 'Paired_r', 'Pastel1', 'Pastel1_r', 'Pastel2', 'Pastel2_r', 'PiYG', 'PiYG_r', 'PuBu', 'PuBuGn', 'PuBuGn_r', 'PuBu_r', 'PuOr', 'PuOr_r', 'PuRd', 'PuRd_r', 'Purples', 'Purples_r', 'RdBu', 'RdBu_r', 'RdGy', 'RdGy_r', 'RdPu', 'RdPu_r', 'RdYlBu', 'RdYlBu_r', 'RdYlGn', 'RdYlGn_r', 'Reds', 'Reds_r', 'Set1', 'Set1_r', 'Set2', 'Set2_r', 'Set3', 'Set3_r', 'Spectral', 'Spectral_r', 'Wistia', 'Wistia_r', 'YlGn', 'YlGnBu', 'YlGnBu_r', 'YlGn_r', 'YlOrBr', 'YlOrBr_r', 'YlOrRd', 'YlOrRd_r', 'afmhot', 'afmhot_r', 'autumn', 'autumn_r', 'binary', 'binary_r', 'bone', 'bone_r', 'brg', 'brg_r', 'bwr', 'bwr_r', 'cividis', 'cividis_r', 'cool', 'cool_r', 'coolwarm', 'coolwarm_r', 'copper', 'copper_r', 'crest', 'crest_r', 'cubehelix', 'cubehelix_r', 'flag', 'flag_r', 'flare', 'flare_r', 'gist_earth', 'gist_earth_r', 'gist_gray', 'gist_gray_r', 'gist_heat', 'gist_heat_r', 'gist_ncar', 'gist_ncar_r', 'gist_rainbow', 'gist_rainbow_r', 'gist_stern', 'gist_stern_r', 'gist_yarg', 'gist_yarg_r', 'gnuplot', 'gnuplot2', 'gnuplot2_r', 'gnuplot_r', 'gray', 'gray_r', 'hot', 'hot_r', 'hsv', 'hsv_r', 'icefire', 'icefire_r', 'inferno', 'inferno_r', 'jet', 'jet_r', 'magma', 'magma_r', 'mako', 'mako_r', 'nipy_spectral', 'nipy_spectral_r', 'ocean', 'ocean_r', 'pink', 'pink_r', 'plasma', 'plasma_r', 'prism', 'prism_r', 'rainbow', 'rainbow_r', 'rocket', 'rocket_r', 'seismic', 'seismic_r', 'spring', 'spring_r', 'summer', 'summer_r', 'tab10', 'tab10_r', 'tab20', 'tab20_r', 'tab20b', 'tab20b_r', 'tab20c', 'tab20c_r', 'terrain', 'terrain_r', 'turbo', 'turbo_r', 'twilight', 'twilight_r', 'twilight_shifted', 'twilight_shifted_r', 'viridis', 'viridis_r', 'vlag', 'vlag_r', 'winter', 'winter_r'\n",
    "#https://gallantlab.github.io/pycortex/colormaps.html"
   ]
  },
  {
   "cell_type": "code",
   "execution_count": 34,
   "id": "830d408b",
   "metadata": {},
   "outputs": [
    {
     "name": "stdout",
     "output_type": "stream",
     "text": [
      "The correlation between release year and duration is (-0.23340955134491032, 2.399499566369145e-05)\n"
     ]
    }
   ],
   "source": [
    "corr=(st.pearsonr(us_df['release_year'],us_df['duration']))\n",
    "corr\n",
    "print(f\"The correlation between release year and duration is {corr}\")"
   ]
  },
  {
   "cell_type": "code",
   "execution_count": 35,
   "id": "02d435af",
   "metadata": {},
   "outputs": [
    {
     "name": "stdout",
     "output_type": "stream",
     "text": [
      "The r-squared is: 0.05448001865903222\n"
     ]
    },
    {
     "data": {
      "image/png": "[encoded data removed]",
      "text/plain": [
       "<Figure size 432x288 with 1 Axes>"
      ]
     },
     "metadata": {
      "needs_background": "light"
     },
     "output_type": "display_data"
    }
   ],
   "source": [
    "#linear regression model like in class activity day 3 act 9\n",
    "\n",
    "x_values = us_df['release_year']\n",
    "y_values = us_df['duration']\n",
    "(slope, intercept, rvalue, pvalue, stderr) = linregress(x_values, y_values)\n",
    "regress_values = x_values * slope + intercept\n",
    "line_eq = \"y = \" + str(round(slope,2)) + \"x + \" + str(round(intercept,2))\n",
    "plt.scatter(x_values,y_values,color=\"#0A0903\",marker=\"o\")\n",
    "plt.plot(x_values,regress_values,\"r-\")\n",
    "plt.annotate(line_eq,(1960,60),fontsize=15,color=\"#0A0903\")\n",
    "plt.xlabel('Release year',fontsize = 14,fontweight = \"bold\",fontname=\"Verdana\")\n",
    "plt.ylabel('Duration (min)',fontsize = 14,fontweight = \"bold\",fontname=\"Verdana\")\n",
    "plt.title('US A&A: Release Year vs. Duration',fontsize = 20, fontweight = \"bold\",fontname=\"Verdana\", color = \"#E50914\")\n",
    "print(f\"The r-squared is: {rvalue**2}\")\n",
    "plt.savefig(\"FIG 2.US A&A Release Year vs. Duration.png\")\n",
    "plt.show()"
   ]
  },
  {
   "cell_type": "code",
   "execution_count": 36,
   "id": "c148a5eb",
   "metadata": {},
   "outputs": [
    {
     "name": "stderr",
     "output_type": "stream",
     "text": [
      "C:\\Users\\yvonne\\anaconda3\\lib\\site-packages\\statsmodels\\tsa\\tsatools.py:142: FutureWarning: In a future version of pandas all arguments of concat except for the argument 'objs' will be keyword-only\n",
      "  x = pd.concat(x[::order], 1)\n"
     ]
    },
    {
     "data": {
      "text/html": [
       "<table class=\"simpletable\">\n",
       "<caption>OLS Regression Results</caption>\n",
       "<tr>\n",
       "  <th>Dep. Variable:</th>        <td>duration</td>     <th>  R-squared:         </th> <td>   0.054</td>\n",
       "</tr>\n",
       "<tr>\n",
       "  <th>Model:</th>                   <td>OLS</td>       <th>  Adj. R-squared:    </th> <td>   0.052</td>\n",
       "</tr>\n",
       "<tr>\n",
       "  <th>Method:</th>             <td>Least Squares</td>  <th>  F-statistic:       </th> <td>   18.38</td>\n",
       "</tr>\n",
       "<tr>\n",
       "  <th>Date:</th>             <td>Fri, 11 Feb 2022</td> <th>  Prob (F-statistic):</th> <td>2.40e-05</td>\n",
       "</tr>\n",
       "<tr>\n",
       "  <th>Time:</th>                 <td>16:58:32</td>     <th>  Log-Likelihood:    </th> <td> -1395.4</td>\n",
       "</tr>\n",
       "<tr>\n",
       "  <th>No. Observations:</th>      <td>   321</td>      <th>  AIC:               </th> <td>   2795.</td>\n",
       "</tr>\n",
       "<tr>\n",
       "  <th>Df Residuals:</th>          <td>   319</td>      <th>  BIC:               </th> <td>   2802.</td>\n",
       "</tr>\n",
       "<tr>\n",
       "  <th>Df Model:</th>              <td>     1</td>      <th>                     </th>     <td> </td>   \n",
       "</tr>\n",
       "<tr>\n",
       "  <th>Covariance Type:</th>      <td>nonrobust</td>    <th>                     </th>     <td> </td>   \n",
       "</tr>\n",
       "</table>\n",
       "<table class=\"simpletable\">\n",
       "<tr>\n",
       "        <td></td>          <th>coef</th>     <th>std err</th>      <th>t</th>      <th>P>|t|</th>  <th>[0.025</th>    <th>0.975]</th>  \n",
       "</tr>\n",
       "<tr>\n",
       "  <th>const</th>        <td>  860.0160</td> <td>  175.316</td> <td>    4.906</td> <td> 0.000</td> <td>  515.094</td> <td> 1204.938</td>\n",
       "</tr>\n",
       "<tr>\n",
       "  <th>release_year</th> <td>   -0.3743</td> <td>    0.087</td> <td>   -4.287</td> <td> 0.000</td> <td>   -0.546</td> <td>   -0.203</td>\n",
       "</tr>\n",
       "</table>\n",
       "<table class=\"simpletable\">\n",
       "<tr>\n",
       "  <th>Omnibus:</th>       <td>59.585</td> <th>  Durbin-Watson:     </th> <td>   1.928</td>\n",
       "</tr>\n",
       "<tr>\n",
       "  <th>Prob(Omnibus):</th> <td> 0.000</td> <th>  Jarque-Bera (JB):  </th> <td> 100.087</td>\n",
       "</tr>\n",
       "<tr>\n",
       "  <th>Skew:</th>          <td> 1.060</td> <th>  Prob(JB):          </th> <td>1.85e-22</td>\n",
       "</tr>\n",
       "<tr>\n",
       "  <th>Kurtosis:</th>      <td> 4.730</td> <th>  Cond. No.          </th> <td>3.36e+05</td>\n",
       "</tr>\n",
       "</table><br/><br/>Notes:<br/>[1] Standard Errors assume that the covariance matrix of the errors is correctly specified.<br/>[2] The condition number is large, 3.36e+05. This might indicate that there are<br/>strong multicollinearity or other numerical problems."
      ],
      "text/plain": [
       "<class 'statsmodels.iolib.summary.Summary'>\n",
       "\"\"\"\n",
       "                            OLS Regression Results                            \n",
       "==============================================================================\n",
       "Dep. Variable:               duration   R-squared:                       0.054\n",
       "Model:                            OLS   Adj. R-squared:                  0.052\n",
       "Method:                 Least Squares   F-statistic:                     18.38\n",
       "Date:                Fri, 11 Feb 2022   Prob (F-statistic):           2.40e-05\n",
       "Time:                        16:58:32   Log-Likelihood:                -1395.4\n",
       "No. Observations:                 321   AIC:                             2795.\n",
       "Df Residuals:                     319   BIC:                             2802.\n",
       "Df Model:                           1                                         \n",
       "Covariance Type:            nonrobust                                         \n",
       "================================================================================\n",
       "                   coef    std err          t      P>|t|      [0.025      0.975]\n",
       "--------------------------------------------------------------------------------\n",
       "const          860.0160    175.316      4.906      0.000     515.094    1204.938\n",
       "release_year    -0.3743      0.087     -4.287      0.000      -0.546      -0.203\n",
       "==============================================================================\n",
       "Omnibus:                       59.585   Durbin-Watson:                   1.928\n",
       "Prob(Omnibus):                  0.000   Jarque-Bera (JB):              100.087\n",
       "Skew:                           1.060   Prob(JB):                     1.85e-22\n",
       "Kurtosis:                       4.730   Cond. No.                     3.36e+05\n",
       "==============================================================================\n",
       "\n",
       "Notes:\n",
       "[1] Standard Errors assume that the covariance matrix of the errors is correctly specified.\n",
       "[2] The condition number is large, 3.36e+05. This might indicate that there are\n",
       "strong multicollinearity or other numerical problems.\n",
       "\"\"\""
      ]
     },
     "execution_count": 36,
     "metadata": {},
     "output_type": "execute_result"
    }
   ],
   "source": [
    "feature = us_df[[\"release_year\"]]\n",
    "target = us_df[\"duration\"]\n",
    "\n",
    "# STATSMODELS\n",
    "X = sm.add_constant(feature)\n",
    "Y = target\n",
    "\n",
    "model = sm.OLS(Y,X)\n",
    "results = model.fit()\n",
    "results.summary()"
   ]
  },
  {
   "cell_type": "code",
   "execution_count": 37,
   "id": "30ca5b82",
   "metadata": {},
   "outputs": [],
   "source": [
    "# both my r2 are the same and my coeficcients"
   ]
  },
  {
   "cell_type": "code",
   "execution_count": 38,
   "id": "359b369e",
   "metadata": {},
   "outputs": [
    {
     "name": "stdout",
     "output_type": "stream",
     "text": [
      "[-0.37433151]\n",
      "860.0160057237797\n"
     ]
    }
   ],
   "source": [
    "#SCIKIT_Learn\n",
    "reg = LinearRegression()\n",
    "reg.fit(np.array(feature), np.array(target))\n",
    "print(reg.coef_)\n",
    "print(reg.intercept_)"
   ]
  },
  {
   "cell_type": "code",
   "execution_count": 39,
   "id": "299ca879",
   "metadata": {},
   "outputs": [],
   "source": [
    "from sklearn.metrics import r2_score, mean_squared_error, mean_absolute_error"
   ]
  },
  {
   "cell_type": "code",
   "execution_count": 40,
   "id": "9a73b7fe",
   "metadata": {},
   "outputs": [
    {
     "name": "stdout",
     "output_type": "stream",
     "text": [
      "R2: 0.05448001865903207\n",
      "MSE: 349.3986526893522\n",
      "RMSE: 18.692208341695537\n",
      "MAE: 14.111974842919325\n"
     ]
    }
   ],
   "source": [
    "actual = us_df[\"duration\"]\n",
    "predictions = reg.predict(us_df[\"release_year\"].values.reshape(-1, 1))\n",
    "\n",
    "r2 = r2_score(actual, predictions)\n",
    "mse = mean_squared_error(actual, predictions)\n",
    "mae = mean_absolute_error(actual, predictions)\n",
    "\n",
    "print(f\"R2: {r2}\")\n",
    "print(f\"MSE: {mse}\")\n",
    "print(f\"RMSE: {np.sqrt(mse)}\")\n",
    "print(f\"MAE: {mae}\")"
   ]
  },
  {
   "cell_type": "code",
   "execution_count": 41,
   "id": "a733c6e7",
   "metadata": {},
   "outputs": [
    {
     "data": {
      "image/png": "[encoded data removed]",
      "text/plain": [
       "<Figure size 360x360 with 1 Axes>"
      ]
     },
     "metadata": {
      "needs_background": "light"
     },
     "output_type": "display_data"
    }
   ],
   "source": [
    "#questions about this one\n",
    "plt.figure(figsize=(5,5))\n",
    "\n",
    "plt.scatter(predictions, actual, c=\"black\")\n",
    "plt.plot(actual, actual,color=\"#E50914\", )\n",
    "\n",
    "plt.xlabel(\"Predicted\",fontsize = 14,fontweight = \"bold\",fontname=\"Verdana\")\n",
    "plt.ylabel(\"Actual\",fontsize = 14,fontweight = \"bold\",fontname=\"Verdana\")\n",
    "plt.title(\"US A&A: Predicted vs Actual\", fontsize = 20, fontweight = \"bold\",fontname=\"Verdana\", color = \"#E50914\")\n",
    "plt.savefig(\"FIG 3.US A&A Predicted vs Actual.png\")\n",
    "plt.show()"
   ]
  },
  {
   "cell_type": "code",
   "execution_count": 42,
   "id": "0f587252",
   "metadata": {},
   "outputs": [
    {
     "data": {
      "image/png": "[encoded data removed]",
      "text/plain": [
       "<Figure size 360x360 with 1 Axes>"
      ]
     },
     "metadata": {
      "needs_background": "light"
     },
     "output_type": "display_data"
    }
   ],
   "source": [
    "residuals = predictions - actual\n",
    "\n",
    "plt.figure(figsize=(5,5))\n",
    "\n",
    "plt.scatter(predictions, residuals,c=\"black\")\n",
    "plt.hlines(0,-10, 150,color=\"#E50914\")\n",
    "\n",
    "plt.xlabel(\"Predicted\",fontsize = 14,fontweight = \"bold\",fontname=\"Verdana\")\n",
    "plt.ylabel(\"Residuals\",fontsize = 14,fontweight = \"bold\",fontname=\"Verdana\")\n",
    "plt.title(\"US A&A: Predicted vs Residuals\", fontsize = 20, fontweight = \"bold\",fontname=\"Verdana\", color = \"#E50914\")\n",
    "plt.savefig(\"FIG 4.US A&A Predicted vs Residuals.png\")\n",
    "plt.show()"
   ]
  },
  {
   "cell_type": "code",
   "execution_count": null,
   "id": "37ca78cc",
   "metadata": {},
   "outputs": [],
   "source": []
  }
 ],
 "metadata": {
  "kernelspec": {
   "display_name": "Python 3 (ipykernel)",
   "language": "python",
   "name": "python3"
  },
  "language_info": {
   "codemirror_mode": {
    "name": "ipython",
    "version": 3
   },
   "file_extension": ".py",
   "mimetype": "text/x-python",
   "name": "python",
   "nbconvert_exporter": "python",
   "pygments_lexer": "ipython3",
   "version": "3.9.7"
  }
 },
 "nbformat": 4,
 "nbformat_minor": 5
}
